{
 "cells": [
  {
   "cell_type": "code",
   "execution_count": 2,
   "metadata": {
    "collapsed": true
   },
   "outputs": [],
   "source": [
    "from pymongo import MongoClient"
   ]
  },
  {
   "cell_type": "code",
   "execution_count": 3,
   "metadata": {
    "collapsed": true
   },
   "outputs": [],
   "source": [
    "client = MongoClient('mongodb://scylla:30017')\n",
    "db = client.test_database\n",
    "collection = db.test_collection\n",
    "posts = db.posts"
   ]
  },
  {
   "cell_type": "code",
   "execution_count": 24,
   "metadata": {},
   "outputs": [
    {
     "data": {
      "text/plain": [
       "{'Author': 'Wolfie', 'Id': 1, 'Title': 'Dissecting capsnet'}"
      ]
     },
     "execution_count": 24,
     "metadata": {},
     "output_type": "execute_result"
    }
   ],
   "source": [
    "posts.find_one({}, {\"_id\":0})"
   ]
  },
  {
   "cell_type": "code",
   "execution_count": 22,
   "metadata": {},
   "outputs": [
    {
     "data": {
      "text/plain": [
       "1"
      ]
     },
     "execution_count": 22,
     "metadata": {},
     "output_type": "execute_result"
    }
   ],
   "source": [
    "posts.count()"
   ]
  },
  {
   "cell_type": "code",
   "execution_count": 20,
   "metadata": {},
   "outputs": [],
   "source": [
    "post1={\"Id\":1, \"Author\": \"Wolfie\", \"Title\": \"Dissecting capsnet\"}"
   ]
  },
  {
   "cell_type": "code",
   "execution_count": 21,
   "metadata": {},
   "outputs": [
    {
     "data": {
      "text/plain": [
       "<pymongo.results.InsertOneResult at 0x1031d1c88>"
      ]
     },
     "execution_count": 21,
     "metadata": {},
     "output_type": "execute_result"
    }
   ],
   "source": [
    "posts.insert_one(post1)"
   ]
  },
  {
   "cell_type": "code",
   "execution_count": 19,
   "metadata": {},
   "outputs": [
    {
     "data": {
      "text/plain": [
       "<pymongo.results.DeleteResult at 0x1031d1408>"
      ]
     },
     "execution_count": 19,
     "metadata": {},
     "output_type": "execute_result"
    }
   ],
   "source": [
    "posts.delete_many({\"Author\": \"Wolfie\"})"
   ]
  },
  {
   "cell_type": "code",
   "execution_count": 25,
   "metadata": {
    "collapsed": true
   },
   "outputs": [],
   "source": [
    "import os"
   ]
  },
  {
   "cell_type": "code",
   "execution_count": 26,
   "metadata": {},
   "outputs": [
    {
     "data": {
      "text/plain": [
       "environ({'PATH': '/Users/wgiersche/Project-Ellie/capsnet-fashion/ivenv/bin:/usr/local/bin:/usr/bin:/bin:/usr/sbin:/sbin:/opt/X11/bin:/Library/TeX/texbin:/usr/local/sbin:/Users/wgiersche/bin:/Users/wgiersche/workspace/gopro/bin:/usr/local/opt/go/libexec/bin:/Users/wgiersche/.rvm/bin:/usr/local/spark/spark-2.2.0-bin-hadoop2.7/bin/bin:/usr/local/spark/spark-notebook-0.9.0-SNAPSHOT-scala-2.11.8-spark-2.2.0-hadoop-2.7.3/bin:/Users/wgiersche/.rvm/bin:/usr/local/spark/spark-notebook-0.9.0-SNAPSHOT-scala-2.11.8-spark-2.2.0-hadoop-2.7.3-with-hive/bin:/usr/local/spark/spark-2.2.0-bin-hadoop2.7/bin', '_system_arch': 'x86_64', 'rvm_bin_path': '/Users/wgiersche/.rvm/bin', 'SPRING_PROFILES_ACTIVE': 'localhost', 'JAVA_HOME': '/Library/Java/JavaVirtualMachines/jdk1.8.0_25.jdk/Contents/Home', 'rvm_prefix': '/Users/wgiersche', 'DISCOVERY': 'http://localhost:8761', 'GOOGLE_APPLICATION_CREDENTIALS': '/Users/wgiersche/gce/GCE_ANOTHER_PROJECT.json', 'PS1': '(ivenv) ', 'DISPLAY': '/private/tmp/com.apple.launchd.7jGsa89dGa/org.macosforge.xquartz:0', 'rvm_loaded_flag': '1', 'SPARK_HOME': '/usr/local/spark/spark-2.2.0-bin-hadoop2.7', 'KOPS_STATE_STORE': 's3://fnfc-ninja-state-store', 'LOGNAME': 'wgiersche', 'WORKSPACE': '/Users/wgiersche/workspace', 'rvm_version': '1.29.2 (latest)', 'XPC_SERVICE_NAME': 'com.jetbrains.intellij.54752', 'PWD': '/Users/wgiersche/Project-Ellie/capsnet-fashion', 'PYCHARM_HOSTED': '1', 'SPARK_NOTEBOOK_HOME': '/usr/local/spark/spark-notebook-0.9.0-SNAPSHOT-scala-2.11.8-spark-2.2.0-hadoop-2.7.3-with-hive', 'PYTHONPATH': '/Users/wgiersche/Project-Ellie/capsnet-fashion', 'FNF_SERVER': 'localhost', 'rvm_user_install_flag': '1', 'SHELL': '/bin/bash', '_system_type': 'Darwin', 'PYTHONIOENCODING': 'UTF-8', 'GOPATH': '/Users/wgiersche/workspace/gopro', '_system_version': '10.11', 'USER': 'wgiersche', 'GOROOT': '/usr/local/opt/go/libexec', 'rvm_path': '/Users/wgiersche/.rvm', 'TMPDIR': '/var/folders/cy/7hf1bx3113n2tbn4fvbjx0pc0000gn/T/', 'NAME': 'cluster2.fnfc.ninja', 'rvm_stored_umask': '0022', 'SSH_AUTH_SOCK': '/private/tmp/com.apple.launchd.wkquLDsgTa/Listeners', 'VIRTUAL_ENV': '/Users/wgiersche/Project-Ellie/capsnet-fashion/ivenv', 'XPC_FLAGS': '0x0', 'PYTHONUNBUFFERED': '1', '_system_name': 'OSX', '__CF_USER_TEXT_ENCODING': '0x1F5:0x0:0x0', 'Apple_PubSub_Socket_Render': '/private/tmp/com.apple.launchd.gNXPf25CBI/Render', 'LC_CTYPE': 'en_US.UTF-8', 'CONFIG_SERVER': 'localhost', 'HOME': '/Users/wgiersche', 'JPY_PARENT_PID': '53278', 'TERM': 'xterm-color', 'CLICOLOR': '1', 'PAGER': 'cat', 'GIT_PAGER': 'cat', 'MPLBACKEND': 'module://ipykernel.pylab.backend_inline'})"
      ]
     },
     "execution_count": 26,
     "metadata": {},
     "output_type": "execute_result"
    }
   ],
   "source": [
    "os.environ"
   ]
  },
  {
   "cell_type": "code",
   "execution_count": 27,
   "metadata": {
    "collapsed": true
   },
   "outputs": [],
   "source": [
    "import logging"
   ]
  },
  {
   "cell_type": "code",
   "execution_count": null,
   "metadata": {
    "collapsed": true
   },
   "outputs": [],
   "source": []
  }
 ],
 "metadata": {
  "kernelspec": {
   "display_name": "Python 2",
   "language": "python",
   "name": "python2"
  },
  "language_info": {
   "codemirror_mode": {
    "name": "ipython",
    "version": 3
   },
   "file_extension": ".py",
   "mimetype": "text/x-python",
   "name": "python",
   "nbconvert_exporter": "python",
   "pygments_lexer": "ipython3",
   "version": "3.6.0"
  }
 },
 "nbformat": 4,
 "nbformat_minor": 1
}
