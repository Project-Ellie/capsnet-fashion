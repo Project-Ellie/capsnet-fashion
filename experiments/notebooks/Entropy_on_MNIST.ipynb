{
 "cells": [
  {
   "cell_type": "code",
   "execution_count": 2,
   "metadata": {},
   "outputs": [],
   "source": [
    "import numpy as np\n",
    "import os\n",
    "\n",
    "DATA_DIR = \"/var/ellie/data/mnist\""
   ]
  },
  {
   "cell_type": "code",
   "execution_count": 3,
   "metadata": {},
   "outputs": [],
   "source": [
    "img_train = os.path.join(DATA_DIR, \"train-images-idx3-ubyte.gz\")\n",
    "lbl_train = os.path.join(DATA_DIR, \"train-labels-idx1-ubyte.gz\")\n",
    "img_test = os.path.join(DATA_DIR, \"t10k-images-idx3-ubyte.gz\")\n",
    "lbl_test = os.path.join(DATA_DIR, \"t10k-labels-idx1-ubyte.gz\")"
   ]
  },
  {
   "cell_type": "code",
   "execution_count": 4,
   "metadata": {},
   "outputs": [
    {
     "data": {
      "text/plain": [
       "['t10k-images-idx3-ubyte.gz',\n 't10k-labels-idx1-ubyte.gz',\n 'train-labels-idx1-ubyte.gz',\n 'train-images-idx3-ubyte.gz']"
      ]
     },
     "execution_count": 4,
     "metadata": {},
     "output_type": "execute_result"
    }
   ],
   "source": [
    "os.listdir(DATA_DIR)"
   ]
  },
  {
   "cell_type": "code",
   "execution_count": 5,
   "metadata": {},
   "outputs": [],
   "source": [
    "import os\n",
    "import gzip\n",
    "import numpy as np\n",
    "import tensorflow as tf\n",
    "\n",
    "IMAGE_WIDTH = 28\n",
    "IMAGE_HEIGHT = 28\n",
    "NUM_TRAIN = 60000\n",
    "NUM_TEST = 10000\n",
    "IMAGE_SIZE = IMAGE_WIDTH * IMAGE_HEIGHT\n",
    "\n",
    "\n",
    "def extract_data_as_nparrays(img_file, lbl_file, num_samples):\n",
    "    \"\"\"\n",
    "    Extract data from imgs and labels zip files and return them as numpy arrays\n",
    "    :param img_file: the full name of the zip file containing the images\n",
    "    :param lbl_file: the full name of the zip file containing the labels\n",
    "    :param num_samples: the number of examples to read from the files.\n",
    "    :return: pair of numpy arrays containing image and label - both integers\n",
    "    \"\"\"\n",
    "    with gzip.open(img_file) as bytestream:\n",
    "        bytestream.read(16)\n",
    "\n",
    "        buf = bytestream.read(IMAGE_SIZE * num_samples)\n",
    "        imgs = np.frombuffer(buf, dtype=np.uint8)\n",
    "        imgs = imgs.reshape(num_samples, IMAGE_HEIGHT, IMAGE_WIDTH, 1)\n",
    "\n",
    "    with gzip.open(lbl_file) as bytestream:\n",
    "        bytestream.read(8)\n",
    "\n",
    "        buf = bytestream.read(num_samples)\n",
    "        lbls = np.frombuffer(buf, dtype=np.uint8)\n",
    "\n",
    "    return imgs, lbls\n",
    "\n",
    "\n",
    "def dataset(data_dir, file_names, num_samples):\n",
    "    (img_zip, lbl_zip) = file_names\n",
    "    img_path = os.path.join(data_dir, img_zip)\n",
    "    lbl_path = os.path.join(data_dir, lbl_zip)\n",
    "    imgs, lbls = extract_data_as_nparrays(img_path, lbl_path, num_samples)\n",
    "    img_tensor = tf.constant(imgs)\n",
    "    img_tensor = tf.reshape(img_tensor, [num_samples, IMAGE_SIZE])\n",
    "    lbl_tensor = tf.one_hot(tf.constant(lbls), depth=10)\n",
    "    return tf.data.Dataset.from_tensor_slices((img_tensor, lbl_tensor))\n",
    "\n",
    "\n",
    "def datasets(data_dir):\n",
    "    \"\"\"\n",
    "    create a pair of datasets for train and test.\n",
    "    The file names are expected to be the well-known types used by LeCun: USE-TYPE-TAG-ubyte.gz,\n",
    "    where USE = 'train' or 't10k', TYPE='images' or 'labels' and 'TAG' = idx1 for labels and idx3 for images\n",
    "    :param data_dir: the directory where the files are to be found\n",
    "    :return: A pair of tf.data.Datasets containing raw integer tensors for images and one-hot-encoded labels\n",
    "    \"\"\"\n",
    "    template = \"%s-%s-ubyte.gz\"\n",
    "\n",
    "    def file_names(prefix):\n",
    "        image_file = template % (prefix, \"images-idx3\")\n",
    "        label_file = template % (prefix, \"labels-idx1\")\n",
    "        return image_file, label_file\n",
    "\n",
    "    train = dataset(data_dir, file_names(\"train\"), NUM_TRAIN)\n",
    "    test = dataset(data_dir, file_names(\"t10k\"), NUM_TEST)\n",
    "    return train, test\n"
   ]
  },
  {
   "cell_type": "code",
   "execution_count": 6,
   "metadata": {},
   "outputs": [],
   "source": [
    "tr, te = datasets(DATA_DIR)"
   ]
  },
  {
   "cell_type": "code",
   "execution_count": 7,
   "metadata": {},
   "outputs": [],
   "source": [
    "sess = tf.InteractiveSession()"
   ]
  },
  {
   "cell_type": "code",
   "execution_count": 8,
   "metadata": {},
   "outputs": [],
   "source": [
    "trainer = tr.batch(20000).make_one_shot_iterator().get_next()"
   ]
  },
  {
   "cell_type": "code",
   "execution_count": 9,
   "metadata": {},
   "outputs": [],
   "source": [
    "i,l = trainer"
   ]
  },
  {
   "cell_type": "code",
   "execution_count": 10,
   "metadata": {},
   "outputs": [
    {
     "data": {
      "text/plain": [
       "<tf.Tensor 'IteratorGetNext:0' shape=(?, 784) dtype=uint8>"
      ]
     },
     "execution_count": 10,
     "metadata": {},
     "output_type": "execute_result"
    }
   ],
   "source": [
    "i"
   ]
  },
  {
   "cell_type": "code",
   "execution_count": 11,
   "metadata": {},
   "outputs": [],
   "source": [
    "i,l = sess.run([i,l])"
   ]
  },
  {
   "cell_type": "code",
   "execution_count": 12,
   "metadata": {},
   "outputs": [
    {
     "data": {
      "text/plain": [
       "(20000, 784)"
      ]
     },
     "execution_count": 12,
     "metadata": {},
     "output_type": "execute_result"
    }
   ],
   "source": [
    "i.shape"
   ]
  },
  {
   "cell_type": "code",
   "execution_count": 13,
   "metadata": {},
   "outputs": [
    {
     "data": {
      "text/plain": [
       "(20000, 10)"
      ]
     },
     "execution_count": 13,
     "metadata": {},
     "output_type": "execute_result"
    }
   ],
   "source": [
    "l.shape"
   ]
  },
  {
   "cell_type": "code",
   "execution_count": 15,
   "metadata": {},
   "outputs": [],
   "source": [
    "import matplotlib.pyplot as plt\n",
    "from math import log"
   ]
  },
  {
   "cell_type": "markdown",
   "metadata": {},
   "source": [
    "#### Quick Refresher from information theory\n",
    "Entropy \n",
    "$$ H(X) := -\\sum_{x \\in \\mathcal{X}} p(x) \\log p(x)$$\n",
    "\n",
    "Conditional Entropy \n",
    "$$ H(Y \\big| X) := \\sum_{x \\in \\mathcal{X}} p(x) H(Y\\big|X=x)$$\n",
    "\n",
    "$$ = \\sum_{x \\in \\mathcal{X}} p(x) \\sum_{y\\in \\mathcal{Y}} p(y|x) * \\log p(y|x)$$\n",
    "\n",
    "$$ = \\sum_{x \\in \\mathcal{X}} \\sum_{y\\in \\mathcal{Y}} p(x,y) \\log(\\frac{p(x,y)}{p(x)})$$\n",
    "\n",
    "Joint Entropy \n",
    "$$ H(Y, X) := -\\sum_{x \\in \\mathcal{X}} \\sum_{y\\in \\mathcal{Y}} p(x,y) \\log p(x,y)$$\n",
    "\n",
    "Mutual Information\n",
    "$$ I(X;Y) := \\sum_{x \\in \\mathcal{X}} \\sum_{y\\in \\mathcal{Y}} p(x,y)log(\\frac{p(x,y)}{p(x)p(y)}) $$\n",
    "\n",
    "Observe: \n",
    "1. $H(X,Y) \\leq H(X)+H(Y)$\n",
    "1. $H(Y|X) = 0 \\iff$ Y is completely determinded by X \n",
    "1. $H(Y|X) = H(Y) \\iff $ X and Y are independent\n",
    "1. $H(X|Y) = H(Y,X) - H(Y)$\n",
    "1. $I(X;Y) = H(X) + H(Y) - H(X,Y)$"
   ]
  },
  {
   "cell_type": "markdown",
   "metadata": {},
   "source": [
    "### Important note: Don't get confused!!\n",
    "In the following you'll see X being used for the prior distribution that's the digit in case of MNIST and Y for the pixels. That is the opposite of what you know from any MNIST tutorial. The reason is that we're looking at the problem from an analytic view. We want to understand how the entropy of the result (the image) depends on the prior (the intended digit). It's actually the typical neural network that reverts the natural order by \"guessing\" what might have been meant by a certain image"
   ]
  },
  {
   "cell_type": "markdown",
   "metadata": {},
   "source": [
    "##### Let's look at the distribution of a single pixel's values over a minibatch, subdivided into 10 arrays - one for each label:"
   ]
  },
  {
   "cell_type": "code",
   "execution_count": 14,
   "metadata": {},
   "outputs": [],
   "source": [
    "# Pixel Nr. P\n",
    "P = 300\n",
    "pixels = i[:, P]\n",
    "N_BINS=5\n",
    "MIN_VAL=0\n",
    "MAX_VAL=255\n",
    "ln = np.argmax(l, axis=1)"
   ]
  },
  {
   "cell_type": "code",
   "execution_count": 15,
   "metadata": {},
   "outputs": [],
   "source": [
    "# A list of lists: distributions of above pixel's values by digit\n",
    "distr_by_digit=[list(map(lambda p: p[0], filter(lambda p: p[1]==digit, zip(pixels, ln)))) for digit in range(10)]"
   ]
  },
  {
   "cell_type": "markdown",
   "metadata": {},
   "source": [
    "##### Let's see the pixel's distribution on various digits "
   ]
  },
  {
   "cell_type": "code",
   "execution_count": 16,
   "metadata": {},
   "outputs": [
    {
     "data": {
      "text/plain": [
       "(array([1168.,  130.,  149.,   95.,  472.]),\n",
       " array([  0.,  51., 102., 153., 204., 255.]),\n",
       " <a list of 5 Patch objects>)"
      ]
     },
     "execution_count": 16,
     "metadata": {},
     "output_type": "execute_result"
    },
    {
     "data": {
      "image/png": "[encoded data removed]",
      "text/plain": [
       "<matplotlib.figure.Figure at 0x141b23860>"
      ]
     },
     "metadata": {},
     "output_type": "display_data"
    }
   ],
   "source": [
    "plt.subplot(2,4,1)\n",
    "plt.hist(distr_by_digit[0], bins=N_BINS)\n",
    "plt.subplot(2,4,2)\n",
    "plt.hist(distr_by_digit[1], bins=N_BINS)\n",
    "plt.subplot(2,4,3)\n",
    "plt.hist(distr_by_digit[2], bins=N_BINS)\n",
    "plt.subplot(2,4,4)\n",
    "plt.hist(distr_by_digit[4], bins=N_BINS)\n",
    "plt.subplot(2,4,5)\n",
    "plt.hist(distr_by_digit[6], bins=N_BINS)\n",
    "plt.subplot(2,4,6)\n",
    "plt.hist(distr_by_digit[7], bins=N_BINS)\n",
    "plt.subplot(2,4,7)\n",
    "plt.hist(distr_by_digit[8], bins=N_BINS)\n",
    "plt.subplot(2,4,8)\n",
    "plt.hist(distr_by_digit[9], bins=N_BINS)"
   ]
  },
  {
   "cell_type": "markdown",
   "metadata": {},
   "source": [
    "As expected, most of the pixels are either black or white with few in the grey areas. And the distributions obviously differ from digit to digit. If you look at pixel 200, you will see that it's basically always zero. Obviously, some pixels are helpful, others aren't."
   ]
  },
  {
   "cell_type": "markdown",
   "metadata": {},
   "source": [
    "To support statistics on the distribution we use a partitioning function that distributes the values into N_BINS"
   ]
  },
  {
   "cell_type": "code",
   "execution_count": 17,
   "metadata": {},
   "outputs": [],
   "source": [
    "def partition(arr, width_bin, n_bins=N_BINS):\n",
    "\n",
    "    # for each element of arr, which bin is to be incremented?\n",
    "    arr = np.array(arr)//width_bin\n",
    "    # Count the number of entries in each bin. I know, this is a tough algorithm. But it's cool.\n",
    "    return np.sum(np.eye(n_bins)[arr], axis=0)"
   ]
  },
  {
   "cell_type": "markdown",
   "metadata": {},
   "source": [
    "Let's verify by partitioning the pixel's distribution for all images of a 4. The top-right histogram above should match what we got here. "
   ]
  },
  {
   "cell_type": "code",
   "execution_count": 18,
   "metadata": {},
   "outputs": [
    {
     "data": {
      "text/plain": [
       "array([1054.,  114.,  108.,  116.,  553.])"
      ]
     },
     "execution_count": 18,
     "metadata": {},
     "output_type": "execute_result"
    }
   ],
   "source": [
    "partition(distr_by_digit[4], 255//N_BINS+1, N_BINS)"
   ]
  },
  {
   "cell_type": "markdown",
   "metadata": {},
   "source": [
    "Now let's define the entropy of an arbitary distribution. We do the statistics by distributing the values into N_BINS arrays."
   ]
  },
  {
   "cell_type": "code",
   "execution_count": 19,
   "metadata": {},
   "outputs": [],
   "source": [
    "def entropy(distr):\n",
    "    res, _ = _entropy(distr)\n",
    "    return res\n",
    "\n",
    "def _entropy(distr):\n",
    "    \"\"\"\n",
    "        calculate the entropy based on number counts in N_BINS\n",
    "    \"\"\"\n",
    "    bins = partition(distr, MAX_VAL//N_BINS+1, N_BINS)\n",
    "    N = sum(bins)\n",
    "    return sum(map(lambda n_i: 0 if n_i == 0 else -n_i*log(n_i), bins))/N + log(N), N"
   ]
  },
  {
   "cell_type": "markdown",
   "metadata": {},
   "source": [
    "Note that we used a little simplification here. Namely, with $ p(i) $ being the probability of finding the pixel's actual value in bin number $i$, $N$ being the total number of pixel values we estimate the probability $ p(i) = \\frac{n_i}{N} $. The total number of pixel values is obviously the total number of images that are represented by the given distribution.\n",
    "\n",
    "$$ -\\sum_{i=1}^N p_i \\log p_i = \\frac{1}{N} \\sum_{i=1}^N n_i \\log(\\frac{N}{n_i}) $$\n",
    "$$ = \\frac{1}{N} \\sum_{i=1}^N n_i (\\log N - \\log n_i) = \\log N - \\frac{1}{N} \\sum_{i=1}^N n_i \\log n_i $$\n",
    "\n",
    "You have certainly already figured out that the very last expression is exactly what's being calculated in the _entropy() function."
   ]
  },
  {
   "cell_type": "markdown",
   "metadata": {},
   "source": [
    "Let's see the entropies of the pixel's distribution for all 10 digits. Note that these are by definition the conditional entropies of the entire distribution, given a particular digit."
   ]
  },
  {
   "cell_type": "code",
   "execution_count": 21,
   "metadata": {},
   "outputs": [
    {
     "data": {
      "text/plain": [
       "([1.2501706835152264,\n",
       "  0.14041135145281736,\n",
       "  1.1111259003476226,\n",
       "  0.8610874162355433,\n",
       "  1.1845274158832115,\n",
       "  0.6401634041714823,\n",
       "  0.43564978024483914,\n",
       "  1.2194768231548814,\n",
       "  1.2952208610437026,\n",
       "  1.1745368269373042],\n",
       " 1.0471564412739554)"
      ]
     },
     "execution_count": 21,
     "metadata": {},
     "output_type": "execute_result"
    }
   ],
   "source": [
    "entropies = [entropy(distr_by_digit[digit]) for digit in range(10)]\n",
    "total_entropy = entropy(pixels)\n",
    "entropies, total_entropy"
   ]
  },
  {
   "cell_type": "markdown",
   "metadata": {},
   "source": [
    "Remember how we defined the conditional entropy $H(Y|X)$ of the total distribution? It's the probability-weighted sum of the particular entropies over the values of the prior X:\n",
    "\n",
    "$$ H(Y \\big| X) := \\sum_{x \\in \\mathcal{X}} p(x) H(Y\\big|X=x)$$\n",
    "\n",
    "$$ = \\sum_{x \\in \\mathcal{X}} p(x) \\sum_{y\\in \\mathcal{Y}} p(y|x) * \\log p(y|x)$$\n",
    "\n"
   ]
  },
  {
   "cell_type": "markdown",
   "metadata": {},
   "source": [
    "Let's use this equation now to calculate the conditional image of a single pixel's distribution over a mini-batch of images"
   ]
  },
  {
   "cell_type": "code",
   "execution_count": 128,
   "metadata": {},
   "outputs": [],
   "source": [
    "def particular_entropies(joint_distr):\n",
    "    \"\"\"\n",
    "    calculate all particular conditional entropies\n",
    "    :joint_distr a matrix of 10 x N_BINS bins counting the activations of a pixel \n",
    "    \"\"\"\n",
    "    res = []\n",
    "    for x in range(3):\n",
    "        nx = np.sum(joint_distr[x], axis=0)\n",
    "        if nx != 0: \n",
    "            p_y_given_x = joint_distr[x] / nx\n",
    "            p_y_given_x = list(filter(lambda p: p!=0, p_y_given_x))\n",
    "            ent_x = -np.sum(p_y_given_x * np.log(p_y_given_x))\n",
    "            res.append(ent_x)\n",
    "    return res\n",
    "    \n",
    "def cond_entropy(pixels, labels):\n",
    "    \"\"\"\n",
    "        calculate the conditional entropy of a pixel distribution in a mini-batch of images, \n",
    "        given the true labels.\n",
    "    \"\"\"\n",
    "    X = labels\n",
    "    Y = pixels\n",
    "    X_probs = np.sum(np.eye(10)[X], axis=0) / len(X)\n",
    "    \n",
    "    by_digit=[list(map(lambda p: p[0], filter(lambda p: p[1]==digit, zip(Y, X)))) for digit in range(10)]\n",
    "\n",
    "    bins =[partition(by_digit[digit], MAX_VAL//N_BINS+1, N_BINS) for digit in range(10)]\n",
    "\n",
    "    entropies = particular_entropies(bins)\n",
    "    \n",
    "    zipped = zip(X_probs, entropies)\n",
    "    return np.sum((list(map(lambda p_e: p_e[0]*p_e[1], zipped))))\n",
    "    \n",
    "    "
   ]
  },
  {
   "cell_type": "code",
   "execution_count": 129,
   "metadata": {},
   "outputs": [
    {
     "data": {
      "text/plain": [
       "0.24782402486819016"
      ]
     },
     "execution_count": 129,
     "metadata": {},
     "output_type": "execute_result"
    }
   ],
   "source": [
    "cond_entropy(pixels, ln)"
   ]
  },
  {
   "cell_type": "markdown",
   "metadata": {},
   "source": [
    "Now let's compare the total entropy with the conditional one for a number of pixels. The higher the value the bigger the difference between total and conditional entropy. We expect to gain more information from those pixels. "
   ]
  },
  {
   "cell_type": "code",
   "execution_count": 131,
   "metadata": {},
   "outputs": [
    {
     "data": {
      "text/plain": [
       "array([1.03600227, 1.01592042, 0.98950661, 0.95070805, 0.90072715,\n",
       "       0.84401097, 0.80278449, 0.76478205, 0.72587492, 0.69718045,\n",
       "       0.67561078, 0.66933729, 0.66443795, 0.67113842, 0.6863372 ,\n",
       "       0.70684894, 0.74613159, 0.81295422, 0.88937311, 0.97087213,\n",
       "       1.02723937, 1.04672656, 1.04715644, 1.04715644, 1.04715644,\n",
       "       1.04715644, 1.04629833, 1.04550455, 1.03688991, 1.01367802,\n",
       "       0.97910327, 0.9389746 , 0.88241123, 0.84046897, 0.80414952,\n",
       "       0.78363095, 0.75070079, 0.7098232 , 0.67645065, 0.661323  ,\n",
       "       0.65364245, 0.66003421, 0.68280642, 0.71056802, 0.76917738,\n",
       "       0.80778815, 0.87310758, 0.95122203, 1.01914378, 1.04715644,\n",
       "       1.04715644, 1.04715644, 1.04715644, 1.04671983, 1.04715644,\n",
       "       1.04636933, 1.03778912, 1.01222646, 0.96958755, 0.91901731,\n",
       "       0.87540023, 0.8376479 , 0.823951  , 0.81238047, 0.77594673,\n",
       "       0.71833887, 0.68975978, 0.67582908, 0.66366379, 0.66063251,\n",
       "       0.67667293, 0.72759988, 0.78485139, 0.82339799, 0.86703473,\n",
       "       0.93210679, 1.01075508, 1.0462967 , 1.04715644, 1.04715644,\n",
       "       1.04715644, 1.04671983, 1.04672656, 1.04672656, 1.04034901,\n",
       "       1.00630976, 0.96448407, 0.91103971, 0.87277402, 0.85467893,\n",
       "       0.84928959, 0.83671105, 0.7927634 , 0.73093685, 0.70573119,\n",
       "       0.71948852, 0.69560053, 0.68042541, 0.69444907, 0.74769324,\n",
       "       0.79933242, 0.83826817, 0.87389414, 0.92035093, 0.99881676,\n",
       "       1.04484793, 1.04672822, 1.04715644, 1.04715644, 1.04671983,\n",
       "       1.04715644, 1.04629161, 1.03868593, 0.99733295, 0.95396495,\n",
       "       0.90583391, 0.88206708, 0.87438872, 0.86991657, 0.85607077])"
      ]
     },
     "execution_count": 131,
     "metadata": {},
     "output_type": "execute_result"
    }
   ],
   "source": [
    "np.array([total_entropy - cond_entropy(i[:, P], ln) for P in range(200, 320)])"
   ]
  },
  {
   "cell_type": "code",
   "execution_count": null,
   "metadata": {},
   "outputs": [],
   "source": []
  }
 ],
 "metadata": {
  "kernelspec": {
   "display_name": "Python 3",
   "language": "python",
   "name": "python3"
  },
  "language_info": {
   "codemirror_mode": {
    "name": "ipython",
    "version": 3
   },
   "file_extension": ".py",
   "mimetype": "text/x-python",
   "name": "python",
   "nbconvert_exporter": "python",
   "pygments_lexer": "ipython3",
   "version": "3.6.0"
  }
 },
 "nbformat": 4,
 "nbformat_minor": 2
}
