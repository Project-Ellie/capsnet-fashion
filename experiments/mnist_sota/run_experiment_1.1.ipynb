{
 "cells": [
  {
   "cell_type": "code",
   "execution_count": 1,
   "metadata": {},
   "outputs": [],
   "source": [
    "import argparse\n",
    "import sys\n",
    "import os\n",
    "import time\n",
    "import copy\n",
    "\n",
    "import tensorflow as tf\n",
    "import pandas as pd\n",
    "\n",
    "import dataset\n",
    "# from models.conv2_dense2_dropout import Model\n",
    "from models.dense3 import Model\n",
    "\n",
    "from helpers.history import history\n",
    "from helpers.gpu_utils import validate_batch_size_for_multi_gpu\n",
    "from helpers.softmax_cross_entropy_trainer import create_model_fn"
   ]
  },
  {
   "cell_type": "markdown",
   "metadata": {},
   "source": [
    "### Get the history and the runtime context "
   ]
  },
  {
   "cell_type": "code",
   "execution_count": 16,
   "metadata": {},
   "outputs": [
    {
     "name": "stdout",
     "output_type": "stream",
     "text": [
      "\n",
      "\n",
      "\n",
      "Welcome, wgiersche, it's Sun Apr 29 18:06:58 2018, and you'll be working with Tensorflow version 1.8.0\n",
      "\n",
      "\n"
     ]
    },
    {
     "data": {
      "text/html": [
       "<div>\n",
       "<style scoped>\n",
       "    .dataframe tbody tr th:only-of-type {\n",
       "        vertical-align: middle;\n",
       "    }\n",
       "\n",
       "    .dataframe tbody tr th {\n",
       "        vertical-align: top;\n",
       "    }\n",
       "\n",
       "    .dataframe thead th {\n",
       "        text-align: right;\n",
       "    }\n",
       "</style>\n",
       "<table border=\"1\" class=\"dataframe\">\n",
       "  <thead>\n",
       "    <tr style=\"text-align: right;\">\n",
       "      <th></th>\n",
       "      <th>batch_size</th>\n",
       "      <th>data_dir</th>\n",
       "      <th>model_dir</th>\n",
       "      <th>multi_gpu</th>\n",
       "      <th>train_epochs</th>\n",
       "      <th>user</th>\n",
       "      <th>timestamp</th>\n",
       "      <th>localtime</th>\n",
       "    </tr>\n",
       "  </thead>\n",
       "  <tbody>\n",
       "    <tr>\n",
       "      <th>0</th>\n",
       "      <td>128</td>\n",
       "      <td>/var/ellie/data/mnist_fashion</td>\n",
       "      <td>/tmp/mnist_model</td>\n",
       "      <td>False</td>\n",
       "      <td>10</td>\n",
       "      <td>wgiersche</td>\n",
       "      <td>1.525010e+09</td>\n",
       "      <td>Sun Apr 29 15:50:38 2018</td>\n",
       "    </tr>\n",
       "    <tr>\n",
       "      <th>1</th>\n",
       "      <td>128</td>\n",
       "      <td>/var/ellie/data/mnist_fashion</td>\n",
       "      <td>/tmp/mnist_model</td>\n",
       "      <td>False</td>\n",
       "      <td>10</td>\n",
       "      <td>wgiersche</td>\n",
       "      <td>1.525010e+09</td>\n",
       "      <td>Sun Apr 29 15:50:38 2018</td>\n",
       "    </tr>\n",
       "    <tr>\n",
       "      <th>2</th>\n",
       "      <td>64</td>\n",
       "      <td>/var/ellie/data/mnist_fashion</td>\n",
       "      <td>/tmp/mnist_model</td>\n",
       "      <td>False</td>\n",
       "      <td>5</td>\n",
       "      <td>wgiersche</td>\n",
       "      <td>1.525012e+09</td>\n",
       "      <td>Sun Apr 29 16:24:48 2018</td>\n",
       "    </tr>\n",
       "    <tr>\n",
       "      <th>3</th>\n",
       "      <td>64</td>\n",
       "      <td>/var/ellie/data/mnist_fashion</td>\n",
       "      <td>/tmp/mnist_model</td>\n",
       "      <td>False</td>\n",
       "      <td>10</td>\n",
       "      <td>wgiersche</td>\n",
       "      <td>1.525012e+09</td>\n",
       "      <td>Sun Apr 29 16:33:03 2018</td>\n",
       "    </tr>\n",
       "    <tr>\n",
       "      <th>4</th>\n",
       "      <td>64</td>\n",
       "      <td>/var/ellie/data/mnist_fashion</td>\n",
       "      <td>/tmp/mnist_model</td>\n",
       "      <td>False</td>\n",
       "      <td>10</td>\n",
       "      <td>wgiersche</td>\n",
       "      <td>1.525017e+09</td>\n",
       "      <td>Sun Apr 29 17:50:42 2018</td>\n",
       "    </tr>\n",
       "    <tr>\n",
       "      <th>5</th>\n",
       "      <td>64</td>\n",
       "      <td>/var/ellie/data/mnist_fashion</td>\n",
       "      <td>/tmp/mnist_model</td>\n",
       "      <td>False</td>\n",
       "      <td>10</td>\n",
       "      <td>wgiersche</td>\n",
       "      <td>1.525017e+09</td>\n",
       "      <td>Sun Apr 29 17:50:42 2018</td>\n",
       "    </tr>\n",
       "    <tr>\n",
       "      <th>6</th>\n",
       "      <td>64</td>\n",
       "      <td>/var/ellie/data/mnist_fashion</td>\n",
       "      <td>/tmp/mnist_model</td>\n",
       "      <td>False</td>\n",
       "      <td>10</td>\n",
       "      <td>wgiersche</td>\n",
       "      <td>1.525018e+09</td>\n",
       "      <td>Sun Apr 29 18:05:46 2018</td>\n",
       "    </tr>\n",
       "  </tbody>\n",
       "</table>\n",
       "</div>"
      ],
      "text/plain": [
       "   batch_size                       data_dir         model_dir  multi_gpu  \\\n",
       "0         128  /var/ellie/data/mnist_fashion  /tmp/mnist_model      False   \n",
       "1         128  /var/ellie/data/mnist_fashion  /tmp/mnist_model      False   \n",
       "2          64  /var/ellie/data/mnist_fashion  /tmp/mnist_model      False   \n",
       "3          64  /var/ellie/data/mnist_fashion  /tmp/mnist_model      False   \n",
       "4          64  /var/ellie/data/mnist_fashion  /tmp/mnist_model      False   \n",
       "5          64  /var/ellie/data/mnist_fashion  /tmp/mnist_model      False   \n",
       "6          64  /var/ellie/data/mnist_fashion  /tmp/mnist_model      False   \n",
       "\n",
       "   train_epochs       user     timestamp                 localtime  \n",
       "0            10  wgiersche  1.525010e+09  Sun Apr 29 15:50:38 2018  \n",
       "1            10  wgiersche  1.525010e+09  Sun Apr 29 15:50:38 2018  \n",
       "2             5  wgiersche  1.525012e+09  Sun Apr 29 16:24:48 2018  \n",
       "3            10  wgiersche  1.525012e+09  Sun Apr 29 16:33:03 2018  \n",
       "4            10  wgiersche  1.525017e+09  Sun Apr 29 17:50:42 2018  \n",
       "5            10  wgiersche  1.525017e+09  Sun Apr 29 17:50:42 2018  \n",
       "6            10  wgiersche  1.525018e+09  Sun Apr 29 18:05:46 2018  "
      ]
     },
     "execution_count": 16,
     "metadata": {},
     "output_type": "execute_result"
    }
   ],
   "source": [
    "localtime = time.asctime(time.localtime(time.time()))\n",
    "user = os.environ['USER']\n",
    "print(\"\\n\\n\")\n",
    "print(\"Welcome, %s, it's %s, and you'll be working with Tensorflow version %s\" % (user, localtime, tf.__version__))\n",
    "print(\"\\n\")\n",
    "history.experiments.tail(10)"
   ]
  },
  {
   "cell_type": "markdown",
   "metadata": {},
   "source": [
    "### Create a new hyper-parameter record "
   ]
  },
  {
   "cell_type": "code",
   "execution_count": 5,
   "metadata": {},
   "outputs": [
    {
     "data": {
      "text/plain": [
       "batch_size                                 64\n",
       "data_dir        /var/ellie/data/mnist_fashion\n",
       "model_dir                    /tmp/mnist_model\n",
       "multi_gpu                               False\n",
       "train_epochs                               10\n",
       "user                                wgiersche\n",
       "timestamp                         1.52502e+09\n",
       "localtime            Sun Apr 29 18:05:46 2018\n",
       "Name: 2, dtype: object"
      ]
     },
     "execution_count": 5,
     "metadata": {},
     "output_type": "execute_result"
    }
   ],
   "source": [
    "# Creating a new hyper-parameter record from a history entry\n",
    "FLAGS = history.copy_from_record(2)\n",
    "\n",
    "# Choose new parameters\n",
    "FLAGS.train_epochs = 10\n",
    "FLAGS.batch_size = 64\n",
    "FLAGS"
   ]
  },
  {
   "cell_type": "markdown",
   "metadata": {},
   "source": [
    "### Get to work!"
   ]
  },
  {
   "cell_type": "code",
   "execution_count": 6,
   "metadata": {},
   "outputs": [],
   "source": [
    "!rm -rf /tmp/mnist_model"
   ]
  },
  {
   "cell_type": "code",
   "execution_count": 7,
   "metadata": {},
   "outputs": [],
   "source": [
    "optimizer = tf.train.AdamOptimizer()"
   ]
  },
  {
   "cell_type": "code",
   "execution_count": 8,
   "metadata": {},
   "outputs": [],
   "source": [
    "model_function = create_model_fn(lambda params: Model(params), optimizer)"
   ]
  },
  {
   "cell_type": "code",
   "execution_count": 9,
   "metadata": {},
   "outputs": [],
   "source": [
    "if FLAGS.multi_gpu:\n",
    "    validate_batch_size_for_multi_gpu(FLAGS.batch_size)\n",
    "\n",
    "    # There are two steps required if using multi-GPU: (1) wrap the model_fn,\n",
    "    # and (2) wrap the optimizer. The first happens here, and (2) happens\n",
    "    # in the model_fn itself when the optimizer is defined.\n",
    "    model_function = tf.contrib.estimator.replicate_model_fn(\n",
    "        model_function, loss_reduction=tf.losses.Reduction.MEAN)\n",
    "\n",
    "data_format = ('channels_first' if tf.test.is_built_with_cuda() else 'channels_last')"
   ]
  },
  {
   "cell_type": "code",
   "execution_count": 10,
   "metadata": {},
   "outputs": [
    {
     "name": "stdout",
     "output_type": "stream",
     "text": [
      "INFO:tensorflow:Using default config.\n",
      "INFO:tensorflow:Using config: {'_model_dir': '/tmp/mnist_model', '_tf_random_seed': None, '_save_summary_steps': 100, '_save_checkpoints_steps': None, '_save_checkpoints_secs': 600, '_session_config': None, '_keep_checkpoint_max': 5, '_keep_checkpoint_every_n_hours': 10000, '_log_step_count_steps': 100, '_train_distribute': None, '_service': None, '_cluster_spec': <tensorflow.python.training.server_lib.ClusterSpec object at 0x11f72f4e0>, '_task_type': 'worker', '_task_id': 0, '_global_id_in_cluster': 0, '_master': '', '_evaluation_master': '', '_is_chief': True, '_num_ps_replicas': 0, '_num_worker_replicas': 1}\n"
     ]
    }
   ],
   "source": [
    "mnist_classifier = tf.estimator.Estimator(\n",
    "    model_fn=model_function,\n",
    "    model_dir=FLAGS.model_dir,\n",
    "    params={\n",
    "        'data_format': data_format,\n",
    "        'multi_gpu': FLAGS.multi_gpu\n",
    "    })"
   ]
  },
  {
   "cell_type": "markdown",
   "metadata": {},
   "source": [
    "##### ```input_fn``` functions are a factories for ```DataSet```s"
   ]
  },
  {
   "cell_type": "code",
   "execution_count": 11,
   "metadata": {},
   "outputs": [],
   "source": [
    "def train_input_fn():\n",
    "    ds = dataset.training_dataset(FLAGS.data_dir)\n",
    "    ds = ds.cache().shuffle(buffer_size=50000).\\\n",
    "        batch(FLAGS.batch_size).\\\n",
    "        repeat(FLAGS.train_epochs)\n",
    "    return ds"
   ]
  },
  {
   "cell_type": "code",
   "execution_count": 12,
   "metadata": {},
   "outputs": [],
   "source": [
    "def eval_input_fn():\n",
    "    return dataset.test_dataset(FLAGS.data_dir).batch(\n",
    "        FLAGS.batch_size).make_one_shot_iterator().get_next()"
   ]
  },
  {
   "cell_type": "code",
   "execution_count": 13,
   "metadata": {},
   "outputs": [],
   "source": [
    "tensors_to_log = {'train_accuracy': 'train_accuracy'}\n",
    "logging_hook = tf.train.LoggingTensorHook(tensors=tensors_to_log, every_n_iter=1000)"
   ]
  },
  {
   "cell_type": "markdown",
   "metadata": {},
   "source": [
    "### Report the new hyper-parameters and run the training "
   ]
  },
  {
   "cell_type": "code",
   "execution_count": 14,
   "metadata": {},
   "outputs": [
    {
     "name": "stdout",
     "output_type": "stream",
     "text": [
      "INFO:tensorflow:Calling model_fn.\n",
      "INFO:tensorflow:Done calling model_fn.\n",
      "INFO:tensorflow:Create CheckpointSaverHook.\n",
      "INFO:tensorflow:Graph was finalized.\n",
      "INFO:tensorflow:Running local_init_op.\n",
      "INFO:tensorflow:Done running local_init_op.\n",
      "INFO:tensorflow:Saving checkpoints for 1 into /tmp/mnist_model/model.ckpt.\n",
      "INFO:tensorflow:train_accuracy = 0.078125\n",
      "INFO:tensorflow:loss = 2.3288713, step = 1\n",
      "INFO:tensorflow:global_step/sec: 110.376\n",
      "INFO:tensorflow:loss = 0.48031345, step = 101 (0.906 sec)\n",
      "INFO:tensorflow:global_step/sec: 161.638\n",
      "INFO:tensorflow:loss = 0.60577035, step = 201 (0.619 sec)\n",
      "INFO:tensorflow:global_step/sec: 260.733\n",
      "INFO:tensorflow:loss = 0.530182, step = 301 (0.384 sec)\n",
      "INFO:tensorflow:global_step/sec: 258.371\n",
      "INFO:tensorflow:loss = 0.6784529, step = 401 (0.387 sec)\n",
      "INFO:tensorflow:global_step/sec: 259.081\n",
      "INFO:tensorflow:loss = 0.29508072, step = 501 (0.386 sec)\n",
      "INFO:tensorflow:global_step/sec: 262.322\n",
      "INFO:tensorflow:loss = 0.34913617, step = 601 (0.381 sec)\n",
      "INFO:tensorflow:global_step/sec: 262.719\n",
      "INFO:tensorflow:loss = 0.37134486, step = 701 (0.381 sec)\n",
      "INFO:tensorflow:global_step/sec: 257.814\n",
      "INFO:tensorflow:loss = 0.22664256, step = 801 (0.388 sec)\n",
      "INFO:tensorflow:global_step/sec: 258.564\n",
      "INFO:tensorflow:loss = 0.40747023, step = 901 (0.387 sec)\n",
      "INFO:tensorflow:global_step/sec: 252.301\n",
      "INFO:tensorflow:train_accuracy = 0.76704544 (4.615 sec)\n",
      "INFO:tensorflow:loss = 0.6057612, step = 1001 (0.397 sec)\n",
      "INFO:tensorflow:global_step/sec: 258.227\n",
      "INFO:tensorflow:loss = 0.4541313, step = 1101 (0.387 sec)\n",
      "INFO:tensorflow:global_step/sec: 258.681\n",
      "INFO:tensorflow:loss = 0.40546355, step = 1201 (0.386 sec)\n",
      "INFO:tensorflow:global_step/sec: 259.85\n",
      "INFO:tensorflow:loss = 0.38412556, step = 1301 (0.385 sec)\n",
      "INFO:tensorflow:global_step/sec: 257.317\n",
      "INFO:tensorflow:loss = 0.36873558, step = 1401 (0.389 sec)\n",
      "INFO:tensorflow:global_step/sec: 259.706\n",
      "INFO:tensorflow:loss = 0.2600276, step = 1501 (0.385 sec)\n",
      "INFO:tensorflow:global_step/sec: 260.692\n",
      "INFO:tensorflow:loss = 0.321347, step = 1601 (0.384 sec)\n",
      "INFO:tensorflow:global_step/sec: 261.338\n",
      "INFO:tensorflow:loss = 0.2053372, step = 1701 (0.383 sec)\n",
      "INFO:tensorflow:global_step/sec: 259.886\n",
      "INFO:tensorflow:loss = 0.3688578, step = 1801 (0.385 sec)\n",
      "INFO:tensorflow:global_step/sec: 253.102\n",
      "INFO:tensorflow:loss = 0.46005863, step = 1901 (0.395 sec)\n",
      "INFO:tensorflow:global_step/sec: 259.384\n",
      "INFO:tensorflow:train_accuracy = 0.82217264 (3.864 sec)\n",
      "INFO:tensorflow:loss = 0.16511177, step = 2001 (0.386 sec)\n",
      "INFO:tensorflow:global_step/sec: 261.209\n",
      "INFO:tensorflow:loss = 0.50154424, step = 2101 (0.382 sec)\n",
      "INFO:tensorflow:global_step/sec: 258.103\n",
      "INFO:tensorflow:loss = 0.36141288, step = 2201 (0.388 sec)\n",
      "INFO:tensorflow:global_step/sec: 258.782\n",
      "INFO:tensorflow:loss = 0.3839219, step = 2301 (0.386 sec)\n",
      "INFO:tensorflow:global_step/sec: 259.072\n",
      "INFO:tensorflow:loss = 0.33069524, step = 2401 (0.386 sec)\n",
      "INFO:tensorflow:global_step/sec: 255.522\n",
      "INFO:tensorflow:loss = 0.21920145, step = 2501 (0.391 sec)\n",
      "INFO:tensorflow:global_step/sec: 256.651\n",
      "INFO:tensorflow:loss = 0.32068583, step = 2601 (0.390 sec)\n",
      "INFO:tensorflow:global_step/sec: 258.014\n",
      "INFO:tensorflow:loss = 0.26861584, step = 2701 (0.388 sec)\n",
      "INFO:tensorflow:global_step/sec: 248.566\n",
      "INFO:tensorflow:loss = 0.3193236, step = 2801 (0.402 sec)\n",
      "INFO:tensorflow:global_step/sec: 247.447\n",
      "INFO:tensorflow:loss = 0.35071063, step = 2901 (0.404 sec)\n",
      "INFO:tensorflow:global_step/sec: 255.743\n",
      "INFO:tensorflow:train_accuracy = 0.83971775 (3.909 sec)\n",
      "INFO:tensorflow:loss = 0.25093263, step = 3001 (0.392 sec)\n",
      "INFO:tensorflow:global_step/sec: 254.379\n",
      "INFO:tensorflow:loss = 0.26357293, step = 3101 (0.392 sec)\n",
      "INFO:tensorflow:global_step/sec: 261.319\n",
      "INFO:tensorflow:loss = 0.3698627, step = 3201 (0.383 sec)\n",
      "INFO:tensorflow:global_step/sec: 259.759\n",
      "INFO:tensorflow:loss = 0.29402426, step = 3301 (0.385 sec)\n",
      "INFO:tensorflow:global_step/sec: 259.686\n",
      "INFO:tensorflow:loss = 0.22814825, step = 3401 (0.385 sec)\n",
      "INFO:tensorflow:global_step/sec: 258.725\n",
      "INFO:tensorflow:loss = 0.28834552, step = 3501 (0.386 sec)\n",
      "INFO:tensorflow:global_step/sec: 248.665\n",
      "INFO:tensorflow:loss = 0.50332844, step = 3601 (0.402 sec)\n",
      "INFO:tensorflow:global_step/sec: 258.74\n",
      "INFO:tensorflow:loss = 0.24441454, step = 3701 (0.386 sec)\n",
      "INFO:tensorflow:global_step/sec: 249.446\n",
      "INFO:tensorflow:loss = 0.43924314, step = 3801 (0.401 sec)\n",
      "INFO:tensorflow:global_step/sec: 249.632\n",
      "INFO:tensorflow:loss = 0.18732311, step = 3901 (0.401 sec)\n",
      "INFO:tensorflow:global_step/sec: 260.282\n",
      "INFO:tensorflow:train_accuracy = 0.85213417 (3.907 sec)\n",
      "INFO:tensorflow:loss = 0.18884891, step = 4001 (0.385 sec)\n",
      "INFO:tensorflow:global_step/sec: 254.469\n",
      "INFO:tensorflow:loss = 0.12904145, step = 4101 (0.392 sec)\n",
      "INFO:tensorflow:global_step/sec: 260.596\n",
      "INFO:tensorflow:loss = 0.24585466, step = 4201 (0.384 sec)\n",
      "INFO:tensorflow:global_step/sec: 259.463\n",
      "INFO:tensorflow:loss = 0.36647266, step = 4301 (0.385 sec)\n",
      "INFO:tensorflow:global_step/sec: 262.123\n",
      "INFO:tensorflow:loss = 0.336452, step = 4401 (0.383 sec)\n",
      "INFO:tensorflow:global_step/sec: 256.676\n",
      "INFO:tensorflow:loss = 0.2846, step = 4501 (0.389 sec)\n",
      "INFO:tensorflow:global_step/sec: 243.465\n",
      "INFO:tensorflow:loss = 0.19259219, step = 4601 (0.411 sec)\n",
      "INFO:tensorflow:global_step/sec: 248.279\n",
      "INFO:tensorflow:loss = 0.2425983, step = 4701 (0.403 sec)\n",
      "INFO:tensorflow:global_step/sec: 255.844\n",
      "INFO:tensorflow:loss = 0.14367586, step = 4801 (0.391 sec)\n",
      "INFO:tensorflow:global_step/sec: 237.705\n",
      "INFO:tensorflow:loss = 0.16039093, step = 4901 (0.421 sec)\n",
      "INFO:tensorflow:global_step/sec: 260.915\n",
      "INFO:tensorflow:train_accuracy = 0.8661152 (3.941 sec)\n",
      "INFO:tensorflow:loss = 0.10809964, step = 5001 (0.384 sec)\n",
      "INFO:tensorflow:global_step/sec: 251.894\n",
      "INFO:tensorflow:loss = 0.3342859, step = 5101 (0.396 sec)\n",
      "INFO:tensorflow:global_step/sec: 253.028\n",
      "INFO:tensorflow:loss = 0.23485626, step = 5201 (0.395 sec)\n",
      "INFO:tensorflow:global_step/sec: 256.36\n",
      "INFO:tensorflow:loss = 0.3458894, step = 5301 (0.390 sec)\n",
      "INFO:tensorflow:global_step/sec: 258.598\n",
      "INFO:tensorflow:loss = 0.34179443, step = 5401 (0.387 sec)\n",
      "INFO:tensorflow:global_step/sec: 244.674\n",
      "INFO:tensorflow:loss = 0.19396904, step = 5501 (0.408 sec)\n",
      "INFO:tensorflow:global_step/sec: 260.068\n",
      "INFO:tensorflow:loss = 0.16350867, step = 5601 (0.385 sec)\n",
      "INFO:tensorflow:global_step/sec: 247.496\n",
      "INFO:tensorflow:loss = 0.16136898, step = 5701 (0.404 sec)\n",
      "INFO:tensorflow:global_step/sec: 251.795\n",
      "INFO:tensorflow:loss = 0.19414933, step = 5801 (0.397 sec)\n",
      "INFO:tensorflow:global_step/sec: 257.28\n",
      "INFO:tensorflow:loss = 0.20924868, step = 5901 (0.389 sec)\n",
      "INFO:tensorflow:global_step/sec: 250.444\n",
      "INFO:tensorflow:train_accuracy = 0.87243855 (3.951 sec)\n",
      "INFO:tensorflow:loss = 0.19286203, step = 6001 (0.400 sec)\n",
      "INFO:tensorflow:global_step/sec: 261.493\n",
      "INFO:tensorflow:loss = 0.28476664, step = 6101 (0.382 sec)\n",
      "INFO:tensorflow:global_step/sec: 252.897\n",
      "INFO:tensorflow:loss = 0.26853102, step = 6201 (0.395 sec)\n",
      "INFO:tensorflow:global_step/sec: 251.528\n",
      "INFO:tensorflow:loss = 0.16885018, step = 6301 (0.398 sec)\n",
      "INFO:tensorflow:global_step/sec: 258.631\n",
      "INFO:tensorflow:loss = 0.1596435, step = 6401 (0.387 sec)\n",
      "INFO:tensorflow:global_step/sec: 246.937\n",
      "INFO:tensorflow:loss = 0.29627186, step = 6501 (0.405 sec)\n",
      "INFO:tensorflow:global_step/sec: 249.008\n",
      "INFO:tensorflow:loss = 0.36745483, step = 6601 (0.402 sec)\n",
      "INFO:tensorflow:global_step/sec: 253.098\n",
      "INFO:tensorflow:loss = 0.20331515, step = 6701 (0.395 sec)\n",
      "INFO:tensorflow:global_step/sec: 259.568\n",
      "INFO:tensorflow:loss = 0.36182314, step = 6801 (0.385 sec)\n",
      "INFO:tensorflow:global_step/sec: 261.884\n",
      "INFO:tensorflow:loss = 0.3438496, step = 6901 (0.382 sec)\n",
      "INFO:tensorflow:global_step/sec: 262.775\n",
      "INFO:tensorflow:train_accuracy = 0.87566024 (3.911 sec)\n",
      "INFO:tensorflow:loss = 0.17673658, step = 7001 (0.381 sec)\n",
      "INFO:tensorflow:global_step/sec: 253.198\n",
      "INFO:tensorflow:loss = 0.13561265, step = 7101 (0.394 sec)\n",
      "INFO:tensorflow:global_step/sec: 258.518\n",
      "INFO:tensorflow:loss = 0.24410307, step = 7201 (0.387 sec)\n",
      "INFO:tensorflow:global_step/sec: 252.837\n",
      "INFO:tensorflow:loss = 0.27800506, step = 7301 (0.396 sec)\n",
      "INFO:tensorflow:global_step/sec: 246.591\n",
      "INFO:tensorflow:loss = 0.34231997, step = 7401 (0.405 sec)\n",
      "INFO:tensorflow:global_step/sec: 259.079\n",
      "INFO:tensorflow:loss = 0.18560234, step = 7501 (0.386 sec)\n",
      "INFO:tensorflow:global_step/sec: 244.992\n",
      "INFO:tensorflow:loss = 0.18266591, step = 7601 (0.408 sec)\n",
      "INFO:tensorflow:global_step/sec: 256.068\n",
      "INFO:tensorflow:loss = 0.23126172, step = 7701 (0.391 sec)\n",
      "INFO:tensorflow:global_step/sec: 255.874\n",
      "INFO:tensorflow:loss = 0.30364972, step = 7801 (0.391 sec)\n",
      "INFO:tensorflow:global_step/sec: 259.398\n",
      "INFO:tensorflow:loss = 0.3084306, step = 7901 (0.385 sec)\n",
      "INFO:tensorflow:global_step/sec: 245.375\n",
      "INFO:tensorflow:train_accuracy = 0.8796296 (3.951 sec)\n",
      "INFO:tensorflow:loss = 0.26896238, step = 8001 (0.408 sec)\n",
      "INFO:tensorflow:global_step/sec: 255.014\n",
      "INFO:tensorflow:loss = 0.19478452, step = 8101 (0.391 sec)\n",
      "INFO:tensorflow:global_step/sec: 246.234\n",
      "INFO:tensorflow:loss = 0.18034598, step = 8201 (0.406 sec)\n",
      "INFO:tensorflow:global_step/sec: 259.348\n",
      "INFO:tensorflow:loss = 0.18060371, step = 8301 (0.386 sec)\n",
      "INFO:tensorflow:global_step/sec: 254.791\n",
      "INFO:tensorflow:loss = 0.13911138, step = 8401 (0.392 sec)\n",
      "INFO:tensorflow:global_step/sec: 238.453\n",
      "INFO:tensorflow:loss = 0.2094491, step = 8501 (0.419 sec)\n",
      "INFO:tensorflow:global_step/sec: 259.742\n",
      "INFO:tensorflow:loss = 0.12397635, step = 8601 (0.385 sec)\n",
      "INFO:tensorflow:global_step/sec: 248.706\n",
      "INFO:tensorflow:loss = 0.26214606, step = 8701 (0.402 sec)\n",
      "INFO:tensorflow:global_step/sec: 254.081\n",
      "INFO:tensorflow:loss = 0.3094774, step = 8801 (0.394 sec)\n",
      "INFO:tensorflow:global_step/sec: 243.852\n",
      "INFO:tensorflow:loss = 0.19434717, step = 8901 (0.410 sec)\n",
      "INFO:tensorflow:global_step/sec: 258.836\n",
      "INFO:tensorflow:train_accuracy = 0.8839286 (3.973 sec)\n",
      "INFO:tensorflow:loss = 0.28013223, step = 9001 (0.387 sec)\n",
      "INFO:tensorflow:global_step/sec: 239.573\n",
      "INFO:tensorflow:loss = 0.17618835, step = 9101 (0.417 sec)\n",
      "INFO:tensorflow:global_step/sec: 260.969\n",
      "INFO:tensorflow:loss = 0.13239256, step = 9201 (0.382 sec)\n",
      "INFO:tensorflow:global_step/sec: 243.005\n",
      "INFO:tensorflow:loss = 0.25230125, step = 9301 (0.411 sec)\n",
      "INFO:tensorflow:Saving checkpoints for 9380 into /tmp/mnist_model/model.ckpt.\n",
      "INFO:tensorflow:Loss for final step: 0.07259179.\n"
     ]
    },
    {
     "data": {
      "text/plain": [
       "<tensorflow.python.estimator.estimator.Estimator at 0x11f72f6d8>"
      ]
     },
     "execution_count": 14,
     "metadata": {},
     "output_type": "execute_result"
    }
   ],
   "source": [
    "history.report_experiment(FLAGS)\n",
    "\n",
    "mnist_classifier.train(input_fn=train_input_fn, hooks=[logging_hook])"
   ]
  },
  {
   "cell_type": "code",
   "execution_count": 15,
   "metadata": {},
   "outputs": [
    {
     "name": "stdout",
     "output_type": "stream",
     "text": [
      "INFO:tensorflow:Calling model_fn.\n",
      "INFO:tensorflow:Done calling model_fn.\n",
      "INFO:tensorflow:Starting evaluation at 2018-04-29-16:06:47\n",
      "INFO:tensorflow:Graph was finalized.\n",
      "INFO:tensorflow:Restoring parameters from /tmp/mnist_model/model.ckpt-9380\n",
      "INFO:tensorflow:Running local_init_op.\n",
      "INFO:tensorflow:Done running local_init_op.\n",
      "INFO:tensorflow:Finished evaluation at 2018-04-29-16:06:48\n",
      "INFO:tensorflow:Saving dict for global step 9380: accuracy = 0.8857, global_step = 9380, loss = 0.3311808\n",
      "Evaluation results:\n",
      "\t{'accuracy': 0.8857, 'loss': 0.3311808, 'global_step': 9380}\n"
     ]
    }
   ],
   "source": [
    "eval_results = mnist_classifier.evaluate(input_fn=eval_input_fn)\n",
    "print('Evaluation results:\\n\\t%s' % eval_results)"
   ]
  },
  {
   "cell_type": "code",
   "execution_count": null,
   "metadata": {},
   "outputs": [],
   "source": []
  }
 ],
 "metadata": {
  "kernelspec": {
   "display_name": "Python 3",
   "language": "python",
   "name": "python3"
  },
  "language_info": {
   "codemirror_mode": {
    "name": "ipython",
    "version": 3
   },
   "file_extension": ".py",
   "mimetype": "text/x-python",
   "name": "python",
   "nbconvert_exporter": "python",
   "pygments_lexer": "ipython3",
   "version": "3.6.4"
  }
 },
 "nbformat": 4,
 "nbformat_minor": 2
}
