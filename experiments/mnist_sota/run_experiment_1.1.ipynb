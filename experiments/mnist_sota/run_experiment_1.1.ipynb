{
 "cells": [
  {
   "cell_type": "code",
   "execution_count": 28,
   "metadata": {},
   "outputs": [],
   "source": [
    "import argparse\n",
    "import sys\n",
    "import os\n",
    "import time\n",
    "import copy\n",
    "\n",
    "import tensorflow as tf\n",
    "import pandas as pd\n",
    "\n",
    "import dataset\n",
    "#from models.conv2_dense2_dropout import Model\n",
    "from models.dense3 import Model\n",
    "\n",
    "from helpers.os_utils import os_info\n",
    "from helpers.history import ExpHistory\n",
    "from helpers.estimator_utils import create_model_fn"
   ]
  },
  {
   "cell_type": "markdown",
   "metadata": {},
   "source": [
    "### Get the history and the runtime context "
   ]
  },
  {
   "cell_type": "code",
   "execution_count": 51,
   "metadata": {},
   "outputs": [
    {
     "name": "stdout",
     "output_type": "stream",
     "text": [
      "\n",
      "\n",
      "\n",
      "Welcome, wgiersche, it's Tue May  1 15:31:42 2018, and you'll be working with Tensorflow version 1.8.0\n",
      "Your current runtime: \n",
      "  node: wolfgangs-mac-pro.home, \n",
      "  os: Darwin-15.6.0-x86_64-i386-64bit, \n",
      "  machine: x86_64, \n",
      "  cuda: False\n",
      "\n",
      "\n"
     ]
    },
    {
     "data": {
      "text/html": [
       "<div>\n",
       "<style scoped>\n",
       "    .dataframe tbody tr th:only-of-type {\n",
       "        vertical-align: middle;\n",
       "    }\n",
       "\n",
       "    .dataframe tbody tr th {\n",
       "        vertical-align: top;\n",
       "    }\n",
       "\n",
       "    .dataframe thead th {\n",
       "        text-align: right;\n",
       "    }\n",
       "</style>\n",
       "<table border=\"1\" class=\"dataframe\">\n",
       "  <thead>\n",
       "    <tr style=\"text-align: right;\">\n",
       "      <th></th>\n",
       "      <th>node</th>\n",
       "      <th>cuda</th>\n",
       "      <th>multi_gpu</th>\n",
       "      <th>batch_size</th>\n",
       "      <th>data_dir</th>\n",
       "      <th>train_epochs</th>\n",
       "      <th>localtime</th>\n",
       "      <th>steps</th>\n",
       "      <th>accuracy</th>\n",
       "      <th>duration</th>\n",
       "    </tr>\n",
       "  </thead>\n",
       "  <tbody>\n",
       "    <tr>\n",
       "      <th>15</th>\n",
       "      <td>scylla</td>\n",
       "      <td>1</td>\n",
       "      <td>0</td>\n",
       "      <td>256</td>\n",
       "      <td>/var/ellie/data/mnist_fashion</td>\n",
       "      <td>4</td>\n",
       "      <td>Tue May  1 12:53:26 2018</td>\n",
       "      <td>1880.0</td>\n",
       "      <td>0.8841</td>\n",
       "      <td>4.0</td>\n",
       "    </tr>\n",
       "    <tr>\n",
       "      <th>16</th>\n",
       "      <td>wolfgangs-mac-pro.home</td>\n",
       "      <td>0</td>\n",
       "      <td>0</td>\n",
       "      <td>256</td>\n",
       "      <td>/var/ellie/data/mnist_fashion</td>\n",
       "      <td>4</td>\n",
       "      <td>Tue May  1 13:01:05 2018</td>\n",
       "      <td>940.0</td>\n",
       "      <td>0.8726</td>\n",
       "      <td>12.0</td>\n",
       "    </tr>\n",
       "    <tr>\n",
       "      <th>17</th>\n",
       "      <td>wolfgangs-mac-pro.home</td>\n",
       "      <td>0</td>\n",
       "      <td>0</td>\n",
       "      <td>256</td>\n",
       "      <td>/var/ellie/data/mnist_fashion</td>\n",
       "      <td>12</td>\n",
       "      <td>Tue May  1 13:45:49 2018</td>\n",
       "      <td>2820.0</td>\n",
       "      <td>0.8947</td>\n",
       "      <td>31.0</td>\n",
       "    </tr>\n",
       "    <tr>\n",
       "      <th>18</th>\n",
       "      <td>wolfgangs-mac-pro.home</td>\n",
       "      <td>0</td>\n",
       "      <td>0</td>\n",
       "      <td>256</td>\n",
       "      <td>/var/ellie/data/mnist</td>\n",
       "      <td>12</td>\n",
       "      <td>Tue May  1 13:45:49 2018</td>\n",
       "      <td>2820.0</td>\n",
       "      <td>0.9797</td>\n",
       "      <td>30.0</td>\n",
       "    </tr>\n",
       "    <tr>\n",
       "      <th>19</th>\n",
       "      <td>wolfgangs-mac-pro.home</td>\n",
       "      <td>0</td>\n",
       "      <td>0</td>\n",
       "      <td>512</td>\n",
       "      <td>/var/ellie/data/mnist_fashion</td>\n",
       "      <td>12</td>\n",
       "      <td>Tue May  1 14:01:26 2018</td>\n",
       "      <td>1416.0</td>\n",
       "      <td>0.8848</td>\n",
       "      <td>26.0</td>\n",
       "    </tr>\n",
       "    <tr>\n",
       "      <th>20</th>\n",
       "      <td>wolfgangs-mac-pro.home</td>\n",
       "      <td>0</td>\n",
       "      <td>0</td>\n",
       "      <td>512</td>\n",
       "      <td>/var/ellie/data/mnist_fashion</td>\n",
       "      <td>12</td>\n",
       "      <td>Tue May  1 14:11:10 2018</td>\n",
       "      <td>1416.0</td>\n",
       "      <td>0.8879</td>\n",
       "      <td>26.0</td>\n",
       "    </tr>\n",
       "    <tr>\n",
       "      <th>21</th>\n",
       "      <td>wolfgangs-mac-pro.home</td>\n",
       "      <td>0</td>\n",
       "      <td>0</td>\n",
       "      <td>64</td>\n",
       "      <td>/var/ellie/data/mnist_fashion</td>\n",
       "      <td>2</td>\n",
       "      <td>Tue May  1 14:47:08 2018</td>\n",
       "      <td>1876.0</td>\n",
       "      <td>0.9038</td>\n",
       "      <td>146.0</td>\n",
       "    </tr>\n",
       "    <tr>\n",
       "      <th>22</th>\n",
       "      <td>wolfgangs-mac-pro.home</td>\n",
       "      <td>0</td>\n",
       "      <td>0</td>\n",
       "      <td>64</td>\n",
       "      <td>/var/ellie/data/mnist_fashion</td>\n",
       "      <td>2</td>\n",
       "      <td>Tue May  1 14:47:08 2018</td>\n",
       "      <td>3752.0</td>\n",
       "      <td>0.9088</td>\n",
       "      <td>143.0</td>\n",
       "    </tr>\n",
       "    <tr>\n",
       "      <th>23</th>\n",
       "      <td>wolfgangs-mac-pro.home</td>\n",
       "      <td>0</td>\n",
       "      <td>0</td>\n",
       "      <td>64</td>\n",
       "      <td>/var/ellie/data/mnist_fashion</td>\n",
       "      <td>2</td>\n",
       "      <td>Tue May  1 15:27:27 2018</td>\n",
       "      <td>1876.0</td>\n",
       "      <td>0.8730</td>\n",
       "      <td>12.0</td>\n",
       "    </tr>\n",
       "    <tr>\n",
       "      <th>24</th>\n",
       "      <td>wolfgangs-mac-pro.home</td>\n",
       "      <td>0</td>\n",
       "      <td>0</td>\n",
       "      <td>64</td>\n",
       "      <td>/var/ellie/data/mnist_fashion</td>\n",
       "      <td>2</td>\n",
       "      <td>Tue May  1 15:28:29 2018</td>\n",
       "      <td>1876.0</td>\n",
       "      <td>0.8536</td>\n",
       "      <td>12.0</td>\n",
       "    </tr>\n",
       "  </tbody>\n",
       "</table>\n",
       "</div>"
      ],
      "text/plain": [
       "                      node  cuda  multi_gpu  batch_size  \\\n",
       "15                  scylla     1          0         256   \n",
       "16  wolfgangs-mac-pro.home     0          0         256   \n",
       "17  wolfgangs-mac-pro.home     0          0         256   \n",
       "18  wolfgangs-mac-pro.home     0          0         256   \n",
       "19  wolfgangs-mac-pro.home     0          0         512   \n",
       "20  wolfgangs-mac-pro.home     0          0         512   \n",
       "21  wolfgangs-mac-pro.home     0          0          64   \n",
       "22  wolfgangs-mac-pro.home     0          0          64   \n",
       "23  wolfgangs-mac-pro.home     0          0          64   \n",
       "24  wolfgangs-mac-pro.home     0          0          64   \n",
       "\n",
       "                         data_dir  train_epochs                 localtime  \\\n",
       "15  /var/ellie/data/mnist_fashion             4  Tue May  1 12:53:26 2018   \n",
       "16  /var/ellie/data/mnist_fashion             4  Tue May  1 13:01:05 2018   \n",
       "17  /var/ellie/data/mnist_fashion            12  Tue May  1 13:45:49 2018   \n",
       "18          /var/ellie/data/mnist            12  Tue May  1 13:45:49 2018   \n",
       "19  /var/ellie/data/mnist_fashion            12  Tue May  1 14:01:26 2018   \n",
       "20  /var/ellie/data/mnist_fashion            12  Tue May  1 14:11:10 2018   \n",
       "21  /var/ellie/data/mnist_fashion             2  Tue May  1 14:47:08 2018   \n",
       "22  /var/ellie/data/mnist_fashion             2  Tue May  1 14:47:08 2018   \n",
       "23  /var/ellie/data/mnist_fashion             2  Tue May  1 15:27:27 2018   \n",
       "24  /var/ellie/data/mnist_fashion             2  Tue May  1 15:28:29 2018   \n",
       "\n",
       "     steps  accuracy  duration  \n",
       "15  1880.0    0.8841       4.0  \n",
       "16   940.0    0.8726      12.0  \n",
       "17  2820.0    0.8947      31.0  \n",
       "18  2820.0    0.9797      30.0  \n",
       "19  1416.0    0.8848      26.0  \n",
       "20  1416.0    0.8879      26.0  \n",
       "21  1876.0    0.9038     146.0  \n",
       "22  3752.0    0.9088     143.0  \n",
       "23  1876.0    0.8730      12.0  \n",
       "24  1876.0    0.8536      12.0  "
      ]
     },
     "execution_count": 51,
     "metadata": {},
     "output_type": "execute_result"
    }
   ],
   "source": [
    "tf.logging.set_verbosity(tf.logging.INFO)\n",
    "\n",
    "HIST_FILE_NAME = 'experiment_history.csv'\n",
    "history = ExpHistory(HIST_FILE_NAME)\n",
    "\n",
    "localtime = time.asctime(time.localtime(time.time()))\n",
    "user = os.environ.get('USER', os.environ.get('USERNAME', 'anonymous'))\n",
    "print(\"\\n\\n\")\n",
    "print(\"Welcome, %s, it's %s, and you'll be working with Tensorflow version %s\" % (user, localtime, tf.__version__))\n",
    "rt=os_info()\n",
    "this_os = rt['os']\n",
    "this_node = rt['node']\n",
    "this_machine = rt['machine']\n",
    "this_cuda = rt['cuda']\n",
    "print(\"Your current runtime: \\n  node: %s, \\n  os: %s, \\n  machine: %s, \\n  cuda: %s\" % (this_node, this_os, this_machine, this_cuda))\n",
    "print(\"\\n\")\n",
    "columns=[\n",
    "    'node', \n",
    "    #'os',\n",
    "    #'machine',\n",
    "    'cuda',\n",
    "    'multi_gpu',\n",
    "    'batch_size',\n",
    "    'data_dir',\n",
    "    #'model_dir',\n",
    "    'train_epochs',\n",
    "    #'user',\n",
    "    #'time_stamp',\n",
    "    'localtime',\n",
    "    'steps',\n",
    "    'accuracy',\n",
    "    'duration'\n",
    "]\n",
    "history.experiments.tail(10)[columns]"
   ]
  },
  {
   "cell_type": "markdown",
   "metadata": {},
   "source": [
    "### Want to start with the most recent record from this platform?"
   ]
  },
  {
   "cell_type": "code",
   "execution_count": 41,
   "metadata": {},
   "outputs": [
    {
     "data": {
      "text/plain": [
       "node                     wolfgangs-mac-pro.home\n",
       "os              Darwin-15.6.0-x86_64-i386-64bit\n",
       "machine                                  x86_64\n",
       "cuda                                          0\n",
       "multi_gpu                                     0\n",
       "batch_size                                  256\n",
       "data_dir                  /var/ellie/data/mnist\n",
       "model_dir                      /tmp/mnist_model\n",
       "train_epochs                                 12\n",
       "user                                  wgiersche\n",
       "timestamp                            1525181309\n",
       "localtime              Tue May  1 15:28:29 2018\n",
       "accuracy                                 0.9797\n",
       "steps                                      2820\n",
       "duration                                     30\n",
       "Name: 18, dtype: object"
      ]
     },
     "execution_count": 41,
     "metadata": {},
     "output_type": "execute_result"
    }
   ],
   "source": [
    "hparams=history.suggest_from_history()\n",
    "hparams=history.copy_from_record(18)\n",
    "hparams"
   ]
  },
  {
   "cell_type": "markdown",
   "metadata": {},
   "source": [
    "### Use as new hyper-parameter record, with adaptations "
   ]
  },
  {
   "cell_type": "code",
   "execution_count": 42,
   "metadata": {},
   "outputs": [
    {
     "data": {
      "text/plain": [
       "node                     wolfgangs-mac-pro.home\n",
       "os              Darwin-15.6.0-x86_64-i386-64bit\n",
       "machine                                  x86_64\n",
       "cuda                                          0\n",
       "multi_gpu                                 False\n",
       "batch_size                                   64\n",
       "data_dir          /var/ellie/data/mnist_fashion\n",
       "model_dir                      /tmp/mnist_model\n",
       "train_epochs                                  2\n",
       "user                                  wgiersche\n",
       "timestamp                            1525181309\n",
       "localtime              Tue May  1 15:28:29 2018\n",
       "accuracy                                 0.9797\n",
       "steps                                      2820\n",
       "duration                                     30\n",
       "Name: 18, dtype: object"
      ]
     },
     "execution_count": 42,
     "metadata": {},
     "output_type": "execute_result"
    }
   ],
   "source": [
    "DATA_SET = 'FASHION'\n",
    "hparams.data_dir = '/var/ellie/data/mnist_fashion'\n",
    "hparams.train_epochs = 2\n",
    "hparams.batch_size = 64\n",
    "hparams.multi_gpu = False\n",
    "hparams"
   ]
  },
  {
   "cell_type": "markdown",
   "metadata": {},
   "source": [
    "# Get to work!"
   ]
  },
  {
   "cell_type": "code",
   "execution_count": 43,
   "metadata": {},
   "outputs": [],
   "source": [
    "# For the sake of this tutorial, we always start from scratch\n",
    "!rm -rf /tmp/mnist_model"
   ]
  },
  {
   "cell_type": "markdown",
   "metadata": {},
   "source": [
    "### The model function constructs the computational graphs for training, eval and test\n"
   ]
  },
  {
   "cell_type": "code",
   "execution_count": 44,
   "metadata": {},
   "outputs": [],
   "source": [
    "model_function = create_model_fn(\n",
    "    lambda params: Model(params),\n",
    "    tf.train.AdamOptimizer(),\n",
    "    tf.losses.sparse_softmax_cross_entropy,\n",
    "    hparams)"
   ]
  },
  {
   "cell_type": "markdown",
   "metadata": {},
   "source": [
    " "
   ]
  },
  {
   "cell_type": "markdown",
   "metadata": {},
   "source": [
    "Performance depends on the data format, and differs between CPU and GPU computations"
   ]
  },
  {
   "cell_type": "code",
   "execution_count": 45,
   "metadata": {},
   "outputs": [],
   "source": [
    "data_format = ('channels_first' if tf.test.is_built_with_cuda() else 'channels_last')"
   ]
  },
  {
   "cell_type": "markdown",
   "metadata": {},
   "source": [
    "### The Estimator is the center piece of Tensorflow's new API"
   ]
  },
  {
   "cell_type": "code",
   "execution_count": 46,
   "metadata": {},
   "outputs": [
    {
     "name": "stdout",
     "output_type": "stream",
     "text": [
      "INFO:tensorflow:Using default config.\n",
      "INFO:tensorflow:Using config: {'_model_dir': '/tmp/mnist_model', '_tf_random_seed': None, '_save_summary_steps': 100, '_save_checkpoints_steps': None, '_save_checkpoints_secs': 600, '_session_config': None, '_keep_checkpoint_max': 5, '_keep_checkpoint_every_n_hours': 10000, '_log_step_count_steps': 100, '_train_distribute': None, '_service': None, '_cluster_spec': <tensorflow.python.training.server_lib.ClusterSpec object at 0x11da327f0>, '_task_type': 'worker', '_task_id': 0, '_global_id_in_cluster': 0, '_master': '', '_evaluation_master': '', '_is_chief': True, '_num_ps_replicas': 0, '_num_worker_replicas': 1}\n"
     ]
    }
   ],
   "source": [
    "mnist_classifier = tf.estimator.Estimator(\n",
    "    model_fn=model_function,\n",
    "    model_dir=hparams.model_dir,\n",
    "    params={\n",
    "        'data_format': data_format,\n",
    "        'multi_gpu': hparams.multi_gpu\n",
    "    })"
   ]
  },
  {
   "cell_type": "markdown",
   "metadata": {},
   "source": [
    "##### ```input_fn``` functions are a factories for ```DataSet```s"
   ]
  },
  {
   "cell_type": "markdown",
   "metadata": {},
   "source": [
    "### Input datasets for training and evaluation"
   ]
  },
  {
   "cell_type": "code",
   "execution_count": 47,
   "metadata": {},
   "outputs": [],
   "source": [
    "def train_input_fn():\n",
    "    ds = dataset.training_dataset(hparams.data_dir, DATA_SET)\n",
    "    ds = ds.cache().shuffle(buffer_size=50000).\\\n",
    "        batch(hparams.batch_size).\\\n",
    "        repeat(hparams.train_epochs)\n",
    "    return ds"
   ]
  },
  {
   "cell_type": "code",
   "execution_count": 48,
   "metadata": {},
   "outputs": [],
   "source": [
    "def eval_input_fn():\n",
    "    return dataset.test_dataset(hparams.data_dir, DATA_SET).\\\n",
    "        batch(hparams.batch_size).\\\n",
    "        make_one_shot_iterator().get_next()"
   ]
  },
  {
   "cell_type": "code",
   "execution_count": 49,
   "metadata": {},
   "outputs": [],
   "source": [
    "tensors_to_log = {'train_accuracy': 'train_accuracy'}\n",
    "logging_hook = tf.train.LoggingTensorHook(tensors=tensors_to_log, every_n_iter=1000)"
   ]
  },
  {
   "cell_type": "markdown",
   "metadata": {},
   "source": [
    "### Run the training and report the new hyper-parameters "
   ]
  },
  {
   "cell_type": "code",
   "execution_count": 50,
   "metadata": {},
   "outputs": [
    {
     "name": "stdout",
     "output_type": "stream",
     "text": [
      "INFO:tensorflow:Calling model_fn.\n",
      "INFO:tensorflow:Done calling model_fn.\n",
      "INFO:tensorflow:Create CheckpointSaverHook.\n",
      "INFO:tensorflow:Graph was finalized.\n",
      "INFO:tensorflow:Running local_init_op.\n",
      "INFO:tensorflow:Done running local_init_op.\n",
      "INFO:tensorflow:Saving checkpoints for 1 into /tmp/mnist_model/model.ckpt.\n",
      "INFO:tensorflow:train_accuracy = 0.125\n",
      "INFO:tensorflow:loss = 2.275834, step = 1\n",
      "INFO:tensorflow:global_step/sec: 110.231\n",
      "INFO:tensorflow:loss = 0.7123023, step = 101 (0.907 sec)\n",
      "INFO:tensorflow:global_step/sec: 161.131\n",
      "INFO:tensorflow:loss = 0.46541423, step = 201 (0.621 sec)\n",
      "INFO:tensorflow:global_step/sec: 262.8\n",
      "INFO:tensorflow:loss = 0.4890712, step = 301 (0.381 sec)\n",
      "INFO:tensorflow:global_step/sec: 263.337\n",
      "INFO:tensorflow:loss = 0.65269184, step = 401 (0.380 sec)\n",
      "INFO:tensorflow:global_step/sec: 264.086\n",
      "INFO:tensorflow:loss = 0.26734117, step = 501 (0.379 sec)\n",
      "INFO:tensorflow:global_step/sec: 263.08\n",
      "INFO:tensorflow:loss = 0.3595935, step = 601 (0.380 sec)\n",
      "INFO:tensorflow:global_step/sec: 263.245\n",
      "INFO:tensorflow:loss = 0.44933024, step = 701 (0.380 sec)\n",
      "INFO:tensorflow:global_step/sec: 262.776\n",
      "INFO:tensorflow:loss = 0.22150828, step = 801 (0.381 sec)\n",
      "INFO:tensorflow:global_step/sec: 249.028\n",
      "INFO:tensorflow:loss = 0.23721379, step = 901 (0.402 sec)\n",
      "INFO:tensorflow:global_step/sec: 252.184\n",
      "INFO:tensorflow:train_accuracy = 0.76704544 (4.606 sec)\n",
      "INFO:tensorflow:loss = 0.559837, step = 1001 (0.397 sec)\n",
      "INFO:tensorflow:global_step/sec: 242.148\n",
      "INFO:tensorflow:loss = 0.36842024, step = 1101 (0.412 sec)\n",
      "INFO:tensorflow:global_step/sec: 260.394\n",
      "INFO:tensorflow:loss = 0.17941353, step = 1201 (0.384 sec)\n",
      "INFO:tensorflow:global_step/sec: 255.493\n",
      "INFO:tensorflow:loss = 0.35518473, step = 1301 (0.391 sec)\n",
      "INFO:tensorflow:global_step/sec: 256.083\n",
      "INFO:tensorflow:loss = 0.41880113, step = 1401 (0.391 sec)\n",
      "INFO:tensorflow:global_step/sec: 259.11\n",
      "INFO:tensorflow:loss = 0.42536977, step = 1501 (0.386 sec)\n",
      "INFO:tensorflow:global_step/sec: 254.2\n",
      "INFO:tensorflow:loss = 0.436673, step = 1601 (0.393 sec)\n",
      "INFO:tensorflow:global_step/sec: 258.453\n",
      "INFO:tensorflow:loss = 0.41371, step = 1701 (0.387 sec)\n",
      "INFO:tensorflow:global_step/sec: 256.571\n",
      "INFO:tensorflow:loss = 0.270809, step = 1801 (0.390 sec)\n",
      "INFO:tensorflow:Saving checkpoints for 1876 into /tmp/mnist_model/model.ckpt.\n",
      "INFO:tensorflow:Loss for final step: 0.3803974.\n",
      "INFO:tensorflow:Calling model_fn.\n",
      "INFO:tensorflow:Done calling model_fn.\n",
      "INFO:tensorflow:Starting evaluation at 2018-05-01-13:28:46\n",
      "INFO:tensorflow:Graph was finalized.\n",
      "INFO:tensorflow:Restoring parameters from /tmp/mnist_model/model.ckpt-1876\n",
      "INFO:tensorflow:Running local_init_op.\n",
      "INFO:tensorflow:Done running local_init_op.\n",
      "INFO:tensorflow:Finished evaluation at 2018-05-01-13:28:47\n",
      "INFO:tensorflow:Saving dict for global step 1876: accuracy = 0.8536, global_step = 1876, loss = 0.4060222\n",
      "Evaluation results:\n",
      "\t{'accuracy': 0.8536, 'loss': 0.4060222, 'global_step': 1876}\n"
     ]
    },
    {
     "data": {
      "text/plain": [
       "node                     wolfgangs-mac-pro.home\n",
       "os              Darwin-15.6.0-x86_64-i386-64bit\n",
       "machine                                  x86_64\n",
       "cuda                                          0\n",
       "multi_gpu                                 False\n",
       "batch_size                                   64\n",
       "data_dir          /var/ellie/data/mnist_fashion\n",
       "model_dir                      /tmp/mnist_model\n",
       "train_epochs                                  2\n",
       "user                                  wgiersche\n",
       "timestamp                            1525181309\n",
       "localtime              Tue May  1 15:28:29 2018\n",
       "accuracy                                 0.8536\n",
       "steps                                      1876\n",
       "duration                                     12\n",
       "Name: 18, dtype: object"
      ]
     },
     "execution_count": 50,
     "metadata": {},
     "output_type": "execute_result"
    }
   ],
   "source": [
    "# Train\n",
    "start_time=time.time()\n",
    "mnist_classifier.train(input_fn=train_input_fn, hooks=[logging_hook])\n",
    "duration=time.time() - start_time\n",
    "\n",
    "# Evaluate\n",
    "eval_results = mnist_classifier.evaluate(input_fn=eval_input_fn)\n",
    "hparams.accuracy = eval_results['accuracy']\n",
    "hparams.steps = eval_results['global_step']\n",
    "hparams.duration = int(duration)\n",
    "\n",
    "# Report!\n",
    "history.report_experiment(hparams)\n",
    "\n",
    "print('Evaluation results:\\n\\t%s' % eval_results)\n",
    "hparams"
   ]
  },
  {
   "cell_type": "code",
   "execution_count": null,
   "metadata": {},
   "outputs": [],
   "source": []
  },
  {
   "cell_type": "code",
   "execution_count": null,
   "metadata": {},
   "outputs": [],
   "source": []
  }
 ],
 "metadata": {
  "kernelspec": {
   "display_name": "Python 3",
   "language": "python",
   "name": "python3"
  },
  "language_info": {
   "codemirror_mode": {
    "name": "ipython",
    "version": 3
   },
   "file_extension": ".py",
   "mimetype": "text/x-python",
   "name": "python",
   "nbconvert_exporter": "python",
   "pygments_lexer": "ipython3",
   "version": "3.6.4"
  }
 },
 "nbformat": 4,
 "nbformat_minor": 2
}
