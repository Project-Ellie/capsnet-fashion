{
 "cells": [
  {
   "cell_type": "code",
   "execution_count": 1,
   "metadata": {},
   "outputs": [],
   "source": [
    "import argparse\n",
    "import sys\n",
    "import os\n",
    "import time\n",
    "import copy\n",
    "\n",
    "import tensorflow as tf\n",
    "import pandas as pd\n",
    "import numpy as np\n",
    "\n",
    "import dataset\n",
    "#from models.conv2_dense2_dropout import Model\n",
    "from models.dense3 import Model\n",
    "\n",
    "from helpers.os_utils import os_info\n",
    "from helpers.history import ExpHistory\n",
    "from helpers.estimator_utils import create_model_fn, split_datasource"
   ]
  },
  {
   "cell_type": "markdown",
   "metadata": {},
   "source": [
    "### Get the history and the runtime context "
   ]
  },
  {
   "cell_type": "code",
   "execution_count": 14,
   "metadata": {},
   "outputs": [
    {
     "name": "stdout",
     "output_type": "stream",
     "text": [
      "\n",
      "\n",
      "\n",
      "Welcome, wgiersche, it's Tue May  1 23:23:21 2018, and you'll be working with Tensorflow version 1.8.0\n",
      "Your current runtime: \n",
      "  node: wolfgangs-mac-pro.home, \n",
      "  os: Darwin-15.6.0-x86_64-i386-64bit, \n",
      "  machine: x86_64, \n",
      "  cuda: False\n",
      "\n",
      "\n"
     ]
    },
    {
     "data": {
      "text/html": [
       "<div>\n",
       "<style scoped>\n",
       "    .dataframe tbody tr th:only-of-type {\n",
       "        vertical-align: middle;\n",
       "    }\n",
       "\n",
       "    .dataframe tbody tr th {\n",
       "        vertical-align: top;\n",
       "    }\n",
       "\n",
       "    .dataframe thead th {\n",
       "        text-align: right;\n",
       "    }\n",
       "</style>\n",
       "<table border=\"1\" class=\"dataframe\">\n",
       "  <thead>\n",
       "    <tr style=\"text-align: right;\">\n",
       "      <th></th>\n",
       "      <th>node</th>\n",
       "      <th>cuda</th>\n",
       "      <th>multi_gpu</th>\n",
       "      <th>batch_size</th>\n",
       "      <th>data_dir</th>\n",
       "      <th>train_epochs</th>\n",
       "      <th>localtime</th>\n",
       "      <th>steps</th>\n",
       "      <th>accuracy</th>\n",
       "      <th>duration</th>\n",
       "    </tr>\n",
       "  </thead>\n",
       "  <tbody>\n",
       "    <tr>\n",
       "      <th>24</th>\n",
       "      <td>wolfgangs-mac-pro.home</td>\n",
       "      <td>0</td>\n",
       "      <td>0</td>\n",
       "      <td>64</td>\n",
       "      <td>/var/ellie/data/mnist_fashion</td>\n",
       "      <td>2</td>\n",
       "      <td>Tue May  1 15:28:29 2018</td>\n",
       "      <td>1876.0</td>\n",
       "      <td>0.853600</td>\n",
       "      <td>12.0</td>\n",
       "    </tr>\n",
       "    <tr>\n",
       "      <th>25</th>\n",
       "      <td>wolfgangs-mac-pro.home</td>\n",
       "      <td>0</td>\n",
       "      <td>0</td>\n",
       "      <td>64</td>\n",
       "      <td>/var/ellie/data/mnist_fashion</td>\n",
       "      <td>2</td>\n",
       "      <td>Tue May  1 22:02:23 2018</td>\n",
       "      <td>1876.0</td>\n",
       "      <td>0.872000</td>\n",
       "      <td>12.0</td>\n",
       "    </tr>\n",
       "    <tr>\n",
       "      <th>26</th>\n",
       "      <td>wolfgangs-mac-pro.home</td>\n",
       "      <td>0</td>\n",
       "      <td>0</td>\n",
       "      <td>64</td>\n",
       "      <td>/var/ellie/data/mnist_fashion</td>\n",
       "      <td>2</td>\n",
       "      <td>Tue May  1 22:11:26 2018</td>\n",
       "      <td>1694.0</td>\n",
       "      <td>0.864000</td>\n",
       "      <td>14.0</td>\n",
       "    </tr>\n",
       "    <tr>\n",
       "      <th>27</th>\n",
       "      <td>wolfgangs-mac-pro.home</td>\n",
       "      <td>0</td>\n",
       "      <td>0</td>\n",
       "      <td>64</td>\n",
       "      <td>/var/ellie/data/mnist_fashion</td>\n",
       "      <td>2</td>\n",
       "      <td>Tue May  1 22:11:26 2018</td>\n",
       "      <td>3387.0</td>\n",
       "      <td>0.872500</td>\n",
       "      <td>14.0</td>\n",
       "    </tr>\n",
       "    <tr>\n",
       "      <th>28</th>\n",
       "      <td>wolfgangs-mac-pro.home</td>\n",
       "      <td>0</td>\n",
       "      <td>0</td>\n",
       "      <td>64</td>\n",
       "      <td>/var/ellie/data/mnist_fashion</td>\n",
       "      <td>2</td>\n",
       "      <td>Tue May  1 22:17:57 2018</td>\n",
       "      <td>1693.0</td>\n",
       "      <td>0.854100</td>\n",
       "      <td>14.0</td>\n",
       "    </tr>\n",
       "    <tr>\n",
       "      <th>29</th>\n",
       "      <td>wolfgangs-mac-pro.home</td>\n",
       "      <td>0</td>\n",
       "      <td>0</td>\n",
       "      <td>64</td>\n",
       "      <td>/var/ellie/data/mnist_fashion</td>\n",
       "      <td>2</td>\n",
       "      <td>Tue May  1 22:23:53 2018</td>\n",
       "      <td>1693.0</td>\n",
       "      <td>0.869825</td>\n",
       "      <td>15.0</td>\n",
       "    </tr>\n",
       "    <tr>\n",
       "      <th>30</th>\n",
       "      <td>wolfgangs-mac-pro.home</td>\n",
       "      <td>0</td>\n",
       "      <td>0</td>\n",
       "      <td>64</td>\n",
       "      <td>/var/ellie/data/mnist_fashion</td>\n",
       "      <td>2</td>\n",
       "      <td>Tue May  1 22:27:11 2018</td>\n",
       "      <td>1782.0</td>\n",
       "      <td>0.871333</td>\n",
       "      <td>15.0</td>\n",
       "    </tr>\n",
       "    <tr>\n",
       "      <th>31</th>\n",
       "      <td>wolfgangs-mac-pro.home</td>\n",
       "      <td>0</td>\n",
       "      <td>0</td>\n",
       "      <td>64</td>\n",
       "      <td>/var/ellie/data/mnist_fashion</td>\n",
       "      <td>2</td>\n",
       "      <td>Tue May  1 22:34:13 2018</td>\n",
       "      <td>1782.0</td>\n",
       "      <td>0.872000</td>\n",
       "      <td>15.0</td>\n",
       "    </tr>\n",
       "    <tr>\n",
       "      <th>32</th>\n",
       "      <td>wolfgangs-mac-pro.home</td>\n",
       "      <td>0</td>\n",
       "      <td>0</td>\n",
       "      <td>64</td>\n",
       "      <td>/var/ellie/data/mnist_fashion</td>\n",
       "      <td>2</td>\n",
       "      <td>Tue May  1 22:34:13 2018</td>\n",
       "      <td>3564.0</td>\n",
       "      <td>0.875333</td>\n",
       "      <td>16.0</td>\n",
       "    </tr>\n",
       "    <tr>\n",
       "      <th>33</th>\n",
       "      <td>wolfgangs-mac-pro.home</td>\n",
       "      <td>0</td>\n",
       "      <td>0</td>\n",
       "      <td>64</td>\n",
       "      <td>/var/ellie/data/mnist_fashion</td>\n",
       "      <td>2</td>\n",
       "      <td>Tue May  1 22:34:13 2018</td>\n",
       "      <td>5346.0</td>\n",
       "      <td>0.894000</td>\n",
       "      <td>15.0</td>\n",
       "    </tr>\n",
       "  </tbody>\n",
       "</table>\n",
       "</div>"
      ],
      "text/plain": [
       "                      node  cuda  multi_gpu  batch_size  \\\n",
       "24  wolfgangs-mac-pro.home     0          0          64   \n",
       "25  wolfgangs-mac-pro.home     0          0          64   \n",
       "26  wolfgangs-mac-pro.home     0          0          64   \n",
       "27  wolfgangs-mac-pro.home     0          0          64   \n",
       "28  wolfgangs-mac-pro.home     0          0          64   \n",
       "29  wolfgangs-mac-pro.home     0          0          64   \n",
       "30  wolfgangs-mac-pro.home     0          0          64   \n",
       "31  wolfgangs-mac-pro.home     0          0          64   \n",
       "32  wolfgangs-mac-pro.home     0          0          64   \n",
       "33  wolfgangs-mac-pro.home     0          0          64   \n",
       "\n",
       "                         data_dir  train_epochs                 localtime  \\\n",
       "24  /var/ellie/data/mnist_fashion             2  Tue May  1 15:28:29 2018   \n",
       "25  /var/ellie/data/mnist_fashion             2  Tue May  1 22:02:23 2018   \n",
       "26  /var/ellie/data/mnist_fashion             2  Tue May  1 22:11:26 2018   \n",
       "27  /var/ellie/data/mnist_fashion             2  Tue May  1 22:11:26 2018   \n",
       "28  /var/ellie/data/mnist_fashion             2  Tue May  1 22:17:57 2018   \n",
       "29  /var/ellie/data/mnist_fashion             2  Tue May  1 22:23:53 2018   \n",
       "30  /var/ellie/data/mnist_fashion             2  Tue May  1 22:27:11 2018   \n",
       "31  /var/ellie/data/mnist_fashion             2  Tue May  1 22:34:13 2018   \n",
       "32  /var/ellie/data/mnist_fashion             2  Tue May  1 22:34:13 2018   \n",
       "33  /var/ellie/data/mnist_fashion             2  Tue May  1 22:34:13 2018   \n",
       "\n",
       "     steps  accuracy  duration  \n",
       "24  1876.0  0.853600      12.0  \n",
       "25  1876.0  0.872000      12.0  \n",
       "26  1694.0  0.864000      14.0  \n",
       "27  3387.0  0.872500      14.0  \n",
       "28  1693.0  0.854100      14.0  \n",
       "29  1693.0  0.869825      15.0  \n",
       "30  1782.0  0.871333      15.0  \n",
       "31  1782.0  0.872000      15.0  \n",
       "32  3564.0  0.875333      16.0  \n",
       "33  5346.0  0.894000      15.0  "
      ]
     },
     "execution_count": 14,
     "metadata": {},
     "output_type": "execute_result"
    }
   ],
   "source": [
    "tf.logging.set_verbosity(tf.logging.INFO)\n",
    "\n",
    "HIST_FILE_NAME = 'experiment_history.csv'\n",
    "history = ExpHistory(HIST_FILE_NAME)\n",
    "\n",
    "localtime = time.asctime(time.localtime(time.time()))\n",
    "user = os.environ.get('USER', os.environ.get('USERNAME', 'anonymous'))\n",
    "print(\"\\n\\n\")\n",
    "print(\"Welcome, %s, it's %s, and you'll be working with Tensorflow version %s\" % (user, localtime, tf.__version__))\n",
    "rt=os_info()\n",
    "this_os = rt['os']\n",
    "this_node = rt['node']\n",
    "this_machine = rt['machine']\n",
    "this_cuda = rt['cuda']\n",
    "print(\"Your current runtime: \\n  node: %s, \\n  os: %s, \\n  machine: %s, \\n  cuda: %s\" % (this_node, this_os, this_machine, this_cuda))\n",
    "print(\"\\n\")\n",
    "columns=[\n",
    "    'node', \n",
    "    #'os',\n",
    "    #'machine',\n",
    "    'cuda',\n",
    "    'multi_gpu',\n",
    "    'batch_size',\n",
    "    'data_dir',\n",
    "    #'model_dir',\n",
    "    'train_epochs',\n",
    "    #'user',\n",
    "    #'time_stamp',\n",
    "    'localtime',\n",
    "    'steps',\n",
    "    'accuracy',\n",
    "    'duration'\n",
    "]\n",
    "history.experiments.tail(10)[columns]"
   ]
  },
  {
   "cell_type": "markdown",
   "metadata": {},
   "source": [
    "### Want to start with the most recent record from this platform?"
   ]
  },
  {
   "cell_type": "code",
   "execution_count": 3,
   "metadata": {},
   "outputs": [
    {
     "data": {
      "text/plain": [
       "node                     wolfgangs-mac-pro.home\n",
       "os              Darwin-15.6.0-x86_64-i386-64bit\n",
       "machine                                  x86_64\n",
       "cuda                                          0\n",
       "multi_gpu                                     0\n",
       "batch_size                                  256\n",
       "data_dir                  /var/ellie/data/mnist\n",
       "model_dir                      /tmp/mnist_model\n",
       "train_epochs                                 12\n",
       "user                                  wgiersche\n",
       "timestamp                            1525206853\n",
       "localtime              Tue May  1 22:34:13 2018\n",
       "accuracy                                 0.9797\n",
       "steps                                      2820\n",
       "duration                                     30\n",
       "Name: 18, dtype: object"
      ]
     },
     "execution_count": 3,
     "metadata": {},
     "output_type": "execute_result"
    }
   ],
   "source": [
    "hparams=history.suggest_from_history()\n",
    "hparams=history.copy_from_record(18)\n",
    "hparams"
   ]
  },
  {
   "cell_type": "markdown",
   "metadata": {},
   "source": [
    "### Use as new hyper-parameter record, with adaptations "
   ]
  },
  {
   "cell_type": "code",
   "execution_count": 4,
   "metadata": {},
   "outputs": [
    {
     "data": {
      "text/plain": [
       "node                     wolfgangs-mac-pro.home\n",
       "os              Darwin-15.6.0-x86_64-i386-64bit\n",
       "machine                                  x86_64\n",
       "cuda                                          0\n",
       "multi_gpu                                 False\n",
       "batch_size                                   64\n",
       "data_dir          /var/ellie/data/mnist_fashion\n",
       "model_dir                      /tmp/mnist_model\n",
       "train_epochs                                  2\n",
       "user                                  wgiersche\n",
       "timestamp                            1525206853\n",
       "localtime              Tue May  1 22:34:13 2018\n",
       "accuracy                                 0.9797\n",
       "steps                                      2820\n",
       "duration                                     30\n",
       "Name: 18, dtype: object"
      ]
     },
     "execution_count": 4,
     "metadata": {},
     "output_type": "execute_result"
    }
   ],
   "source": [
    "DATA_SET = 'FASHION'\n",
    "hparams.data_dir = '/var/ellie/data/mnist_fashion'\n",
    "hparams.train_epochs = 2\n",
    "hparams.batch_size = 64\n",
    "hparams.multi_gpu = False\n",
    "hparams"
   ]
  },
  {
   "cell_type": "markdown",
   "metadata": {},
   "source": [
    "# Get to work!"
   ]
  },
  {
   "cell_type": "code",
   "execution_count": 5,
   "metadata": {},
   "outputs": [],
   "source": [
    "# For the sake of this tutorial, we always start from scratch\n",
    "!rm -rf /tmp/mnist_model"
   ]
  },
  {
   "cell_type": "markdown",
   "metadata": {},
   "source": [
    "### The model function constructs the computational graphs for training, eval and test\n",
    "Note that the actual construction takes place within the Estimator. Thus, none of the the constructing code should be explicitly called from the API client. The Estimator will complain that parts that have been constructed prior to those that itself constructs, don't belong to the same graph. "
   ]
  },
  {
   "cell_type": "code",
   "execution_count": 6,
   "metadata": {},
   "outputs": [],
   "source": [
    "model_function = create_model_fn(\n",
    "    lambda params: Model(params),\n",
    "    tf.train.AdamOptimizer(),\n",
    "    tf.losses.sparse_softmax_cross_entropy,\n",
    "    hparams)"
   ]
  },
  {
   "cell_type": "markdown",
   "metadata": {},
   "source": [
    " "
   ]
  },
  {
   "cell_type": "markdown",
   "metadata": {},
   "source": [
    "Performance depends on the data format, and differs between CPU and GPU computations"
   ]
  },
  {
   "cell_type": "code",
   "execution_count": 7,
   "metadata": {},
   "outputs": [],
   "source": [
    "data_format = ('channels_first' if tf.test.is_built_with_cuda() else 'channels_last')"
   ]
  },
  {
   "cell_type": "markdown",
   "metadata": {},
   "source": [
    "### The Estimator is the center piece of Tensorflow's new API"
   ]
  },
  {
   "cell_type": "code",
   "execution_count": 8,
   "metadata": {},
   "outputs": [
    {
     "name": "stdout",
     "output_type": "stream",
     "text": [
      "INFO:tensorflow:Using default config.\n",
      "INFO:tensorflow:Using config: {'_model_dir': '/tmp/mnist_model', '_tf_random_seed': None, '_save_summary_steps': 100, '_save_checkpoints_steps': None, '_save_checkpoints_secs': 600, '_session_config': None, '_keep_checkpoint_max': 5, '_keep_checkpoint_every_n_hours': 10000, '_log_step_count_steps': 100, '_train_distribute': None, '_service': None, '_cluster_spec': <tensorflow.python.training.server_lib.ClusterSpec object at 0x117f274e0>, '_task_type': 'worker', '_task_id': 0, '_global_id_in_cluster': 0, '_master': '', '_evaluation_master': '', '_is_chief': True, '_num_ps_replicas': 0, '_num_worker_replicas': 1}\n"
     ]
    }
   ],
   "source": [
    "mnist_classifier = tf.estimator.Estimator(\n",
    "    model_fn=model_function,\n",
    "    model_dir=hparams.model_dir,\n",
    "    params={\n",
    "        'data_format': data_format,\n",
    "        'multi_gpu': hparams.multi_gpu\n",
    "    })"
   ]
  },
  {
   "cell_type": "markdown",
   "metadata": {},
   "source": [
    "##### ```input_fn``` functions are a factories for ```DataSet```s"
   ]
  },
  {
   "cell_type": "markdown",
   "metadata": {},
   "source": [
    "### Split the training dataset into training and evaluation sets"
   ]
  },
  {
   "cell_type": "code",
   "execution_count": 9,
   "metadata": {},
   "outputs": [],
   "source": [
    "def train_input_fn():\n",
    "    ds_tr = dataset.training_dataset(hparams.data_dir, DATA_SET)\n",
    "    ds_tr_tr, _ = split_datasource(ds_tr, 60000, 0.95)\n",
    "    ds1 = ds_tr_tr.cache().shuffle(buffer_size=57000).\\\n",
    "        repeat(hparams.train_epochs).\\\n",
    "        batch(hparams.batch_size)\n",
    "    return ds1\n",
    "\n",
    "def eval_input_fn():\n",
    "    ds_tr = dataset.training_dataset(hparams.data_dir, DATA_SET)\n",
    "    _, ds_tr_ev = split_datasource(ds_tr, 60000, 0.95)\n",
    "    ds2 = ds_tr_ev.batch(hparams.batch_size)\n",
    "    return ds2"
   ]
  },
  {
   "cell_type": "markdown",
   "metadata": {},
   "source": [
    "### Logging hooks"
   ]
  },
  {
   "cell_type": "code",
   "execution_count": 10,
   "metadata": {},
   "outputs": [],
   "source": [
    "tensors_to_log = {'train_accuracy': 'train_accuracy'}\n",
    "logging_hook = tf.train.LoggingTensorHook(tensors=tensors_to_log, every_n_iter=1000)"
   ]
  },
  {
   "cell_type": "markdown",
   "metadata": {},
   "source": [
    "### Run the training and report the new hyper-parameters "
   ]
  },
  {
   "cell_type": "code",
   "execution_count": 13,
   "metadata": {},
   "outputs": [
    {
     "name": "stdout",
     "output_type": "stream",
     "text": [
      "INFO:tensorflow:Calling model_fn.\n",
      "INFO:tensorflow:Done calling model_fn.\n",
      "INFO:tensorflow:Create CheckpointSaverHook.\n",
      "INFO:tensorflow:Graph was finalized.\n",
      "INFO:tensorflow:Restoring parameters from /tmp/mnist_model/model.ckpt-3564\n",
      "INFO:tensorflow:Running local_init_op.\n",
      "INFO:tensorflow:Done running local_init_op.\n",
      "INFO:tensorflow:Saving checkpoints for 3565 into /tmp/mnist_model/model.ckpt.\n",
      "INFO:tensorflow:train_accuracy = 0.9375\n",
      "INFO:tensorflow:loss = 0.23161556, step = 3565\n",
      "INFO:tensorflow:global_step/sec: 209.31\n",
      "INFO:tensorflow:loss = 0.44792962, step = 3665 (0.478 sec)\n",
      "INFO:tensorflow:global_step/sec: 261.985\n",
      "INFO:tensorflow:loss = 0.36448893, step = 3765 (0.382 sec)\n",
      "INFO:tensorflow:global_step/sec: 263.071\n",
      "INFO:tensorflow:loss = 0.26584047, step = 3865 (0.380 sec)\n",
      "INFO:tensorflow:global_step/sec: 263.675\n",
      "INFO:tensorflow:loss = 0.3439101, step = 3965 (0.379 sec)\n",
      "INFO:tensorflow:global_step/sec: 260.221\n",
      "INFO:tensorflow:loss = 0.31222665, step = 4065 (0.385 sec)\n",
      "INFO:tensorflow:global_step/sec: 259.86\n",
      "INFO:tensorflow:loss = 0.20889139, step = 4165 (0.385 sec)\n",
      "INFO:tensorflow:global_step/sec: 262.296\n",
      "INFO:tensorflow:loss = 0.268032, step = 4265 (0.381 sec)\n",
      "INFO:tensorflow:global_step/sec: 261.916\n",
      "INFO:tensorflow:loss = 0.34586245, step = 4365 (0.382 sec)\n",
      "INFO:tensorflow:global_step/sec: 253.085\n",
      "INFO:tensorflow:loss = 0.19249514, step = 4465 (0.395 sec)\n",
      "INFO:tensorflow:global_step/sec: 262.903\n",
      "INFO:tensorflow:train_accuracy = 0.8963068 (3.927 sec)\n",
      "INFO:tensorflow:loss = 0.23609193, step = 4565 (0.381 sec)\n",
      "INFO:tensorflow:global_step/sec: 262.586\n",
      "INFO:tensorflow:loss = 0.35104543, step = 4665 (0.380 sec)\n",
      "INFO:tensorflow:global_step/sec: 264.411\n",
      "INFO:tensorflow:loss = 0.31496248, step = 4765 (0.378 sec)\n",
      "INFO:tensorflow:global_step/sec: 260.111\n",
      "INFO:tensorflow:loss = 0.44921774, step = 4865 (0.385 sec)\n",
      "INFO:tensorflow:global_step/sec: 256.77\n",
      "INFO:tensorflow:loss = 0.37615937, step = 4965 (0.389 sec)\n",
      "INFO:tensorflow:global_step/sec: 253.868\n",
      "INFO:tensorflow:loss = 0.24420346, step = 5065 (0.394 sec)\n",
      "INFO:tensorflow:global_step/sec: 257.994\n",
      "INFO:tensorflow:loss = 0.17687747, step = 5165 (0.388 sec)\n",
      "INFO:tensorflow:global_step/sec: 254.146\n",
      "INFO:tensorflow:loss = 0.28064474, step = 5265 (0.393 sec)\n",
      "INFO:tensorflow:Saving checkpoints for 5346 into /tmp/mnist_model/model.ckpt.\n",
      "INFO:tensorflow:Loss for final step: 0.2209027.\n",
      "INFO:tensorflow:Calling model_fn.\n",
      "INFO:tensorflow:Done calling model_fn.\n",
      "INFO:tensorflow:Starting evaluation at 2018-05-01-21:06:56\n",
      "INFO:tensorflow:Graph was finalized.\n",
      "INFO:tensorflow:Restoring parameters from /tmp/mnist_model/model.ckpt-5346\n",
      "INFO:tensorflow:Running local_init_op.\n",
      "INFO:tensorflow:Done running local_init_op.\n",
      "INFO:tensorflow:Finished evaluation at 2018-05-01-21:07:02\n",
      "INFO:tensorflow:Saving dict for global step 5346: accuracy = 0.894, global_step = 5346, loss = 0.30476612\n",
      "Evaluation results:\n",
      "\t{'accuracy': 0.894, 'loss': 0.30476612, 'global_step': 5346}\n"
     ]
    },
    {
     "data": {
      "text/plain": [
       "node                     wolfgangs-mac-pro.home\n",
       "os              Darwin-15.6.0-x86_64-i386-64bit\n",
       "machine                                  x86_64\n",
       "cuda                                          0\n",
       "multi_gpu                                 False\n",
       "batch_size                                   64\n",
       "data_dir          /var/ellie/data/mnist_fashion\n",
       "model_dir                      /tmp/mnist_model\n",
       "train_epochs                                  2\n",
       "user                                  wgiersche\n",
       "timestamp                            1525206853\n",
       "localtime              Tue May  1 22:34:13 2018\n",
       "accuracy                                  0.894\n",
       "steps                                      5346\n",
       "duration                                     15\n",
       "Name: 18, dtype: object"
      ]
     },
     "execution_count": 13,
     "metadata": {},
     "output_type": "execute_result"
    }
   ],
   "source": [
    "# Train\n",
    "start_time=time.time()\n",
    "mnist_classifier.train(input_fn=train_input_fn, hooks=[logging_hook])\n",
    "duration=time.time() - start_time\n",
    "\n",
    "# Evaluate\n",
    "eval_results = mnist_classifier.evaluate(input_fn=eval_input_fn)\n",
    "hparams.accuracy = eval_results['accuracy']\n",
    "hparams.steps = eval_results['global_step']\n",
    "hparams.duration = int(duration)\n",
    "\n",
    "# Report!\n",
    "history.report_experiment(hparams)\n",
    "\n",
    "print('Evaluation results:\\n\\t%s' % eval_results)\n",
    "hparams"
   ]
  },
  {
   "cell_type": "code",
   "execution_count": null,
   "metadata": {},
   "outputs": [],
   "source": []
  }
 ],
 "metadata": {
  "kernelspec": {
   "display_name": "Python 3",
   "language": "python",
   "name": "python3"
  },
  "language_info": {
   "codemirror_mode": {
    "name": "ipython",
    "version": 3
   },
   "file_extension": ".py",
   "mimetype": "text/x-python",
   "name": "python",
   "nbconvert_exporter": "python",
   "pygments_lexer": "ipython3",
   "version": "3.6.4"
  }
 },
 "nbformat": 4,
 "nbformat_minor": 2
}
