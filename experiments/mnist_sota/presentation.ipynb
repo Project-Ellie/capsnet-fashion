{
 "cells": [
  {
   "cell_type": "markdown",
   "metadata": {
    "slideshow": {
     "slide_type": "slide"
    }
   },
   "source": [
    "## Principles and Patterns for ML Practitioners\n",
    "\n",
    "##### By Wolfgang Giersche, Zühlke Engineering AG\n",
    "\n",
    "#### S.O.L.I.D (and more) principles applied to an ML problem\n",
    "\n",
    "![solid gold](images/solid_gold.jpg)"
   ]
  },
  {
   "cell_type": "markdown",
   "metadata": {
    "slideshow": {
     "slide_type": "skip"
    }
   },
   "source": [
    "---"
   ]
  },
  {
   "cell_type": "markdown",
   "metadata": {
    "slideshow": {
     "slide_type": "slide"
    }
   },
   "source": [
    "# Principles and Practices in Code\n",
    "\n",
    "#### - Background: Tensorflow\n",
    "#### - S.O.L.I.D Principles\n",
    "#### - TF-```Estimator```, TF-```Dataset```, and TF-```Tower``` API\n",
    "#### - Object-Orientation in Python\n",
    "#### - Zero-Warnings Strategy\n",
    "\n",
    "\n",
    "\n",
    "# Principles and Practices in Collaboration\n",
    "\n",
    "#### - The *Experiment* Concept\n",
    "#### - Explore - Experiment - Build - Infer\n",
    "\n",
    "\n"
   ]
  },
  {
   "cell_type": "markdown",
   "metadata": {
    "slideshow": {
     "slide_type": "skip"
    }
   },
   "source": [
    "---"
   ]
  },
  {
   "cell_type": "markdown",
   "metadata": {
    "slideshow": {
     "slide_type": "slide"
    }
   },
   "source": [
    "# Background: Tensorflow\n",
    "\n",
    "The content here is heavily inspired by the \n",
    "[github tensorflow repo](https://github.com/tensorflow/models/tree/master/official/mnist) - \n",
    "indeed initially copied, and then significantly refactored to demonstrate how SWE patterns and principles \n",
    "make the code more readable, testable and reusable.\n",
    "\n",
    "This tutorial is based on  [Google's official TF example](https://github.com/tensorflow/models/tree/master/official/mnist)\n",
    "using [Zalando Research's Fashion Dataset](https://github.com/zalandoresearch/fashion-mnist)\n",
    "in addition to the well-known [Handwritten Digits](http://yann.lecun.com/exdb/mnist/).\n",
    "\n",
    "The [S.O.L.I.D. Principles](http://www.cvc.uab.es/shared/teach/a21291/temes/object_oriented_design/materials_adicionals/principles_and_patterns.pdf) \n",
    "are commonly attributed to [Robert C. Martin (Uncle Bob)](https://de.wikipedia.org/wiki/Robert_Cecil_Martin).\n"
   ]
  },
  {
   "cell_type": "markdown",
   "metadata": {
    "slideshow": {
     "slide_type": "skip"
    }
   },
   "source": [
    "---"
   ]
  },
  {
   "cell_type": "markdown",
   "metadata": {
    "slideshow": {
     "slide_type": "subslide"
    }
   },
   "source": [
    "# Tensorflow Building Blocks\n",
    "##### I am using the most current TF API 1.8.0 with the following building blocks:\n",
    "\n",
    "- [Tensorflow Dataset API](https://www.tensorflow.org/programmers_guide/datasets)\n",
    "    - Allows for pre-processing with a monadic API (map, flatmap, etc)\n",
    "    - Preprocessing may even happen in parallel streaming fashion\n",
    "    \n",
    "- [Estimator API](https://www.tensorflow.org/programmers_guide/estimators)\n",
    "    - very convenient highlevel API\n",
    "    - Checkpointing and recovery \n",
    "    - Tensorboard summaries\n",
    "    - much more...    \n",
    "    \n",
    "- [Multi-GPU Training of contrib.estimator package](https://www.tensorflow.org/api_docs/python/tf/contrib/estimator/)\n",
    "    - convenient wrapper to distribute training on any number of GPUs on a single machine\n",
    "    - works by means of synchonous gradient averaging over parallel mini-batches"
   ]
  },
  {
   "cell_type": "markdown",
   "metadata": {
    "slideshow": {
     "slide_type": "skip"
    }
   },
   "source": [
    "---"
   ]
  },
  {
   "cell_type": "markdown",
   "metadata": {
    "slideshow": {
     "slide_type": "slide"
    }
   },
   "source": [
    "# S.O.L.I.D\n",
    "## SRP = Single Responsibility Principle\n",
    "## OCP = Open-Close Principle\n",
    "## LSP = Liskov Substitution Principle\n",
    "## ISP = Interface Segregation Principle\n",
    "## DIP = Dependency Inversion Principle"
   ]
  },
  {
   "cell_type": "markdown",
   "metadata": {
    "slideshow": {
     "slide_type": "skip"
    }
   },
   "source": [
    "---"
   ]
  },
  {
   "cell_type": "markdown",
   "metadata": {
    "slideshow": {
     "slide_type": "slide"
    }
   },
   "source": [
    "# The Anatomy of a Machine Learning Experiment\n",
    "![Anatomy of an ML epic](images/Anatomy-of-an-experiment.png)"
   ]
  },
  {
   "cell_type": "markdown",
   "metadata": {
    "slideshow": {
     "slide_type": "skip"
    }
   },
   "source": [
    "---"
   ]
  },
  {
   "cell_type": "markdown",
   "metadata": {
    "slideshow": {
     "slide_type": "slide"
    }
   },
   "source": [
    "## Exactly because data analytics and machine learning\n",
    "\n",
    "## have rather *exploratory traits*\n",
    "\n",
    "## practices should better support *code and config changes* \n",
    "\n",
    "## *without endangering* the quality of the code."
   ]
  },
  {
   "cell_type": "markdown",
   "metadata": {
    "slideshow": {
     "slide_type": "skip"
    }
   },
   "source": [
    "---"
   ]
  },
  {
   "cell_type": "markdown",
   "metadata": {
    "slideshow": {
     "slide_type": "slide"
    }
   },
   "source": [
    "# Explore - Experiment - Train - Inference\n",
    "![ex-ex-tr-inf](images/Ex-Ex-Tr-Inf.png)"
   ]
  },
  {
   "cell_type": "markdown",
   "metadata": {
    "slideshow": {
     "slide_type": "slide"
    }
   },
   "source": [
    "# Supplementary material in this tutorial:\n",
    "\n",
    "- parallel training on two or more GPUs\n",
    "- The concept of Estimator and EstimatorSpec\n",
    "- Datasets and functional monadic interfaces\n",
    "- The concept of a computational graph -> tf.InteractiveSession() to the rescue\n",
    "- Neural networks: concepts"
   ]
  },
  {
   "cell_type": "code",
   "execution_count": null,
   "metadata": {},
   "outputs": [],
   "source": []
  }
 ],
 "metadata": {
  "kernelspec": {
   "display_name": "Python 3",
   "language": "python",
   "name": "python3"
  },
  "language_info": {
   "codemirror_mode": {
    "name": "ipython",
    "version": 3
   },
   "file_extension": ".py",
   "mimetype": "text/x-python",
   "name": "python",
   "nbconvert_exporter": "python",
   "pygments_lexer": "ipython3",
   "version": "3.6.4"
  }
 },
 "nbformat": 4,
 "nbformat_minor": 2
}
