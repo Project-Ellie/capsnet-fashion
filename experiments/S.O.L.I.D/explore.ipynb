{
 "cells": [
  {
   "cell_type": "markdown",
   "metadata": {},
   "source": [
    "# S.O.L.I.D. Principles for ML Practitioners\n",
    "\n",
    "##### By Wolfgang Giersche, Zühlke Engineering AG\n",
    "\n",
    "\n",
    "\n",
    "In the following demonstration, I am using the most current Tensorflow API 1.6.0 rc1 with the following building blocks:\n",
    "\n",
    "- [Tensorflow Dataset API](https://www.tensorflow.org/programmers_guide/datasets)\n",
    "    - Allows for pre-processing with a monadic API (map, flatmap, etc)\n",
    "    - Preprocessing may even happen in parallel streaming fashion\n",
    "    \n",
    "- [Estimator API](https://www.tensorflow.org/programmers_guide/estimators)\n",
    "    - very convenient highlevel API\n",
    "    - Checkpointing and recovery \n",
    "    - Tensorboard summaries\n",
    "    - much more...\n",
    "- [Multi-GPU Training of contrib.estimator package](https://www.tensorflow.org/api_docs/python/tf/contrib/estimator/)\n",
    "    - convenient wrapper to distribute training on any number of GPUs on a single machine\n",
    "    - works by means of synchonous gradient averaging over parallel mini-batches\n",
    "\n",
    "This tutorial is based on  [Google's official TF MNIST example](https://github.com/tensorflow/models/tree/master/official/mnist), only this time\n",
    "using [Zalando Research's Fashion Dataset](https://github.com/zalandoresearch/fashion-mnist)\n",
    "instead of the typical [Handwritten Digits](http://yann.lecun.com/exdb/mnist/).\n",
    "\n",
    "The [S.O.L.I.D. Principles](http://www.cvc.uab.es/shared/teach/a21291/temes/object_oriented_design/materials_adicionals/principles_and_patterns.pdf) \n",
    "are commonly attributed to [Robert C. Martin (Uncle Bob)](https://de.wikipedia.org/wiki/Robert_Cecil_Martin).\n"
   ]
  },
  {
   "cell_type": "markdown",
   "metadata": {},
   "source": [
    "## Prelude: Looking at the Problem\n",
    "\n",
    "We want to understand what piece of clothing is depicted on each image"
   ]
  },
  {
   "cell_type": "code",
   "execution_count": 2,
   "metadata": {},
   "outputs": [],
   "source": [
    "from IPython.display import Image\n",
    "from matplotlib import pyplot as plt\n",
    "import dataset\n",
    "import tensorflow as tf"
   ]
  },
  {
   "cell_type": "code",
   "execution_count": 3,
   "metadata": {},
   "outputs": [],
   "source": [
    "sess = tf.InteractiveSession()"
   ]
  },
  {
   "cell_type": "code",
   "execution_count": 25,
   "metadata": {},
   "outputs": [],
   "source": [
    "training_set = dataset.training_dataset(\"/var/ellie/data/mnist_fashion\")\n",
    "next_set = training_set.batch(10).make_one_shot_iterator().get_next()"
   ]
  },
  {
   "cell_type": "code",
   "execution_count": 28,
   "metadata": {},
   "outputs": [],
   "source": [
    "next = sess.run(next_set)"
   ]
  },
  {
   "cell_type": "markdown",
   "metadata": {},
   "source": [
    "Let's have a look into the box!"
   ]
  },
  {
   "cell_type": "code",
   "execution_count": 29,
   "metadata": {},
   "outputs": [
    {
     "data": {
      "image/png": "[encoded data removed]",
      "text/plain": [
       "<matplotlib.figure.Figure at 0x11cc9acc0>"
      ]
     },
     "metadata": {},
     "output_type": "display_data"
    }
   ],
   "source": [
    "f, arr = plt.subplots(2,5)\n",
    "for row in (0, 1):\n",
    "    for col in range(5):\n",
    "        i = 5 * row + col\n",
    "        img = next[0][i].reshape([28,28])\n",
    "        arr[row, col].imshow(img)"
   ]
  },
  {
   "cell_type": "markdown",
   "metadata": {},
   "source": [
    "The 10 classes are \n",
    "\n",
    "| Label | Description |\n",
    "--------|-------------|\n",
    "| 0     | T-shirt/top |\n",
    "| 1     | Trouser     |\n",
    "| 2     | Pullover    |\n",
    "| 3     | Dress       |\n",
    "| 4     | Coat        |\n",
    "| 5     | Sandal      |\n",
    "| 6     | Shirt       |\n",
    "| 7     | Sneaker     |\n",
    "| 8     | Bag         |\n",
    "| 9     | Ankle Boot  |\n"
   ]
  },
  {
   "cell_type": "markdown",
   "metadata": {},
   "source": [
    "### The Anatomy of an Experiment"
   ]
  },
  {
   "cell_type": "markdown",
   "metadata": {},
   "source": [
    "![Anatomy of an ML epic](doc/Anatomy-of-an-experiment.png)"
   ]
  },
  {
   "cell_type": "markdown",
   "metadata": {},
   "source": [
    "Exactly because data analytics and machine learning have rather exploratory traits, \n",
    "practices better support changes without endangering the quality of the code. After the very first exploratory cycles, re-use of code fragments becomes more and more valuable and time-saving. At the same time, changing existing code introduces more and more subtle bugs, since you usually don't go through all the code again to check for side effects of your changes.\n",
    "\n",
    "Let's develop an architecture that optimally supports exploratory practices. "
   ]
  },
  {
   "cell_type": "code",
   "execution_count": null,
   "metadata": {},
   "outputs": [],
   "source": []
  }
 ],
 "metadata": {
  "kernelspec": {
   "display_name": "Python 3",
   "language": "python",
   "name": "python3"
  },
  "language_info": {
   "codemirror_mode": {
    "name": "ipython",
    "version": 3
   },
   "file_extension": ".py",
   "mimetype": "text/x-python",
   "name": "python",
   "nbconvert_exporter": "python",
   "pygments_lexer": "ipython3",
   "version": "3.6.0"
  }
 },
 "nbformat": 4,
 "nbformat_minor": 2
}
