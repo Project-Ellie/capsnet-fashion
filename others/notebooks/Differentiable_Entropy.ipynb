{
 "cells": [
  {
   "cell_type": "markdown",
   "metadata": {},
   "source": [
    "## A Differentiable Approximation for Entropies \n",
    "\n",
    "We have seen how we can calculate the total entropy and the conditional entropy with regards to the labels of a mini-batch of image samples with the help of simple statistics based on binned distributions. In order to use the entropy as a cost function within the concept of gradient-based optimization, we need a differentiable approximation of the entropy terms. That turns out to be an easy exercise. \n",
    "\n",
    "Remember the sigmoid function?\n",
    "$$ \\sigma(x) = \\frac{1}{1 + e^{-x}} $$"
   ]
  },
  {
   "cell_type": "code",
   "execution_count": 12,
   "metadata": {},
   "outputs": [],
   "source": [
    "def sigmoid(x):\n",
    "    return 1 / (1 + np.exp(-x))"
   ]
  },
  {
   "cell_type": "markdown",
   "metadata": {},
   "source": [
    "Let's use it to create a more interesting kind of *filter* function:\n",
    "\n",
    "$$ f(x) = \\sigma(x - x_l) \\cdot \\sigma(x + x_r) $$\n",
    "\n",
    "For example, for $x_l=5$ and $x_r=15$, that function looks like"
   ]
  },
  {
   "cell_type": "code",
   "execution_count": 5,
   "metadata": {},
   "outputs": [],
   "source": [
    "import numpy as np\n",
    "import matplotlib.pyplot as plt"
   ]
  },
  {
   "cell_type": "code",
   "execution_count": 159,
   "metadata": {},
   "outputs": [
    {
     "data": {
      "image/png": "[encoded data removed]",
      "text/plain": [
       "<matplotlib.figure.Figure at 0x10b0eae48>"
      ]
     },
     "metadata": {},
     "output_type": "display_data"
    }
   ],
   "source": [
    "def f(x, x_l, x_r):\n",
    "    return sigmoid(x - x_l) * sigmoid(-x + x_r)\n",
    "x=np.linspace(0, 20, 200)\n",
    "fig, ax = plt.subplots()\n",
    "ax.plot(x, f(x, 5, 15))\n",
    "ax.grid(True, which='both')\n",
    "ax.spines['left'].set_position('zero')\n",
    "ax.spines['bottom'].set_position('zero')"
   ]
  },
  {
   "cell_type": "markdown",
   "metadata": {},
   "source": [
    "See, what it does? It approximately maps all values in a certain bin's range to 1 and all values outside of it to 0. "
   ]
  },
  {
   "cell_type": "markdown",
   "metadata": {},
   "source": [
    "To make this function more square-looking and treat the borders appropriate, we introduce stretch and margin parameters. You'll easily figure out yourself what they do.\n",
    "\n",
    "Here's the precise definition that we'll use in the following calucations\n",
    "\n",
    "Let $ x_i \\in [x_{min}, x_{max}] $ be a sample from distribution $D$, $d=x_{max}-x_{min}$,\n",
    "let $\\alpha, \\epsilon$ be arbitrary real numbers representing a stretch and a margin, then we define the *bin filter* $\\beta_n(x)$ for the $n$-th bin of width $d$ as\n",
    "\n",
    "$$ \\beta_n(x_i) = \\sigma(\\alpha \\cdot (x_i - l_n) + \\epsilon) \\cdot \n",
    " \\sigma(\\alpha \\cdot ( -x_i + l_n + d + \\epsilon))\n",
    "$$\n",
    "\n",
    "Here, $l_n$ is the left border of the $n$-th bin: $l_n = x_{min} + (n-1) \\cdot d$ "
   ]
  },
  {
   "cell_type": "code",
   "execution_count": 160,
   "metadata": {},
   "outputs": [],
   "source": [
    "def beta(n, N, l, r, alpha, epsilon):\n",
    "    \"\"\"\n",
    "    return the bin function for the n-th bin of N bins for numbers between l and r\n",
    "    alpha and epsilon are stretch and margin parameters\n",
    "    \"\"\"\n",
    "    d = (r - l) / N\n",
    "    l_n = l + (n-1) * d\n",
    "    def _beta(x):\n",
    "        return sigmoid(alpha * (x-l_n+epsilon)) * sigmoid(alpha*(-x+l_n+d+epsilon))\n",
    "    \n",
    "    return _beta"
   ]
  },
  {
   "cell_type": "markdown",
   "metadata": {},
   "source": [
    "This function has the nice property that it is differentiable and that it provides an excellent way to approximate a bin-distribution. Let's look at the following from an example distribution. Think of them as the values of a single activation for some small mini-batch. "
   ]
  },
  {
   "cell_type": "code",
   "execution_count": 241,
   "metadata": {},
   "outputs": [
    {
     "data": {
      "text/plain": [
       "array([35, 25, 55, 45, 75, 55, 45, 85, 65, 45, 65, 75, 45, 65, 35, 45, 65,\n",
       "       75, 45, 35, 55, 65, 15, 25, 95, 75, 25, 15, 95, 75, 35, 15])"
      ]
     },
     "execution_count": 241,
     "metadata": {},
     "output_type": "execute_result"
    }
   ],
   "source": [
    "D=np.array([3,2,5,4,7,5,4,8,6,4,6,7,4,6,3,4,6,7,4,3,5,6,1,2,9,7,2,1,9,7,3,1])*10+5\n",
    "L=np.array([0,0,1,1,1,0,1,2,0,1,0,2,0,1,0,1,1,1,0,0,1,1,0,0,2,2,0,0,2,1,0,0])\n",
    "D"
   ]
  },
  {
   "cell_type": "markdown",
   "metadata": {},
   "source": [
    "Let's put them into 5 bins, like we did for the entropy statistics. Note that, of course, the choice of 5 is arbitrary, so consider this a hyper parameter. In fact, when you vary this parameter reasonably, this shouldn't have any noteworthy impact on the results. "
   ]
  },
  {
   "cell_type": "code",
   "execution_count": 162,
   "metadata": {},
   "outputs": [
    {
     "data": {
      "text/plain": [
       "(array([ 6., 10.,  3., 10.,  3.]),\n",
       " array([15., 31., 47., 63., 79., 95.]),\n",
       " <a list of 5 Patch objects>)"
      ]
     },
     "execution_count": 162,
     "metadata": {},
     "output_type": "execute_result"
    },
    {
     "data": {
      "image/png": "[encoded data removed]",
      "text/plain": [
       "<matplotlib.figure.Figure at 0x10a3137b8>"
      ]
     },
     "metadata": {},
     "output_type": "display_data"
    }
   ],
   "source": [
    "plt.hist(D, bins=5)"
   ]
  },
  {
   "cell_type": "markdown",
   "metadata": {},
   "source": [
    "Now, we create the 5 functions $\\beta_1(x_i)$ to $\\beta_5(x_i)$ "
   ]
  },
  {
   "cell_type": "code",
   "execution_count": 163,
   "metadata": {},
   "outputs": [],
   "source": [
    "betas=[beta(n+1, 5, 15, 95, 5.0, 1) for n in range(5)]"
   ]
  },
  {
   "cell_type": "markdown",
   "metadata": {},
   "source": [
    "And have a look at what e.g. $\\beta_3(x_i)$ looks like. Don't get confused by the following code. The array index is zero-based. ```betas[2]``` is therefore the third *bin filter* function."
   ]
  },
  {
   "cell_type": "code",
   "execution_count": 164,
   "metadata": {},
   "outputs": [
    {
     "data": {
      "image/png": "[encoded data removed]",
      "text/plain": [
       "<matplotlib.figure.Figure at 0x10b3a06a0>"
      ]
     },
     "metadata": {},
     "output_type": "display_data"
    }
   ],
   "source": [
    "x=np.linspace(-10, 110, 100)\n",
    "fig, ax = plt.subplots()\n",
    "ax.plot(x, betas[2](x))\n",
    "ax.grid(True, which='both')\n",
    "ax.spines['left'].set_position('zero')\n",
    "ax.spines['bottom'].set_position('zero')"
   ]
  },
  {
   "cell_type": "markdown",
   "metadata": {},
   "source": [
    "Now, let's use these functions to count the number of values $x_i$ that fall into a particular bin, and that in a differentiable manner! "
   ]
  },
  {
   "cell_type": "markdown",
   "metadata": {},
   "source": [
    "Let $c_k$ the number of values in bin $k$, $M$ be the number of samples. Think of $M$ as the size of a mini-batch. \n",
    "\n",
    "Now I claim that\n",
    "\n",
    "$$ \\sum_{i=1}^M \\beta_k(x_i) \\approx c_k$$\n",
    "\n",
    "Don't believe me? Good. See for yourself:"
   ]
  },
  {
   "cell_type": "code",
   "execution_count": 142,
   "metadata": {},
   "outputs": [
    {
     "data": {
      "text/plain": [
       "[5.979922670836051,\n",
       " 9.999998164572752,\n",
       " 3.0736213601671345,\n",
       " 9.999998470433315,\n",
       " 2.9866158276625643]"
      ]
     },
     "execution_count": 142,
     "metadata": {},
     "output_type": "execute_result"
    }
   ],
   "source": [
    "sums=[np.sum(betas[n](D)) for n in range(5)]\n",
    "sums"
   ]
  },
  {
   "cell_type": "markdown",
   "metadata": {},
   "source": [
    "Compare that to the bin counts of the histogram above. Easy exercise. I promised. No magic. What's cool, is that we can now approximate the various entropies of the pixel or activation distributions within each mini-batch in a differentiable manner and do some experiments."
   ]
  },
  {
   "cell_type": "markdown",
   "metadata": {},
   "source": [
    "The Entropy of a distribution X was defined as\n",
    "\n",
    "$$ H(X) := -\\sum_{x \\in \\mathcal{X}} p(x) \\log p(x)$$\n",
    "\n",
    "Using the bin counts $c_k$ with $\\sum c_k = M$ as shown above, we get\n",
    "\n",
    "$$ H(X) = -\\sum_{k=1}^N  \\frac{c_k}{M} \\log  \\frac{c_k}{M}$$\n",
    "\n",
    "and with our differentiable approximation\n",
    "\n",
    "$$ H(X) = \\log M -\\frac{1}{M}\\sum_{k=1}^N  \\sum_{i=1}^M \\beta_k(x_i)  \\log  \\sum_{i=1}^M \\beta_k(x_i) $$\n",
    "\n"
   ]
  },
  {
   "cell_type": "code",
   "execution_count": 283,
   "metadata": {},
   "outputs": [],
   "source": [
    "def entropy(D, N, alpha = 5.0, epsilon = 1.0):\n",
    "    \"\"\"\n",
    "    Calculate the entropy of discrete sample D using N bins \n",
    "    \"\"\"\n",
    "    d_max=np.max(D)\n",
    "    d_min=np.min(D)\n",
    "    M = len(D)\n",
    "    \n",
    "    filter=[beta(n+1, N, d_max, d_min, alpha, epsilon) for n in range(N)]\n",
    "    c=[np.sum(filter[k](D)) for k in range(N)] # this is summing over i\n",
    "    sums = np.sum(c * np.log(c)) \n",
    "    return np.log(M) - sums / M"
   ]
  },
  {
   "cell_type": "markdown",
   "metadata": {},
   "source": [
    "Note, that in the above implementation, we didn't supply lower and upper bounds so the counts may slightly differ from the previous calculations. In a scenario with a bigger range of values, that will not matter much. In the end, we know we're approximating the entropy anyway."
   ]
  },
  {
   "cell_type": "code",
   "execution_count": 284,
   "metadata": {},
   "outputs": [
    {
     "data": {
      "text/plain": [
       "3.4657359027997265"
      ]
     },
     "execution_count": 284,
     "metadata": {},
     "output_type": "execute_result"
    }
   ],
   "source": [
    "ent = entropy(D, 5)\n",
    "ent"
   ]
  },
  {
   "cell_type": "markdown",
   "metadata": {},
   "source": [
    "Now, the conditional entropy goes just the same way, only that we need to mask the classes out before we count the bins. Remember what we learned in information theory?\n",
    "\n",
    "$$ H(Y \\big| X) = \\sum_{x \\in \\mathcal{X}} \\sum_{y\\in \\mathcal{Y}} p(x,y) \\log(\\frac{p(x,y)}{p(x)})$$\n",
    "\n",
    "The implementation is pretty straight-forward"
   ]
  },
  {
   "cell_type": "code",
   "execution_count": 286,
   "metadata": {},
   "outputs": [],
   "source": [
    "def cond_entropy(D, L, N_bins=5, alpha=5.0, epsilon=1.0):\n",
    "    \"\"\"\n",
    "        calculate the conditional entropy of distribution D given class labels L\n",
    "    \"\"\"\n",
    "    d_max=np.max(D)\n",
    "    d_min=np.min(D)\n",
    "    M=len(L)\n",
    "\n",
    "    betas=[beta(n+1, N_bins, d_min, d_max, alpha, epsilon) for n in range(N_bins)]\n",
    "\n",
    "    # mask[i] has 1 only for class i - 0 otherwise\n",
    "    mask=[list(map(lambda x: int(x), L==k)) for k in range(3)]\n",
    "\n",
    "    # three lists of counts = three conditional distributions\n",
    "    cond_counts=[[np.sum(betas[n](D)*mask[k]) for n in range(5)] for k in range(3)]\n",
    "\n",
    "    pxy=np.array(cond_counts) / M # p(x,y)\n",
    "\n",
    "    px = np.sum(cond_counts, axis=1) / M # p(x)\n",
    "\n",
    "    # need to transpose forth and back to enable broadcasting\n",
    "    pxy_px=(pxy.T / px.T).T\n",
    "\n",
    "    return -np.sum(pxy * np.log(pxy_px))\n"
   ]
  },
  {
   "cell_type": "code",
   "execution_count": 287,
   "metadata": {},
   "outputs": [
    {
     "data": {
      "text/plain": [
       "1.0426756965186548"
      ]
     },
     "execution_count": 287,
     "metadata": {},
     "output_type": "execute_result"
    }
   ],
   "source": [
    "cond_entropy(D, L)"
   ]
  },
  {
   "cell_type": "markdown",
   "metadata": {},
   "source": [
    "Now we intend to train a network to minimize the conditional entropy while maintaining the given entropy of the signal."
   ]
  }
 ],
 "metadata": {
  "kernelspec": {
   "display_name": "Python 3",
   "language": "python",
   "name": "python3"
  },
  "language_info": {
   "codemirror_mode": {
    "name": "ipython",
    "version": 3
   },
   "file_extension": ".py",
   "mimetype": "text/x-python",
   "name": "python",
   "nbconvert_exporter": "python",
   "pygments_lexer": "ipython3",
   "version": "3.6.0"
  }
 },
 "nbformat": 4,
 "nbformat_minor": 2
}
