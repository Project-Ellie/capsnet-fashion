{
 "cells": [
  {
   "cell_type": "code",
   "execution_count": 1,
   "metadata": {},
   "outputs": [],
   "source": [
    "import numpy as np\n",
    "import os\n",
    "import tensorflow as tf\n",
    "\n",
    "DATA_DIR = \"/var/ellie/data/mnist_gunzipped\""
   ]
  },
  {
   "cell_type": "code",
   "execution_count": 2,
   "metadata": {},
   "outputs": [],
   "source": [
    "img_train = os.path.join(DATA_DIR, \"train-images-idx3-ubyte\")\n",
    "lbl_train = os.path.join(DATA_DIR, \"train-labels-idx1-ubyte\")\n",
    "img_test = os.path.join(DATA_DIR, \"t10k-images-idx3-ubyte\")\n",
    "lbl_test = os.path.join(DATA_DIR, \"t10k-labels-idx1-ubyte\")"
   ]
  },
  {
   "cell_type": "code",
   "execution_count": 3,
   "metadata": {},
   "outputs": [],
   "source": [
    "training_images = tf.data.FixedLengthRecordDataset(img_train, 784, header_bytes=16)\n",
    "training_labels = tf.data.FixedLengthRecordDataset(lbl_train, 1, header_bytes=8)"
   ]
  },
  {
   "cell_type": "code",
   "execution_count": 4,
   "metadata": {},
   "outputs": [],
   "source": [
    "def decode_image(image):\n",
    "    image = tf.decode_raw(image, tf.uint8)\n",
    "    image = tf.cast(image, tf.float32) / 255 - 0.5\n",
    "    image = tf.reshape(image, [784])\n",
    "    return image\n",
    "\n",
    "def decode_label(label):\n",
    "    label = tf.decode_raw(label, tf.uint8)\n",
    "    label = tf.reshape(label, [])\n",
    "    return tf.to_int32(label)"
   ]
  },
  {
   "cell_type": "code",
   "execution_count": 5,
   "metadata": {},
   "outputs": [],
   "source": [
    "sess = tf.InteractiveSession()"
   ]
  },
  {
   "cell_type": "code",
   "execution_count": 6,
   "metadata": {},
   "outputs": [],
   "source": [
    "training_images = training_images.map(decode_image)\n",
    "training_labels = training_labels.map(decode_label)"
   ]
  },
  {
   "cell_type": "code",
   "execution_count": 7,
   "metadata": {},
   "outputs": [
    {
     "data": {
      "text/plain": [
       "<tensorflow.python.data.ops.iterator_ops.Iterator at 0x11d7550f0>"
      ]
     },
     "execution_count": 7,
     "metadata": {},
     "output_type": "execute_result"
    }
   ],
   "source": [
    "iterator = training_images.batch(10).make_one_shot_iterator() \n",
    "iterator"
   ]
  },
  {
   "cell_type": "code",
   "execution_count": 8,
   "metadata": {},
   "outputs": [],
   "source": [
    "train_img_tensor = iterator.get_next()"
   ]
  },
  {
   "cell_type": "code",
   "execution_count": 9,
   "metadata": {},
   "outputs": [
    {
     "data": {
      "text/plain": [
       "array([[-0.5, -0.5, -0.5, ..., -0.5, -0.5, -0.5],\n",
       "       [-0.5, -0.5, -0.5, ..., -0.5, -0.5, -0.5],\n",
       "       [-0.5, -0.5, -0.5, ..., -0.5, -0.5, -0.5],\n",
       "       ...,\n",
       "       [-0.5, -0.5, -0.5, ..., -0.5, -0.5, -0.5],\n",
       "       [-0.5, -0.5, -0.5, ..., -0.5, -0.5, -0.5],\n",
       "       [-0.5, -0.5, -0.5, ..., -0.5, -0.5, -0.5]], dtype=float32)"
      ]
     },
     "execution_count": 9,
     "metadata": {},
     "output_type": "execute_result"
    }
   ],
   "source": [
    "sess.run(train_img_tensor)"
   ]
  },
  {
   "cell_type": "code",
   "execution_count": 10,
   "metadata": {},
   "outputs": [],
   "source": [
    "def weight_variable(shape, seed, mean=0.0, stddev=0.1):\n",
    "        rnd_w = tf.truncated_normal(shape, mean=mean, stddev=stddev, dtype=tf.float32, seed=seed)\n",
    "        w = tf.Variable(rnd_w, name=\"w\", dtype=tf.float32)\n",
    "        return w\n",
    "\n",
    "def bias_variable(shape):\n",
    "    b = tf.Variable(tf.zeros(shape, dtype=tf.float32), dtype=tf.float32, name=\"b\")\n",
    "    return b\n",
    "\n",
    "def dense(inp, dim_in, dim_out, seed, activation):\n",
    "    w = weight_variable([dim_in, dim_out], seed)\n",
    "    b = bias_variable([dim_out])\n",
    "    z = tf.matmul(inp, w) + b\n",
    "    a = activation(z)\n",
    "    return a"
   ]
  },
  {
   "cell_type": "code",
   "execution_count": 14,
   "metadata": {},
   "outputs": [],
   "source": [
    "SEED=1234\n",
    "init = tf.global_variables_initializer()"
   ]
  },
  {
   "cell_type": "code",
   "execution_count": 12,
   "metadata": {},
   "outputs": [],
   "source": [
    "layer = dense(train_img_tensor, 784, 10, SEED, tf.nn.softmax)"
   ]
  },
  {
   "cell_type": "code",
   "execution_count": null,
   "metadata": {},
   "outputs": [],
   "source": [
    "sess.run(init)"
   ]
  },
  {
   "cell_type": "code",
   "execution_count": 15,
   "metadata": {},
   "outputs": [
    {
     "data": {
      "text/plain": [
       "array([[0.20428547, 0.31327233, 0.03134721, 0.01034658, 0.20983343,\n",
       "        0.01404782, 0.05324987, 0.01342259, 0.09415061, 0.05604415],\n",
       "       [0.15101382, 0.08361822, 0.04668903, 0.07964832, 0.05792533,\n",
       "        0.03650148, 0.02537101, 0.01350911, 0.461586  , 0.04413768],\n",
       "       [0.08153451, 0.32077193, 0.03368865, 0.01916596, 0.09841795,\n",
       "        0.03282993, 0.01568411, 0.00882986, 0.15767042, 0.23140672],\n",
       "       [0.05074734, 0.20531419, 0.05064869, 0.01056241, 0.06321132,\n",
       "        0.01134099, 0.01391996, 0.01032322, 0.38978216, 0.19414966],\n",
       "       [0.0592996 , 0.09718464, 0.06258803, 0.06151608, 0.17558229,\n",
       "        0.02601349, 0.00582916, 0.00628205, 0.3446651 , 0.16103959],\n",
       "       [0.11751314, 0.14372797, 0.08643712, 0.00955905, 0.13277169,\n",
       "        0.02788731, 0.09718076, 0.05474364, 0.20476337, 0.12541592],\n",
       "       [0.04139148, 0.1574923 , 0.02445837, 0.00742071, 0.15612029,\n",
       "        0.01479502, 0.0226317 , 0.02147774, 0.28137994, 0.2728325 ],\n",
       "       [0.21548116, 0.18084879, 0.08185964, 0.00233877, 0.11980118,\n",
       "        0.02162735, 0.05764288, 0.01926278, 0.02507102, 0.27606645],\n",
       "       [0.0804223 , 0.3107654 , 0.06539299, 0.0044492 , 0.18476328,\n",
       "        0.02295911, 0.0150881 , 0.08849014, 0.05990277, 0.1677667 ],\n",
       "       [0.05877365, 0.25508928, 0.06028949, 0.01888774, 0.07109272,\n",
       "        0.02103191, 0.00892354, 0.0122405 , 0.3648794 , 0.12879176]],\n",
       "      dtype=float32)"
      ]
     },
     "execution_count": 15,
     "metadata": {},
     "output_type": "execute_result"
    }
   ],
   "source": [
    "sess.run(layer)"
   ]
  },
  {
   "cell_type": "code",
   "execution_count": null,
   "metadata": {},
   "outputs": [],
   "source": []
  }
 ],
 "metadata": {
  "kernelspec": {
   "display_name": "Python 3",
   "language": "python",
   "name": "python3"
  },
  "language_info": {
   "codemirror_mode": {
    "name": "ipython",
    "version": 3
   },
   "file_extension": ".py",
   "mimetype": "text/x-python",
   "name": "python",
   "nbconvert_exporter": "python",
   "pygments_lexer": "ipython3",
   "version": "3.6.0"
  }
 },
 "nbformat": 4,
 "nbformat_minor": 2
}
