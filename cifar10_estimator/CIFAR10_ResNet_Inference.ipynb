{
 "cells": [
  {
   "cell_type": "code",
   "execution_count": 32,
   "metadata": {},
   "outputs": [],
   "source": [
    "import resnet_model\n",
    "import tensorflow as tf\n",
    "import cifar10_input\n",
    "import cifar10_with_resnet_model\n",
    "import project_utils"
   ]
  },
  {
   "cell_type": "code",
   "execution_count": 33,
   "metadata": {},
   "outputs": [],
   "source": [
    "tf.reset_default_graph()\n",
    "input_data = cifar10_input.Cifar10DataSet(\"/var/ellie/data/cifar10_tfr/\", subset=\"eval\", use_distortion=False)\n",
    "imgs, lbls = input_data.make_batch(10)"
   ]
  },
  {
   "cell_type": "code",
   "execution_count": 34,
   "metadata": {},
   "outputs": [],
   "source": [
    "model = cifar10_with_resnet_model.ResNetCifar10(\n",
    "    44,\n",
    "    batch_norm_decay=0.997,\n",
    "    batch_norm_epsilon=1e-5,\n",
    "    is_training=False,\n",
    "    data_format='channels_last')\n",
    "logits = model.forward_pass(imgs, input_data_format='channels_last')\n",
    "predictions = {\n",
    "    'classes': tf.argmax(input=logits, axis=1),\n",
    "    'probabilities': tf.nn.softmax(logits)\n",
    "}"
   ]
  },
  {
   "cell_type": "code",
   "execution_count": 35,
   "metadata": {},
   "outputs": [
    {
     "name": "stdout",
     "output_type": "stream",
     "text": [
      "[3 8 8 0 6 6 1 6 3 1] [3 8 8 0 6 6 3 6 3 1]\n",
      "[0 9 5 7 9 8 5 7 8 6] [0 9 5 7 9 8 5 7 8 6]\n",
      "[7 0 4 9 5 2 4 0 9 6] [5 0 4 9 5 2 4 0 9 6]\n",
      "[6 5 4 5 9 2 4 1 9 5] [6 5 4 5 9 3 4 1 9 5]\n",
      "[4 6 5 6 0 9 3 9 7 6] [4 6 5 6 0 9 3 9 7 6]\n",
      "[9 8 0 3 8 8 7 7 4 6] [9 8 0 3 8 8 7 3 7 3]\n",
      "[7 3 6 3 6 2 1 2 3 7] [7 5 6 3 6 2 1 2 3 4]\n",
      "[2 6 8 8 0 2 9 3 3 8] [2 6 8 8 0 2 9 3 5 8]\n",
      "[8 1 1 7 2 5 2 7 8 9] [8 1 1 7 2 5 2 7 8 9]\n",
      "[0 3 8 6 4 6 6 0 0 7] [0 3 8 6 4 6 6 0 0 7]\n"
     ]
    }
   ],
   "source": [
    "allvars = tf.get_collection(tf.GraphKeys.GLOBAL_VARIABLES)\n",
    "var_map = {\"neural_network/\" + v.name.split(':')[0]: v for v in allvars}\n",
    "tf.train.init_from_checkpoint(\"/var/ellie/models/cifar10_new/model.ckpt-50000\", var_map)\n",
    "\n",
    "with tf.Session() as sess:\n",
    "    sess.run(tf.global_variables_initializer())\n",
    "    for _ in range(10):\n",
    "        _lbls, _preds = sess.run([lbls, predictions['classes']])\n",
    "        print(_lbls, _preds)   "
   ]
  },
  {
   "cell_type": "code",
   "execution_count": null,
   "metadata": {},
   "outputs": [],
   "source": []
  }
 ],
 "metadata": {
  "kernelspec": {
   "display_name": "Python 3",
   "language": "python",
   "name": "python3"
  },
  "language_info": {
   "codemirror_mode": {
    "name": "ipython",
    "version": 3
   },
   "file_extension": ".py",
   "mimetype": "text/x-python",
   "name": "python",
   "nbconvert_exporter": "python",
   "pygments_lexer": "ipython3",
   "version": "3.6.0"
  }
 },
 "nbformat": 4,
 "nbformat_minor": 2
}
