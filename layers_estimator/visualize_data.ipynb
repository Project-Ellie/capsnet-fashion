{
 "cells": [
  {
   "cell_type": "code",
   "execution_count": 39,
   "metadata": {},
   "outputs": [],
   "source": [
    "import tensorflow as tf\n",
    "import matplotlib.pyplot as plt\n",
    "import numpy as np"
   ]
  },
  {
   "cell_type": "code",
   "execution_count": 5,
   "metadata": {},
   "outputs": [],
   "source": [
    "filename = \"/var/ellie/data/cifar10_tfr/eval.tfrecords\"\n",
    "DEPTH = 3\n",
    "HEIGHT = 32\n",
    "WIDTH = 32"
   ]
  },
  {
   "cell_type": "code",
   "execution_count": 6,
   "metadata": {},
   "outputs": [],
   "source": [
    "dataset = tf.data.TFRecordDataset(filename)"
   ]
  },
  {
   "cell_type": "code",
   "execution_count": 7,
   "metadata": {},
   "outputs": [],
   "source": [
    "def parser(serialized_example):\n",
    "    \"\"\"Parses a single tf.Example into image and label tensors.\"\"\"\n",
    "    # Dimensions of the images in the CIFAR-10 dataset.\n",
    "    # See http://www.cs.toronto.edu/~kriz/cifar.html for a description of the\n",
    "    # input format.\n",
    "    features = tf.parse_single_example(\n",
    "        serialized_example,\n",
    "        features={\n",
    "            'image': tf.FixedLenFeature([], tf.string),\n",
    "            'label': tf.FixedLenFeature([], tf.int64),\n",
    "        })\n",
    "    image = tf.decode_raw(features['image'], tf.uint8)\n",
    "    image.set_shape([DEPTH * HEIGHT * WIDTH])\n",
    "\n",
    "    # Reshape from [depth * height * width] to [depth, height, width].\n",
    "    image = tf.cast(\n",
    "        tf.transpose(tf.reshape(image, [DEPTH, HEIGHT, WIDTH]), [1, 2, 0]),\n",
    "        tf.float32)\n",
    "    label = tf.cast(features['label'], tf.int32)\n",
    "\n",
    "    return image, label"
   ]
  },
  {
   "cell_type": "code",
   "execution_count": 8,
   "metadata": {},
   "outputs": [],
   "source": [
    "dataset = dataset.map(parser)"
   ]
  },
  {
   "cell_type": "code",
   "execution_count": 9,
   "metadata": {},
   "outputs": [],
   "source": [
    "dataset = dataset.repeat(1).batch(10)"
   ]
  },
  {
   "cell_type": "code",
   "execution_count": 18,
   "metadata": {},
   "outputs": [
    {
     "data": {
      "text/plain": [
       "<BatchDataset shapes: ((?, 32, 32, 3), (?,)), types: (tf.float32, tf.int32)>"
      ]
     },
     "execution_count": 18,
     "metadata": {},
     "output_type": "execute_result"
    }
   ],
   "source": [
    "dataset"
   ]
  },
  {
   "cell_type": "code",
   "execution_count": 24,
   "metadata": {},
   "outputs": [],
   "source": [
    "iterator = dataset.make_one_shot_iterator()\n",
    "c_features, _labels = iterator.get_next()"
   ]
  },
  {
   "cell_type": "code",
   "execution_count": 25,
   "metadata": {},
   "outputs": [
    {
     "data": {
      "text/plain": [
       "<tf.Tensor 'IteratorGetNext_1:0' shape=(?, 32, 32, 3) dtype=float32>"
      ]
     },
     "execution_count": 25,
     "metadata": {},
     "output_type": "execute_result"
    }
   ],
   "source": [
    "c_features"
   ]
  },
  {
   "cell_type": "code",
   "execution_count": 46,
   "metadata": {},
   "outputs": [],
   "source": [
    "g_features = tf.reduce_mean(c_features, axis=3)"
   ]
  },
  {
   "cell_type": "code",
   "execution_count": null,
   "metadata": {},
   "outputs": [],
   "source": []
  },
  {
   "cell_type": "code",
   "execution_count": 11,
   "metadata": {},
   "outputs": [],
   "source": [
    "sess = tf.InteractiveSession()"
   ]
  },
  {
   "cell_type": "code",
   "execution_count": 27,
   "metadata": {},
   "outputs": [],
   "source": [
    "c_feats = sess.run(c_features)"
   ]
  },
  {
   "cell_type": "code",
   "execution_count": 28,
   "metadata": {},
   "outputs": [
    {
     "data": {
      "image/png": "[encoded data removed]",
      "text/plain": [
       "<matplotlib.figure.Figure at 0x116b5ac18>"
      ]
     },
     "metadata": {},
     "output_type": "display_data"
    }
   ],
   "source": [
    "plt.imshow(c_feats[9]/256)\n",
    "plt.show()"
   ]
  },
  {
   "cell_type": "code",
   "execution_count": 44,
   "metadata": {},
   "outputs": [
    {
     "data": {
      "text/plain": [
       "(10, 32, 32)"
      ]
     },
     "execution_count": 44,
     "metadata": {},
     "output_type": "execute_result"
    }
   ],
   "source": [
    "gray=np.mean(c_feats, axis=3)\n",
    "gray.shape"
   ]
  },
  {
   "cell_type": "code",
   "execution_count": 45,
   "metadata": {},
   "outputs": [
    {
     "data": {
      "image/png": "[encoded data removed]",
      "text/plain": [
       "<matplotlib.figure.Figure at 0x119d85b00>"
      ]
     },
     "metadata": {},
     "output_type": "display_data"
    }
   ],
   "source": [
    "plt.imshow(gray[9]/256)\n",
    "plt.show()"
   ]
  },
  {
   "cell_type": "code",
   "execution_count": 14,
   "metadata": {},
   "outputs": [],
   "source": [
    "from simple_convnet import SimpleConvnet"
   ]
  },
  {
   "cell_type": "code",
   "execution_count": 47,
   "metadata": {},
   "outputs": [],
   "source": [
    "net = SimpleConvnet('channels_last', 32, 32, 1, 10)"
   ]
  },
  {
   "cell_type": "code",
   "execution_count": 48,
   "metadata": {},
   "outputs": [],
   "source": [
    "init_op = tf.global_variables_initializer()\n",
    "fwd_pass=net.fwd_pass(g_features, training=False)"
   ]
  },
  {
   "cell_type": "code",
   "execution_count": 49,
   "metadata": {},
   "outputs": [
    {
     "ename": "FailedPreconditionError",
     "evalue": "Attempting to use uninitialized value conv1_12/kernel\n\t [[Node: conv1_12/kernel/read = Identity[T=DT_FLOAT, _class=[\"loc:@conv1_12/kernel\"], _device=\"/job:localhost/replica:0/task:0/device:CPU:0\"](conv1_12/kernel)]]\n\nCaused by op 'conv1_12/kernel/read', defined at:\n  File \"/usr/local/Cellar/python3/3.6.0/Frameworks/Python.framework/Versions/3.6/lib/python3.6/runpy.py\", line 193, in _run_module_as_main\n    \"__main__\", mod_spec)\n  File \"/usr/local/Cellar/python3/3.6.0/Frameworks/Python.framework/Versions/3.6/lib/python3.6/runpy.py\", line 85, in _run_code\n    exec(code, run_globals)\n  File \"/Users/wgiersche/Project-Ellie/capsnet-fashion/tf15/lib/python3.6/site-packages/ipykernel_launcher.py\", line 16, in <module>\n    app.launch_new_instance()\n  File \"/Users/wgiersche/Project-Ellie/capsnet-fashion/tf15/lib/python3.6/site-packages/traitlets/config/application.py\", line 658, in launch_instance\n    app.start()\n  File \"/Users/wgiersche/Project-Ellie/capsnet-fashion/tf15/lib/python3.6/site-packages/ipykernel/kernelapp.py\", line 486, in start\n    self.io_loop.start()\n  File \"/Users/wgiersche/Project-Ellie/capsnet-fashion/tf15/lib/python3.6/site-packages/tornado/ioloop.py\", line 888, in start\n    handler_func(fd_obj, events)\n  File \"/Users/wgiersche/Project-Ellie/capsnet-fashion/tf15/lib/python3.6/site-packages/tornado/stack_context.py\", line 277, in null_wrapper\n    return fn(*args, **kwargs)\n  File \"/Users/wgiersche/Project-Ellie/capsnet-fashion/tf15/lib/python3.6/site-packages/zmq/eventloop/zmqstream.py\", line 450, in _handle_events\n    self._handle_recv()\n  File \"/Users/wgiersche/Project-Ellie/capsnet-fashion/tf15/lib/python3.6/site-packages/zmq/eventloop/zmqstream.py\", line 480, in _handle_recv\n    self._run_callback(callback, msg)\n  File \"/Users/wgiersche/Project-Ellie/capsnet-fashion/tf15/lib/python3.6/site-packages/zmq/eventloop/zmqstream.py\", line 432, in _run_callback\n    callback(*args, **kwargs)\n  File \"/Users/wgiersche/Project-Ellie/capsnet-fashion/tf15/lib/python3.6/site-packages/tornado/stack_context.py\", line 277, in null_wrapper\n    return fn(*args, **kwargs)\n  File \"/Users/wgiersche/Project-Ellie/capsnet-fashion/tf15/lib/python3.6/site-packages/ipykernel/kernelbase.py\", line 283, in dispatcher\n    return self.dispatch_shell(stream, msg)\n  File \"/Users/wgiersche/Project-Ellie/capsnet-fashion/tf15/lib/python3.6/site-packages/ipykernel/kernelbase.py\", line 233, in dispatch_shell\n    handler(stream, idents, msg)\n  File \"/Users/wgiersche/Project-Ellie/capsnet-fashion/tf15/lib/python3.6/site-packages/ipykernel/kernelbase.py\", line 399, in execute_request\n    user_expressions, allow_stdin)\n  File \"/Users/wgiersche/Project-Ellie/capsnet-fashion/tf15/lib/python3.6/site-packages/ipykernel/ipkernel.py\", line 208, in do_execute\n    res = shell.run_cell(code, store_history=store_history, silent=silent)\n  File \"/Users/wgiersche/Project-Ellie/capsnet-fashion/tf15/lib/python3.6/site-packages/ipykernel/zmqshell.py\", line 537, in run_cell\n    return super(ZMQInteractiveShell, self).run_cell(*args, **kwargs)\n  File \"/Users/wgiersche/Project-Ellie/capsnet-fashion/tf15/lib/python3.6/site-packages/IPython/core/interactiveshell.py\", line 2728, in run_cell\n    interactivity=interactivity, compiler=compiler, result=result)\n  File \"/Users/wgiersche/Project-Ellie/capsnet-fashion/tf15/lib/python3.6/site-packages/IPython/core/interactiveshell.py\", line 2850, in run_ast_nodes\n    if self.run_code(code, result):\n  File \"/Users/wgiersche/Project-Ellie/capsnet-fashion/tf15/lib/python3.6/site-packages/IPython/core/interactiveshell.py\", line 2910, in run_code\n    exec(code_obj, self.user_global_ns, self.user_ns)\n  File \"<ipython-input-48-392a184b917d>\", line 2, in <module>\n    fwd_pass=net.fwd_pass(g_features, training=False)\n  File \"/Users/wgiersche/Project-Ellie/capsnet-fashion/layers_estimator/simple_convnet.py\", line 56, in fwd_pass\n    y = self.conv(n_fields=32, size_fields=5, name=\"conv1\")(y)\n  File \"/Users/wgiersche/Project-Ellie/capsnet-fashion/tf15/lib/python3.6/site-packages/tensorflow/python/layers/base.py\", line 680, in __call__\n    self.build(input_shapes)\n  File \"/Users/wgiersche/Project-Ellie/capsnet-fashion/tf15/lib/python3.6/site-packages/tensorflow/python/layers/convolutional.py\", line 143, in build\n    dtype=self.dtype)\n  File \"/Users/wgiersche/Project-Ellie/capsnet-fashion/tf15/lib/python3.6/site-packages/tensorflow/python/layers/base.py\", line 533, in add_variable\n    partitioner=partitioner)\n  File \"/Users/wgiersche/Project-Ellie/capsnet-fashion/tf15/lib/python3.6/site-packages/tensorflow/python/ops/variable_scope.py\", line 1297, in get_variable\n    constraint=constraint)\n  File \"/Users/wgiersche/Project-Ellie/capsnet-fashion/tf15/lib/python3.6/site-packages/tensorflow/python/ops/variable_scope.py\", line 1093, in get_variable\n    constraint=constraint)\n  File \"/Users/wgiersche/Project-Ellie/capsnet-fashion/tf15/lib/python3.6/site-packages/tensorflow/python/ops/variable_scope.py\", line 439, in get_variable\n    constraint=constraint)\n  File \"/Users/wgiersche/Project-Ellie/capsnet-fashion/tf15/lib/python3.6/site-packages/tensorflow/python/ops/variable_scope.py\", line 408, in _true_getter\n    use_resource=use_resource, constraint=constraint)\n  File \"/Users/wgiersche/Project-Ellie/capsnet-fashion/tf15/lib/python3.6/site-packages/tensorflow/python/ops/variable_scope.py\", line 800, in _get_single_variable\n    use_resource=use_resource)\n  File \"/Users/wgiersche/Project-Ellie/capsnet-fashion/tf15/lib/python3.6/site-packages/tensorflow/python/ops/variable_scope.py\", line 2157, in variable\n    use_resource=use_resource)\n  File \"/Users/wgiersche/Project-Ellie/capsnet-fashion/tf15/lib/python3.6/site-packages/tensorflow/python/ops/variable_scope.py\", line 2147, in <lambda>\n    previous_getter = lambda **kwargs: default_variable_creator(None, **kwargs)\n  File \"/Users/wgiersche/Project-Ellie/capsnet-fashion/tf15/lib/python3.6/site-packages/tensorflow/python/ops/variable_scope.py\", line 2130, in default_variable_creator\n    constraint=constraint)\n  File \"/Users/wgiersche/Project-Ellie/capsnet-fashion/tf15/lib/python3.6/site-packages/tensorflow/python/ops/variables.py\", line 233, in __init__\n    constraint=constraint)\n  File \"/Users/wgiersche/Project-Ellie/capsnet-fashion/tf15/lib/python3.6/site-packages/tensorflow/python/ops/variables.py\", line 381, in _init_from_args\n    self._snapshot = array_ops.identity(self._variable, name=\"read\")\n  File \"/Users/wgiersche/Project-Ellie/capsnet-fashion/tf15/lib/python3.6/site-packages/tensorflow/python/ops/array_ops.py\", line 132, in identity\n    return gen_array_ops.identity(input, name=name)\n  File \"/Users/wgiersche/Project-Ellie/capsnet-fashion/tf15/lib/python3.6/site-packages/tensorflow/python/ops/gen_array_ops.py\", line 2051, in identity\n    \"Identity\", input=input, name=name)\n  File \"/Users/wgiersche/Project-Ellie/capsnet-fashion/tf15/lib/python3.6/site-packages/tensorflow/python/framework/op_def_library.py\", line 787, in _apply_op_helper\n    op_def=op_def)\n  File \"/Users/wgiersche/Project-Ellie/capsnet-fashion/tf15/lib/python3.6/site-packages/tensorflow/python/framework/ops.py\", line 3259, in create_op\n    op_def=op_def)\n  File \"/Users/wgiersche/Project-Ellie/capsnet-fashion/tf15/lib/python3.6/site-packages/tensorflow/python/framework/ops.py\", line 1650, in __init__\n    self._traceback = self._graph._extract_stack()  # pylint: disable=protected-access\n\nFailedPreconditionError (see above for traceback): Attempting to use uninitialized value conv1_12/kernel\n\t [[Node: conv1_12/kernel/read = Identity[T=DT_FLOAT, _class=[\"loc:@conv1_12/kernel\"], _device=\"/job:localhost/replica:0/task:0/device:CPU:0\"](conv1_12/kernel)]]\n",
     "traceback": [
      "\u001b[0;31m---------------------------------------------------------------------------\u001b[0m",
      "\u001b[0;31mFailedPreconditionError\u001b[0m                   Traceback (most recent call last)",
      "\u001b[0;32m~/Project-Ellie/capsnet-fashion/tf15/lib/python3.6/site-packages/tensorflow/python/client/session.py\u001b[0m in \u001b[0;36m_do_call\u001b[0;34m(self, fn, *args)\u001b[0m\n\u001b[1;32m   1360\u001b[0m     \u001b[0;32mtry\u001b[0m\u001b[0;34m:\u001b[0m\u001b[0;34m\u001b[0m\u001b[0m\n\u001b[0;32m-> 1361\u001b[0;31m       \u001b[0;32mreturn\u001b[0m \u001b[0mfn\u001b[0m\u001b[0;34m(\u001b[0m\u001b[0;34m*\u001b[0m\u001b[0margs\u001b[0m\u001b[0;34m)\u001b[0m\u001b[0;34m\u001b[0m\u001b[0m\n\u001b[0m\u001b[1;32m   1362\u001b[0m     \u001b[0;32mexcept\u001b[0m \u001b[0merrors\u001b[0m\u001b[0;34m.\u001b[0m\u001b[0mOpError\u001b[0m \u001b[0;32mas\u001b[0m \u001b[0me\u001b[0m\u001b[0;34m:\u001b[0m\u001b[0;34m\u001b[0m\u001b[0m\n",
      "\u001b[0;32m~/Project-Ellie/capsnet-fashion/tf15/lib/python3.6/site-packages/tensorflow/python/client/session.py\u001b[0m in \u001b[0;36m_run_fn\u001b[0;34m(session, feed_dict, fetch_list, target_list, options, run_metadata)\u001b[0m\n\u001b[1;32m   1339\u001b[0m           return tf_session.TF_Run(session, options, feed_dict, fetch_list,\n\u001b[0;32m-> 1340\u001b[0;31m                                    target_list, status, run_metadata)\n\u001b[0m\u001b[1;32m   1341\u001b[0m \u001b[0;34m\u001b[0m\u001b[0m\n",
      "\u001b[0;32m~/Project-Ellie/capsnet-fashion/tf15/lib/python3.6/site-packages/tensorflow/python/framework/errors_impl.py\u001b[0m in \u001b[0;36m__exit__\u001b[0;34m(self, type_arg, value_arg, traceback_arg)\u001b[0m\n\u001b[1;32m    515\u001b[0m             \u001b[0mcompat\u001b[0m\u001b[0;34m.\u001b[0m\u001b[0mas_text\u001b[0m\u001b[0;34m(\u001b[0m\u001b[0mc_api\u001b[0m\u001b[0;34m.\u001b[0m\u001b[0mTF_Message\u001b[0m\u001b[0;34m(\u001b[0m\u001b[0mself\u001b[0m\u001b[0;34m.\u001b[0m\u001b[0mstatus\u001b[0m\u001b[0;34m.\u001b[0m\u001b[0mstatus\u001b[0m\u001b[0;34m)\u001b[0m\u001b[0;34m)\u001b[0m\u001b[0;34m,\u001b[0m\u001b[0;34m\u001b[0m\u001b[0m\n\u001b[0;32m--> 516\u001b[0;31m             c_api.TF_GetCode(self.status.status))\n\u001b[0m\u001b[1;32m    517\u001b[0m     \u001b[0;31m# Delete the underlying status object from memory otherwise it stays alive\u001b[0m\u001b[0;34m\u001b[0m\u001b[0;34m\u001b[0m\u001b[0m\n",
      "\u001b[0;31mFailedPreconditionError\u001b[0m: Attempting to use uninitialized value conv1_12/kernel\n\t [[Node: conv1_12/kernel/read = Identity[T=DT_FLOAT, _class=[\"loc:@conv1_12/kernel\"], _device=\"/job:localhost/replica:0/task:0/device:CPU:0\"](conv1_12/kernel)]]",
      "\nDuring handling of the above exception, another exception occurred:\n",
      "\u001b[0;31mFailedPreconditionError\u001b[0m                   Traceback (most recent call last)",
      "\u001b[0;32m<ipython-input-49-4cdf41463396>\u001b[0m in \u001b[0;36m<module>\u001b[0;34m()\u001b[0m\n\u001b[0;32m----> 1\u001b[0;31m \u001b[0msess\u001b[0m\u001b[0;34m.\u001b[0m\u001b[0mrun\u001b[0m\u001b[0;34m(\u001b[0m\u001b[0;34m[\u001b[0m\u001b[0minit_op\u001b[0m\u001b[0;34m,\u001b[0m \u001b[0mfwd_pass\u001b[0m\u001b[0;34m]\u001b[0m\u001b[0;34m)\u001b[0m\u001b[0;34m\u001b[0m\u001b[0m\n\u001b[0m",
      "\u001b[0;32m~/Project-Ellie/capsnet-fashion/tf15/lib/python3.6/site-packages/tensorflow/python/client/session.py\u001b[0m in \u001b[0;36mrun\u001b[0;34m(self, fetches, feed_dict, options, run_metadata)\u001b[0m\n\u001b[1;32m    903\u001b[0m     \u001b[0;32mtry\u001b[0m\u001b[0;34m:\u001b[0m\u001b[0;34m\u001b[0m\u001b[0m\n\u001b[1;32m    904\u001b[0m       result = self._run(None, fetches, feed_dict, options_ptr,\n\u001b[0;32m--> 905\u001b[0;31m                          run_metadata_ptr)\n\u001b[0m\u001b[1;32m    906\u001b[0m       \u001b[0;32mif\u001b[0m \u001b[0mrun_metadata\u001b[0m\u001b[0;34m:\u001b[0m\u001b[0;34m\u001b[0m\u001b[0m\n\u001b[1;32m    907\u001b[0m         \u001b[0mproto_data\u001b[0m \u001b[0;34m=\u001b[0m \u001b[0mtf_session\u001b[0m\u001b[0;34m.\u001b[0m\u001b[0mTF_GetBuffer\u001b[0m\u001b[0;34m(\u001b[0m\u001b[0mrun_metadata_ptr\u001b[0m\u001b[0;34m)\u001b[0m\u001b[0;34m\u001b[0m\u001b[0m\n",
      "\u001b[0;32m~/Project-Ellie/capsnet-fashion/tf15/lib/python3.6/site-packages/tensorflow/python/client/session.py\u001b[0m in \u001b[0;36m_run\u001b[0;34m(self, handle, fetches, feed_dict, options, run_metadata)\u001b[0m\n\u001b[1;32m   1135\u001b[0m     \u001b[0;32mif\u001b[0m \u001b[0mfinal_fetches\u001b[0m \u001b[0;32mor\u001b[0m \u001b[0mfinal_targets\u001b[0m \u001b[0;32mor\u001b[0m \u001b[0;34m(\u001b[0m\u001b[0mhandle\u001b[0m \u001b[0;32mand\u001b[0m \u001b[0mfeed_dict_tensor\u001b[0m\u001b[0;34m)\u001b[0m\u001b[0;34m:\u001b[0m\u001b[0;34m\u001b[0m\u001b[0m\n\u001b[1;32m   1136\u001b[0m       results = self._do_run(handle, final_targets, final_fetches,\n\u001b[0;32m-> 1137\u001b[0;31m                              feed_dict_tensor, options, run_metadata)\n\u001b[0m\u001b[1;32m   1138\u001b[0m     \u001b[0;32melse\u001b[0m\u001b[0;34m:\u001b[0m\u001b[0;34m\u001b[0m\u001b[0m\n\u001b[1;32m   1139\u001b[0m       \u001b[0mresults\u001b[0m \u001b[0;34m=\u001b[0m \u001b[0;34m[\u001b[0m\u001b[0;34m]\u001b[0m\u001b[0;34m\u001b[0m\u001b[0m\n",
      "\u001b[0;32m~/Project-Ellie/capsnet-fashion/tf15/lib/python3.6/site-packages/tensorflow/python/client/session.py\u001b[0m in \u001b[0;36m_do_run\u001b[0;34m(self, handle, target_list, fetch_list, feed_dict, options, run_metadata)\u001b[0m\n\u001b[1;32m   1353\u001b[0m     \u001b[0;32mif\u001b[0m \u001b[0mhandle\u001b[0m \u001b[0;32mis\u001b[0m \u001b[0;32mNone\u001b[0m\u001b[0;34m:\u001b[0m\u001b[0;34m\u001b[0m\u001b[0m\n\u001b[1;32m   1354\u001b[0m       return self._do_call(_run_fn, self._session, feeds, fetches, targets,\n\u001b[0;32m-> 1355\u001b[0;31m                            options, run_metadata)\n\u001b[0m\u001b[1;32m   1356\u001b[0m     \u001b[0;32melse\u001b[0m\u001b[0;34m:\u001b[0m\u001b[0;34m\u001b[0m\u001b[0m\n\u001b[1;32m   1357\u001b[0m       \u001b[0;32mreturn\u001b[0m \u001b[0mself\u001b[0m\u001b[0;34m.\u001b[0m\u001b[0m_do_call\u001b[0m\u001b[0;34m(\u001b[0m\u001b[0m_prun_fn\u001b[0m\u001b[0;34m,\u001b[0m \u001b[0mself\u001b[0m\u001b[0;34m.\u001b[0m\u001b[0m_session\u001b[0m\u001b[0;34m,\u001b[0m \u001b[0mhandle\u001b[0m\u001b[0;34m,\u001b[0m \u001b[0mfeeds\u001b[0m\u001b[0;34m,\u001b[0m \u001b[0mfetches\u001b[0m\u001b[0;34m)\u001b[0m\u001b[0;34m\u001b[0m\u001b[0m\n",
      "\u001b[0;32m~/Project-Ellie/capsnet-fashion/tf15/lib/python3.6/site-packages/tensorflow/python/client/session.py\u001b[0m in \u001b[0;36m_do_call\u001b[0;34m(self, fn, *args)\u001b[0m\n\u001b[1;32m   1372\u001b[0m         \u001b[0;32mexcept\u001b[0m \u001b[0mKeyError\u001b[0m\u001b[0;34m:\u001b[0m\u001b[0;34m\u001b[0m\u001b[0m\n\u001b[1;32m   1373\u001b[0m           \u001b[0;32mpass\u001b[0m\u001b[0;34m\u001b[0m\u001b[0m\n\u001b[0;32m-> 1374\u001b[0;31m       \u001b[0;32mraise\u001b[0m \u001b[0mtype\u001b[0m\u001b[0;34m(\u001b[0m\u001b[0me\u001b[0m\u001b[0;34m)\u001b[0m\u001b[0;34m(\u001b[0m\u001b[0mnode_def\u001b[0m\u001b[0;34m,\u001b[0m \u001b[0mop\u001b[0m\u001b[0;34m,\u001b[0m \u001b[0mmessage\u001b[0m\u001b[0;34m)\u001b[0m\u001b[0;34m\u001b[0m\u001b[0m\n\u001b[0m\u001b[1;32m   1375\u001b[0m \u001b[0;34m\u001b[0m\u001b[0m\n\u001b[1;32m   1376\u001b[0m   \u001b[0;32mdef\u001b[0m \u001b[0m_extend_graph\u001b[0m\u001b[0;34m(\u001b[0m\u001b[0mself\u001b[0m\u001b[0;34m)\u001b[0m\u001b[0;34m:\u001b[0m\u001b[0;34m\u001b[0m\u001b[0m\n",
      "\u001b[0;31mFailedPreconditionError\u001b[0m: Attempting to use uninitialized value conv1_12/kernel\n\t [[Node: conv1_12/kernel/read = Identity[T=DT_FLOAT, _class=[\"loc:@conv1_12/kernel\"], _device=\"/job:localhost/replica:0/task:0/device:CPU:0\"](conv1_12/kernel)]]\n\nCaused by op 'conv1_12/kernel/read', defined at:\n  File \"/usr/local/Cellar/python3/3.6.0/Frameworks/Python.framework/Versions/3.6/lib/python3.6/runpy.py\", line 193, in _run_module_as_main\n    \"__main__\", mod_spec)\n  File \"/usr/local/Cellar/python3/3.6.0/Frameworks/Python.framework/Versions/3.6/lib/python3.6/runpy.py\", line 85, in _run_code\n    exec(code, run_globals)\n  File \"/Users/wgiersche/Project-Ellie/capsnet-fashion/tf15/lib/python3.6/site-packages/ipykernel_launcher.py\", line 16, in <module>\n    app.launch_new_instance()\n  File \"/Users/wgiersche/Project-Ellie/capsnet-fashion/tf15/lib/python3.6/site-packages/traitlets/config/application.py\", line 658, in launch_instance\n    app.start()\n  File \"/Users/wgiersche/Project-Ellie/capsnet-fashion/tf15/lib/python3.6/site-packages/ipykernel/kernelapp.py\", line 486, in start\n    self.io_loop.start()\n  File \"/Users/wgiersche/Project-Ellie/capsnet-fashion/tf15/lib/python3.6/site-packages/tornado/ioloop.py\", line 888, in start\n    handler_func(fd_obj, events)\n  File \"/Users/wgiersche/Project-Ellie/capsnet-fashion/tf15/lib/python3.6/site-packages/tornado/stack_context.py\", line 277, in null_wrapper\n    return fn(*args, **kwargs)\n  File \"/Users/wgiersche/Project-Ellie/capsnet-fashion/tf15/lib/python3.6/site-packages/zmq/eventloop/zmqstream.py\", line 450, in _handle_events\n    self._handle_recv()\n  File \"/Users/wgiersche/Project-Ellie/capsnet-fashion/tf15/lib/python3.6/site-packages/zmq/eventloop/zmqstream.py\", line 480, in _handle_recv\n    self._run_callback(callback, msg)\n  File \"/Users/wgiersche/Project-Ellie/capsnet-fashion/tf15/lib/python3.6/site-packages/zmq/eventloop/zmqstream.py\", line 432, in _run_callback\n    callback(*args, **kwargs)\n  File \"/Users/wgiersche/Project-Ellie/capsnet-fashion/tf15/lib/python3.6/site-packages/tornado/stack_context.py\", line 277, in null_wrapper\n    return fn(*args, **kwargs)\n  File \"/Users/wgiersche/Project-Ellie/capsnet-fashion/tf15/lib/python3.6/site-packages/ipykernel/kernelbase.py\", line 283, in dispatcher\n    return self.dispatch_shell(stream, msg)\n  File \"/Users/wgiersche/Project-Ellie/capsnet-fashion/tf15/lib/python3.6/site-packages/ipykernel/kernelbase.py\", line 233, in dispatch_shell\n    handler(stream, idents, msg)\n  File \"/Users/wgiersche/Project-Ellie/capsnet-fashion/tf15/lib/python3.6/site-packages/ipykernel/kernelbase.py\", line 399, in execute_request\n    user_expressions, allow_stdin)\n  File \"/Users/wgiersche/Project-Ellie/capsnet-fashion/tf15/lib/python3.6/site-packages/ipykernel/ipkernel.py\", line 208, in do_execute\n    res = shell.run_cell(code, store_history=store_history, silent=silent)\n  File \"/Users/wgiersche/Project-Ellie/capsnet-fashion/tf15/lib/python3.6/site-packages/ipykernel/zmqshell.py\", line 537, in run_cell\n    return super(ZMQInteractiveShell, self).run_cell(*args, **kwargs)\n  File \"/Users/wgiersche/Project-Ellie/capsnet-fashion/tf15/lib/python3.6/site-packages/IPython/core/interactiveshell.py\", line 2728, in run_cell\n    interactivity=interactivity, compiler=compiler, result=result)\n  File \"/Users/wgiersche/Project-Ellie/capsnet-fashion/tf15/lib/python3.6/site-packages/IPython/core/interactiveshell.py\", line 2850, in run_ast_nodes\n    if self.run_code(code, result):\n  File \"/Users/wgiersche/Project-Ellie/capsnet-fashion/tf15/lib/python3.6/site-packages/IPython/core/interactiveshell.py\", line 2910, in run_code\n    exec(code_obj, self.user_global_ns, self.user_ns)\n  File \"<ipython-input-48-392a184b917d>\", line 2, in <module>\n    fwd_pass=net.fwd_pass(g_features, training=False)\n  File \"/Users/wgiersche/Project-Ellie/capsnet-fashion/layers_estimator/simple_convnet.py\", line 56, in fwd_pass\n    y = self.conv(n_fields=32, size_fields=5, name=\"conv1\")(y)\n  File \"/Users/wgiersche/Project-Ellie/capsnet-fashion/tf15/lib/python3.6/site-packages/tensorflow/python/layers/base.py\", line 680, in __call__\n    self.build(input_shapes)\n  File \"/Users/wgiersche/Project-Ellie/capsnet-fashion/tf15/lib/python3.6/site-packages/tensorflow/python/layers/convolutional.py\", line 143, in build\n    dtype=self.dtype)\n  File \"/Users/wgiersche/Project-Ellie/capsnet-fashion/tf15/lib/python3.6/site-packages/tensorflow/python/layers/base.py\", line 533, in add_variable\n    partitioner=partitioner)\n  File \"/Users/wgiersche/Project-Ellie/capsnet-fashion/tf15/lib/python3.6/site-packages/tensorflow/python/ops/variable_scope.py\", line 1297, in get_variable\n    constraint=constraint)\n  File \"/Users/wgiersche/Project-Ellie/capsnet-fashion/tf15/lib/python3.6/site-packages/tensorflow/python/ops/variable_scope.py\", line 1093, in get_variable\n    constraint=constraint)\n  File \"/Users/wgiersche/Project-Ellie/capsnet-fashion/tf15/lib/python3.6/site-packages/tensorflow/python/ops/variable_scope.py\", line 439, in get_variable\n    constraint=constraint)\n  File \"/Users/wgiersche/Project-Ellie/capsnet-fashion/tf15/lib/python3.6/site-packages/tensorflow/python/ops/variable_scope.py\", line 408, in _true_getter\n    use_resource=use_resource, constraint=constraint)\n  File \"/Users/wgiersche/Project-Ellie/capsnet-fashion/tf15/lib/python3.6/site-packages/tensorflow/python/ops/variable_scope.py\", line 800, in _get_single_variable\n    use_resource=use_resource)\n  File \"/Users/wgiersche/Project-Ellie/capsnet-fashion/tf15/lib/python3.6/site-packages/tensorflow/python/ops/variable_scope.py\", line 2157, in variable\n    use_resource=use_resource)\n  File \"/Users/wgiersche/Project-Ellie/capsnet-fashion/tf15/lib/python3.6/site-packages/tensorflow/python/ops/variable_scope.py\", line 2147, in <lambda>\n    previous_getter = lambda **kwargs: default_variable_creator(None, **kwargs)\n  File \"/Users/wgiersche/Project-Ellie/capsnet-fashion/tf15/lib/python3.6/site-packages/tensorflow/python/ops/variable_scope.py\", line 2130, in default_variable_creator\n    constraint=constraint)\n  File \"/Users/wgiersche/Project-Ellie/capsnet-fashion/tf15/lib/python3.6/site-packages/tensorflow/python/ops/variables.py\", line 233, in __init__\n    constraint=constraint)\n  File \"/Users/wgiersche/Project-Ellie/capsnet-fashion/tf15/lib/python3.6/site-packages/tensorflow/python/ops/variables.py\", line 381, in _init_from_args\n    self._snapshot = array_ops.identity(self._variable, name=\"read\")\n  File \"/Users/wgiersche/Project-Ellie/capsnet-fashion/tf15/lib/python3.6/site-packages/tensorflow/python/ops/array_ops.py\", line 132, in identity\n    return gen_array_ops.identity(input, name=name)\n  File \"/Users/wgiersche/Project-Ellie/capsnet-fashion/tf15/lib/python3.6/site-packages/tensorflow/python/ops/gen_array_ops.py\", line 2051, in identity\n    \"Identity\", input=input, name=name)\n  File \"/Users/wgiersche/Project-Ellie/capsnet-fashion/tf15/lib/python3.6/site-packages/tensorflow/python/framework/op_def_library.py\", line 787, in _apply_op_helper\n    op_def=op_def)\n  File \"/Users/wgiersche/Project-Ellie/capsnet-fashion/tf15/lib/python3.6/site-packages/tensorflow/python/framework/ops.py\", line 3259, in create_op\n    op_def=op_def)\n  File \"/Users/wgiersche/Project-Ellie/capsnet-fashion/tf15/lib/python3.6/site-packages/tensorflow/python/framework/ops.py\", line 1650, in __init__\n    self._traceback = self._graph._extract_stack()  # pylint: disable=protected-access\n\nFailedPreconditionError (see above for traceback): Attempting to use uninitialized value conv1_12/kernel\n\t [[Node: conv1_12/kernel/read = Identity[T=DT_FLOAT, _class=[\"loc:@conv1_12/kernel\"], _device=\"/job:localhost/replica:0/task:0/device:CPU:0\"](conv1_12/kernel)]]\n"
     ],
     "output_type": "error"
    }
   ],
   "source": [
    "sess.run([init_op, fwd_pass])"
   ]
  },
  {
   "cell_type": "code",
   "execution_count": 55,
   "metadata": {},
   "outputs": [],
   "source": [
    "from mnist_dataset import train_input_fn as mnist_train_input_fn"
   ]
  },
  {
   "cell_type": "code",
   "execution_count": 56,
   "metadata": {},
   "outputs": [],
   "source": [
    "mnist_train = mnist_train_input_fn(\"/tmp/mnist_data\", 128, 1)"
   ]
  },
  {
   "cell_type": "code",
   "execution_count": 57,
   "metadata": {},
   "outputs": [
    {
     "data": {
      "text/plain": [
       "<RepeatDataset shapes: ((?, 784), (?,)), types: (tf.float32, tf.int32)>"
      ]
     },
     "execution_count": 57,
     "metadata": {},
     "output_type": "execute_result"
    }
   ],
   "source": [
    "mnist_train()"
   ]
  },
  {
   "cell_type": "code",
   "execution_count": 58,
   "metadata": {},
   "outputs": [],
   "source": [
    "from cifar10_dataset import train_input_fn as cifar10_train_input_fn"
   ]
  },
  {
   "cell_type": "code",
   "execution_count": 59,
   "metadata": {},
   "outputs": [],
   "source": [
    "cifar10_train = cifar10_train_input_fn(\"/var/ellie/data/cifar10_tfr\", 128, 1)"
   ]
  },
  {
   "cell_type": "code",
   "execution_count": 61,
   "metadata": {},
   "outputs": [
    {
     "data": {
      "text/plain": [
       "<RepeatDataset shapes: (?,), types: tf.string>"
      ]
     },
     "execution_count": 61,
     "metadata": {},
     "output_type": "execute_result"
    }
   ],
   "source": [
    "cifar10_train()"
   ]
  },
  {
   "cell_type": "code",
   "execution_count": 63,
   "metadata": {},
   "outputs": [],
   "source": [
    "ds = cifar10_train()"
   ]
  },
  {
   "cell_type": "code",
   "execution_count": 64,
   "metadata": {},
   "outputs": [],
   "source": [
    "iter = ds.make_one_shot_iterator()"
   ]
  },
  {
   "cell_type": "code",
   "execution_count": 67,
   "metadata": {},
   "outputs": [
    {
     "data": {
      "text/plain": [
       "<tf.Tensor 'IteratorGetNext_2:0' shape=(?,) dtype=string>"
      ]
     },
     "execution_count": 67,
     "metadata": {},
     "output_type": "execute_result"
    }
   ],
   "source": [
    "iter.get_next()"
   ]
  },
  {
   "cell_type": "code",
   "execution_count": 68,
   "metadata": {},
   "outputs": [
    {
     "data": {
      "text/plain": [
       "b'\\n\\xa3\\x18\\n\\x0e\\n\\x05label\\x12\\x05\\x1a\\x03\\n\\x01\\x06\\n\\x90\\x18\\n\\x05image\\x12\\x86\\x18\\n\\x83\\x18\\n\\x80\\x18sonmklnklpmpsmjjimomkillkkpvhloo\\x83\\x80uwqnlfm\\x8crwm`SW_lw]QIMJIOj\\x8fT\\\\am\\x84vx\\x86\\x80\\x80z\\x88\\x9f\\xa7\\x8d\\x9f\\x81j]UZ^bZBCBEY_N]TLKh}^dz\\x80\\x8b\\x8b\\x86\\x95\\x93\\x98\\xb4\\xa5\\x8d\\x89y[PSaY?AFluKA:>=d{xp`Zz\\x89\\x7f\\x7f\\x99\\xa1\\xa7\\xb1\\xa3\\x9e\\x9azWQ_iRBS\\x8e\\x93\\x84@7G9bskmg[cwo~\\x93\\x9e\\x8a\\x8b\\x88\\x83\\x8d\\x8f}XOUqv\\x92\\xba\\xac\\xaahUZ>bg_p\\xa5\\x9a]hm\\x94\\x8a\\x88\\x88\\x87\\x89|rvw_\\\\ry\\xa0\\xd4\\xcc\\xb0\\xb3\\x9c\\x92l:bd\\x7f\\xa1\\xb0\\x9etZ\\x80\\x9b\\x8c\\xa1\\x95\\x81~sou\\x80}|\\x9c\\x84\\x82\\xc5\\xd2\\xae\\xb4\\xac\\xaaw:b\\\\o\\x90\\x95bad\\xa3\\xbc\\xa9\\xa1zxwus{\\x82\\x7f\\x83\\xaa\\x9eq\\x94\\xb2\\x97\\xae\\xa4\\x95o<b]b\\x86\\x95\\x82\\x82\\x82\\xa2\\xa4\\x8b}t\\x7fzuyzz\\x83\\x97\\x9c\\x8ae\\x83\\xa9\\x95\\xa5\\xaa\\xa0h9bss\\x8e\\xad\\xac\\x85\\x84\\x89\\x83qwsxx\\x7f~~\\x85\\x80\\x89\\x89{Yr\\xaa\\xa1\\xa1\\x8d\\x87u>b|\\x8b\\x85\\xa8\\xbc\\x9c\\x8b\\x7fxx\\x83tt\\x81\\x88\\x89\\x8e\\x95\\x96|\\x84\\x8aln\\x90\\x90\\x8a\\x84\\x81|<b}\\x86\\x82\\xaa\\xa9\\x9c\\x92\\x82\\x86\\x80\\x84xw\\x8b\\x99\\x96yz\\x99\\x90\\x95\\x92\\x87qd|\\x83\\xa0\\xa1l9b\\x7f\\x97\\x95\\x85\\x92\\x99\\x89\\x8a\\x87\\x82\\x82~\\x82\\x9c\\x99\\x8d}DF\\x9b\\xa4\\xa0\\x9a{Pq\\x89\\x7fm}=a\\x82\\xa3\\x91nz\\x94\\x92\\x8b\\x83\\x7f~~\\x8d\\xa9\\x98\\x8a\\x89\\x82\\x8e\\xa3\\xa1\\xb1\\xb1}WSt|\\x80r:b}\\x90\\x8eyj\\x88\\x88\\x85\\x85\\x86~\\x8f\\x9e\\xa2\\x98\\x8b\\x7f\\x99\\xa4\\x9e\\xc0\\xbb\\x8cnhZe\\x8c\\xaez:b~\\x91\\x93\\x8ef\\x83so|\\x8a\\x93\\xa4\\x96\\x9e\\xa5\\x98\\x8d\\x9c\\x9b\\xc4\\xbb\\x7fgqyi]y\\xa6};br\\x85\\x8e\\x9dr\\x87\\x9d\\x92\\x86\\x84\\x94\\x8f\\x83\\xa2\\xbc\\xb9\\xa2\\xb0\\xcc\\xa4nq\\x84\\x92\\x86of\\x82\\x8bQ4c\\x80\\x8b\\x80wgu\\xa9\\xbe\\xaf\\xa1\\x98\\x85\\x87\\xa9\\xc3\\xb6\\xa8\\xb6\\xa0ys{\\xa4\\xba\\x86sm\\x83\\x7f,0c\\x8a\\x8d\\x95\\x8fv_a\\x92\\x96\\x8f\\x98\\x9e\\x9b\\xa3\\xaa\\x9c\\xa0\\x96\\x80\\x7ftz\\x98\\xa2\\x84yqz{62csr\\x8b\\x9e\\x84ol\\x91\\x8c\\x87\\x8c\\x9e\\x99\\xa8\\xa8\\xab\\xb0\\x8b\\x86|sw\\x7f\\x7f|wx\\xa6\\x8322d|\\x92\\xa2\\x8f\\x90\\x83q\\x88\\x91\\x9d\\xa8\\x9d\\x97\\xb1\\xb0\\x90qz\\x8b\\x84yttuz{\\x93\\xcb\\x9284c\\x8b\\xa2\\xa2\\x87\\x94\\xa1\\x7fv\\x8b\\x9c\\x97\\x89\\x9d\\xb3\\xa0ebr|\\x8e\\x88~xy\\x81\\x81\\xb2\\xd7\\xa8}<b\\x86\\x9e\\x9d\\x81\\x85\\xa2\\x83h\\x82\\x92vf\\x9d\\xb2\\x9c\\x86~\\x8a{{\\x87\\x89\\x85\\x83z\\x84\\xad\\xc5\\xa3\\x87Ab}\\x8b\\x8f}~\\x89q\\\\l\\x89zd\\x8e\\x9d\\x87\\x83\\x7f\\x85\\x9c\\x91no{uw\\x8f\\x8c\\x8d\\x87G6cxzvqxvkZ\\\\c[Rt|njz|\\xa0\\xaa\\x85our}\\x95\\x84lp,.dv~zuuomzkeV^o\\x7fywv~\\x8d\\x95\\x80`sjr\\x82v`f53cq|~zxvptns{\\x7f\\x7f\\x82\\x83\\x80\\x80\\x83\\x86\\x87~z\\x83|to\\x7fabW8b}ygkrwwmkqy~\\x80\\x80\\x81\\x81\\x82\\x82\\x84\\x81{u\\x92xe`ioeH3b~oGFdgb]U^cfikiff`eeRJ}dTTPeQ=7ciI3.330..110120/0./1.-320210-0Dgn\\\\SSQQRSSRRRRRRRRSRRSTRRSTSPPT_lpmomkkmfdhfiliklklkfddgfefkpbhmm\\x81\\x86\\x83\\x86|sl`b\\x80elkbY`jrtRE@DBAGa\\x85KV]k\\x83|\\x85\\x97\\x90\\x8a\\x80\\x88\\x99\\x9d\\x7f\\x91~kc^ikfU897:OTBQHCFf~^f\\x82\\x8a\\x96\\x97\\x8f\\x97\\x8f\\x8d\\xa7\\x9f\\x8b\\x8a}e^^gU46:ak@5.47a{tl\\\\Y\\x80\\x93\\x8c\\x89\\x9a\\x97\\x96\\xa4\\x9a\\x98\\x97|^[ijM:H\\x82\\x89z7.?4_pim_Rbxu\\x87\\x90\\x8ertvv\\x84\\x8azVOTpt\\x8a\\xaf\\xa3\\xa3bOU;^c[o\\xa2\\x95Zbc\\x8a{tpnskdjkURcl\\x99\\xcd\\xc2\\xa8\\xac\\x97\\x8dh7_^y\\x9e\\xb0\\x9fqNk\\x83u\\x8b}ed[Zblji\\x7fht\\xbe\\xca\\xa5\\xad\\xa7\\xa6s7^Ug\\x8b\\x94c_X\\x90\\xa6\\x93\\x8ab]\\\\ZZcjgk\\x86|a\\x8d\\xac\\x8d\\xa7\\xa0\\x92l9_SY\\x7f\\x91\\x80\\x80z\\x97\\x99}k`jd_abcl\\x7f{lV}\\xa1\\x8b\\x9d\\xa5\\x9de7_ps\\x8b\\xaa\\xaa\\x82~\\x80y`a_edifcljrl_Fh\\xa4\\x98\\x99\\x85\\x80q;^}\\x91\\x85\\xa3\\xb7\\x94\\x80th_h^blomr~\\x81bglR_\\x88\\x87\\x80zww:_z\\x88~\\x9f\\x9c\\x8d\\x81rtgkehv}vdk\\x86tusl]Wqy\\x97\\x98g6_{\\x98\\x8fv\\x80\\x85rtsjmor\\x86{mk95\\x7f\\x84\\x84\\x83g=c~wgy;^\\x82\\xa9\\x8e`h\\x7fztkflqu\\x8d}osp{\\x88\\x84\\x9c\\xa1jBBhu~o8_\\x83\\x9c\\x92q\\\\wuqnnm\\x7f|\\x82~tc\\x80\\x8f\\x87\\xab\\xae\\x82_THX\\x87\\xadw8_\\x87\\xa2\\xa3\\x92c\\x7fnem{\\x7f\\x88t\\x83\\x8f\\x82r\\x85\\x8e\\xbc\\xb2t]diYOs\\xa5y8_v\\x90\\x9a\\xa0p\\x85\\x9b\\x8d~}\\x85vl\\x8d\\xa7\\xa2\\x8b\\x9e\\xc2\\x9eddx\\x86x`Wz\\x8aN0`}\\x8c~p_n\\xa2\\xb9\\xac\\xa0\\x91x}\\x99\\xae\\xa1\\x98\\xa8\\x91idm\\x96\\xadxc]z}(-`\\x87\\x89\\x8d\\x81fPT\\x87\\x91\\x8e\\x93\\x95\\x93\\x91\\x93\\x89\\x93\\x8apmdl\\x8b\\x94vibqz2/`sp\\x84\\x8co[X\\x7f\\x80\\x80\\x84\\x92\\x88\\x8c\\x8c\\x9a\\xa4}xmekssnhi\\x9e\\x82..`\\x7f\\x93\\x9d\\x80yj[t\\x81\\x93\\xa0\\x90\\x7f\\x8d\\x90\\x82hn\\x7fxmhijmn\\x89\\xc6\\x9141_\\x8c\\xa3\\x9e~\\x7f\\x83ge~\\x96\\x94\\x82\\x87\\x8f\\x82^bns\\x82{snnuz\\xb3\\xd9\\xa6z9^\\x83\\x9d\\x99zu\\x89nYv\\x8cp]\\x8b\\x97\\x8a\\x8a\\x83\\x88ur{{xum~\\xad\\xc7\\xa2\\x84>^y\\x8c\\x8e{uzdRd\\x85uWw\\x81u\\x83\\x82\\x84\\x98\\x8bdcogl\\x88\\x87\\x8d\\x88D3_x\\x81~x|xkZ^h\\\\J`d\\\\c}~\\x9f\\xa7\\x81jokx\\x90|ku*+`|\\x8e\\x8c\\x88\\x8b\\x84}\\x85yt_ar\\x7fxz\\x80\\x88\\x93\\x99\\x83cvls\\x7fl^o40_x\\x8b\\x91\\x93\\x95\\x93\\x8b\\x8a\\x84\\x8b\\x91\\x94\\x99\\x9b\\x99\\x97\\x97\\x9a\\x9a\\x9a\\x8d\\x86\\x8e\\x85{mt`nZ7^\\x7f~s\\x80\\x89\\x8e\\x8e\\x83\\x80\\x88\\x93\\x9a\\x9c\\x9c\\x9d\\x9c\\x9c\\x9c\\x9e\\x9b\\x8e\\x82\\x9f\\x84o_^nsN5_zlJNnqlf_hnruwusrlqp[R\\x84jXRFc[@7`aA/,330--00/01/./--/..31.-*/2/AdhUMONNOOONNNNNNNNONMNNMMMMOPPOZhJJEEIOUNGKIKKC>=DMQPNGFJJFNVIKFC^`SZ\\\\\\\\_UUqSXTC/.=O`OD9967?\\\\\\x83IIAAd]_kgieu\\x8f\\x94w\\x89tYF879AE599;PYJ[SC2@cLTfgrqp\\x85\\x85\\x8d\\xaa\\x9f\\x86\\x7flA+-GE0<DgoG>99(AckgPIlynp\\x8e\\x9b\\xa2\\xaa\\x9f\\x9d\\x9bsC7ISB>Q\\x84\\x85y94B&A[bfVQetfv\\x88\\x8ewuy~\\x8f\\x92yK=Ber\\x8b\\xaa\\x98\\x9caSU)@NUg\\x99\\x99efe\\x8evcZ_hc`jkPIWd\\x98\\xcc\\xbd\\x9d\\xa5\\x94\\x8fg%@It\\x96\\xab\\xa6\\x7fUl\\x84mxgXZSS[feev`t\\xbe\\xc6\\x9d\\xa7\\xa3\\xa5q%@Ac\\x84\\x90kj\\\\\\x86\\x95\\x86\\x82^ZYYXZ``f{r_\\x8d\\xa9\\x88\\xa1\\x9a\\x8ei\\'@AUy\\x8d\\x86\\x87v\\x89\\x8crbWb\\\\VXXX`tj^R}\\xa1\\x88\\x98\\x9e\\x97b%@_p\\x83\\xa1\\xa7\\x80vvrZYTZW[WWa]a\\\\Q;g\\xa6\\x97\\x97\\x82}n)=l\\x8ez\\x96\\xad\\x8bxj_ZdYXac`esuQY]AZ\\x8c\\x88\\x81{xs&=f\\x81r\\x92\\x92\\x83xhj_bZ\\\\jpiYc~hhaZXZsz\\x98\\x99c\"=a\\x8a\\x81htzhjh^]\\\\cyn_`2/vurtb@f\\x7fwgu\\'<c\\x93|PYqmhaXUXg\\x80l]fhrzt\\x8d\\x98kGFju|j$=^}yZFdbab\\\\Sdptk`Tu\\x83v\\x9c\\xa5\\x7fcZKY\\x85\\xabs$=]wwkBbUQY_ctfozrcw\\x84\\xb5\\xaes^gmZLn\\xa4x&>Rpz\\x80Rg\\x7fsbXb\\\\Ur\\x8f\\x92\\x81\\x96\\xbd\\x9chk~\\x8c~dVx\\x8cN ?f\\x84zdKT\\x83\\x98\\x8ayjU]x\\x91\\x8d\\x92\\xa6\\x90iky\\xa2\\xb9\\x83k`}\\x83)\\x1c?v\\x8f\\x97\\x7fX;6iuqstsqwt\\x8b\\x87omkx\\x96\\xa0\\x81pds\\x7f3\\x1e?bx\\x8b\\x87aH@istt{osw\\x89\\x97ttnjqyyukg\\x9c\\x84/\\x1e?l\\x95\\x9fyn[Hh\\x81\\x96\\x9d\\x83n{~oNZxzqjikom\\x84\\xc1\\x8e2 ?x\\xa2\\x9f{wvU\\\\\\x85\\x9d\\x95{z\\x80qG=Qk\\x84\\x81tkmvx\\xaf\\xd3\\x9ft(@p\\x9c\\x9bwlz\\\\Nx\\x92v\\\\~\\x89}{gsmn}}wxr\\x80\\xb0\\xc5\\x9a|-?g\\x8a\\x8f|tt_K]\\x84xVjtl}|\\x83\\x9b\\x8cebmjr\\x8e\\x91\\x8c|<\"@e}|y}tlTL[R=KOKY{\\x83\\xa5\\xa9{^eix\\x93\\x87g`!\\x1aBg\\x87\\x86{vmms]ZDBPXRZfu\\x83\\x86mLaal|uTQ*\\x1fAc\\x87\\x89xpmhnjic]ba__cjnneaoojgxPKO\\'Al}idinnjmhb`bccdhinnc[\\x7fj[X^]QA#Cdf=9X[VSNRPPRTRPRNUW@6mWIJCS>0\"AG3\\x1d\\x18  \\x1d\\x1a\\x1a\\x1d\\x1e\\x1c\\x1c\\x1d\\x1c\\x1b\\x1c\\x1b\\x1f#\\x1c\\x19 !\\x1f!\\x1e\\x1b\\x17\\x1a\\'BH>53112344555555468:7533565215<D'"
      ]
     },
     "execution_count": 68,
     "metadata": {},
     "output_type": "execute_result"
    }
   ],
   "source": [
    "sess.run(iter.get_next()[0])"
   ]
  },
  {
   "cell_type": "code",
   "execution_count": null,
   "metadata": {},
   "outputs": [],
   "source": []
  }
 ],
 "metadata": {
  "kernelspec": {
   "display_name": "Python 3",
   "language": "python",
   "name": "python3"
  },
  "language_info": {
   "codemirror_mode": {
    "name": "ipython",
    "version": 3
   },
   "file_extension": ".py",
   "mimetype": "text/x-python",
   "name": "python",
   "nbconvert_exporter": "python",
   "pygments_lexer": "ipython3",
   "version": "3.6.0"
  }
 },
 "nbformat": 4,
 "nbformat_minor": 2
}
