{
 "cells": [
  {
   "cell_type": "code",
   "execution_count": 1,
   "metadata": {},
   "outputs": [],
   "source": [
    "from batchers import MnistBatcher"
   ]
  },
  {
   "cell_type": "markdown",
   "metadata": {},
   "source": [
    "# Exploring the data"
   ]
  },
  {
   "cell_type": "code",
   "execution_count": 2,
   "metadata": {},
   "outputs": [],
   "source": [
    "IMG_FILE = './testdata/t10k-images-idx3-ubyte.gz'\n",
    "LBL_FILE = './testdata/t10k-labels-idx1-ubyte.gz'\n",
    "batcher = MnistBatcher(IMG_FILE, LBL_FILE, 10000)"
   ]
  },
  {
   "cell_type": "code",
   "execution_count": null,
   "metadata": {},
   "outputs": [],
   "source": [
    "batcher.imgs[5,10:18,10:18,0]"
   ]
  },
  {
   "cell_type": "code",
   "execution_count": null,
   "metadata": {},
   "outputs": [],
   "source": [
    "batcher.imgs.shape"
   ]
  },
  {
   "cell_type": "code",
   "execution_count": null,
   "metadata": {},
   "outputs": [],
   "source": [
    "imgs, lbls = batcher.next_batch(20)"
   ]
  },
  {
   "cell_type": "code",
   "execution_count": null,
   "metadata": {},
   "outputs": [],
   "source": [
    "lbls"
   ]
  },
  {
   "cell_type": "markdown",
   "metadata": {},
   "source": [
    "# The analytics part\n",
    "Here's where the real stuff happens"
   ]
  },
  {
   "cell_type": "code",
   "execution_count": 3,
   "metadata": {},
   "outputs": [
    {
     "name": "stderr",
     "output_type": "stream",
     "text": [
      "/Users/wgiersche/Project-Ellie/capsnet-fashion/venv/lib/python3.6/importlib/_bootstrap.py:205: RuntimeWarning: compiletime version 3.5 of module 'tensorflow.python.framework.fast_tensor_util' does not match runtime version 3.6\n",
      "  return f(*args, **kwds)\n"
     ]
    }
   ],
   "source": [
    "import tensorflow as tf\n",
    "import numpy as np\n",
    "from matplotlib import pyplot as plt\n",
    "SEED=1234"
   ]
  },
  {
   "cell_type": "code",
   "execution_count": 4,
   "metadata": {},
   "outputs": [],
   "source": [
    "def createGraph(name):\n",
    "    with tf.name_scope(name):\n",
    "        images = tf.placeholder(tf.float32, shape=[None, 784], name=\"images\")\n",
    "        labels = tf.placeholder(tf.int32, shape=[None], name=\"labels\")   \n",
    "        rnd_w = tf.truncated_normal([784, 10], mean=0.0, stddev=0.1, dtype=tf.float32, seed=SEED)\n",
    "        W = tf.Variable(rnd_w)\n",
    "        b = tf.Variable(tf.zeros([10]), dtype=tf.float32)\n",
    "        Z = tf.matmul(images, W) + b\n",
    "        A = tf.nn.softmax(Z, name=\"activation\")\n",
    "        Y_ = tf.one_hot(labels,10)\n",
    "        objective = tf.reduce_mean(tf.nn.softmax_cross_entropy_with_logits(labels=Y_, logits=A), name=\"objective\")\n",
    "        return A, objective, images, labels"
   ]
  },
  {
   "cell_type": "code",
   "execution_count": 10,
   "metadata": {},
   "outputs": [],
   "source": [
    "scope=\"mnist_softmax_regression\"\n",
    "A, objective, images, labels = createGraph(scope)"
   ]
  },
  {
   "cell_type": "code",
   "execution_count": null,
   "metadata": {},
   "outputs": [],
   "source": [
    "train_step=tf.train.GradientDescentOptimizer(.3).minimize(objective)"
   ]
  },
  {
   "cell_type": "code",
   "execution_count": 11,
   "metadata": {},
   "outputs": [],
   "source": [
    "saver = tf.train.Saver()"
   ]
  },
  {
   "cell_type": "code",
   "execution_count": null,
   "metadata": {},
   "outputs": [],
   "source": [
    "with tf.Session() as sess:\n",
    "    sess.run(tf.global_variables_initializer())\n",
    "    for _ in range(1000):\n",
    "        batcher.reset()\n",
    "        IMAGES, LABELS = batcher.next_batch(1000)\n",
    "        X = IMAGES.reshape(-1, 784)\n",
    "        train_step.run(session=sess, feed_dict={images: X, labels: LABELS})\n",
    "    path = saver.save(sess, \"./model.cpkt\")"
   ]
  },
  {
   "cell_type": "code",
   "execution_count": 12,
   "metadata": {},
   "outputs": [
    {
     "name": "stdout",
     "output_type": "stream",
     "text": [
      "INFO:tensorflow:Restoring parameters from ./model.cpkt\n"
     ]
    }
   ],
   "source": [
    "with tf.Session() as sess:\n",
    "    saver.restore(sess, \"./model.cpkt\")\n",
    "    batcher.reset()\n",
    "    img, _ = batcher.next_batch(16)\n",
    "    img = img.reshape(-1, 784)\n",
    "    res=sess.run(A, feed_dict={images: img})"
   ]
  },
  {
   "cell_type": "code",
   "execution_count": 9,
   "metadata": {},
   "outputs": [],
   "source": [
    "tf.reset_default_graph()"
   ]
  },
  {
   "cell_type": "code",
   "execution_count": null,
   "metadata": {},
   "outputs": [],
   "source": [
    "import os\n",
    "os.environ[\"TMPDIR\"]"
   ]
  },
  {
   "cell_type": "code",
   "execution_count": 13,
   "metadata": {},
   "outputs": [
    {
     "data": {
      "text/plain": [
       "array([7, 2, 1, 0, 4, 1, 4, 9, 6, 9, 0, 6, 9, 0, 1, 5])"
      ]
     },
     "execution_count": 13,
     "metadata": {},
     "output_type": "execute_result"
    }
   ],
   "source": [
    "np.argmax(res, axis=1)"
   ]
  },
  {
   "cell_type": "code",
   "execution_count": 14,
   "metadata": {},
   "outputs": [
    {
     "data": {
      "image/png": "[encoded data removed]",
      "text/plain": [
       "<matplotlib.figure.Figure at 0x113bb5908>"
      ]
     },
     "metadata": {},
     "output_type": "display_data"
    }
   ],
   "source": [
    "batcher.reset()\n",
    "f, arr = plt.subplots(2,8)\n",
    "for row in (0, 1):\n",
    "    batch, _ = batcher.next_batch(8)\n",
    "    for col in range(8):\n",
    "        arr[row, col].imshow(batch[col, :, :])\n",
    "        "
   ]
  },
  {
   "cell_type": "code",
   "execution_count": null,
   "metadata": {},
   "outputs": [],
   "source": []
  }
 ],
 "metadata": {
  "kernelspec": {
   "display_name": "Python 2",
   "language": "python",
   "name": "python2"
  },
  "language_info": {
   "codemirror_mode": {
    "name": "ipython",
    "version": 3
   },
   "file_extension": ".py",
   "mimetype": "text/x-python",
   "name": "python",
   "nbconvert_exporter": "python",
   "pygments_lexer": "ipython3",
   "version": "3.6.0"
  }
 },
 "nbformat": 4,
 "nbformat_minor": 1
}
