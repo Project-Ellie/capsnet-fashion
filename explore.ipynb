{
 "cells": [
  {
   "cell_type": "code",
   "execution_count": 2,
   "metadata": {},
   "outputs": [
    {
     "name": "stderr",
     "output_type": "stream",
     "text": [
      "/Users/wgiersche/Project-Ellie/capsnet-fashion/venv/lib/python3.6/importlib/_bootstrap.py:205: RuntimeWarning: compiletime version 3.5 of module 'tensorflow.python.framework.fast_tensor_util' does not match runtime version 3.6\n",
      "  return f(*args, **kwds)\n"
     ]
    }
   ],
   "source": [
    "import os\n",
    "import tensorflow as tf\n",
    "tf.reset_default_graph()\n",
    "import numpy as np\n",
    "from matplotlib import pyplot as plt\n",
    "import png\n",
    "\n",
    "from models.particular import MODEL_FILE\n",
    "from mnist import test_batcher as batcher"
   ]
  },
  {
   "cell_type": "code",
   "execution_count": 3,
   "metadata": {},
   "outputs": [
    {
     "name": "stdout",
     "output_type": "stream",
     "text": [
      "INFO:tensorflow:Restoring parameters from /var/ellie/models/mnist/model.ckpt\n"
     ]
    }
   ],
   "source": [
    "batch_size=10000\n",
    "with tf.Session() as sess:\n",
    "    from models.particular import dense_4_layers\n",
    "    model = dense_4_layers()\n",
    "    saver = tf.train.Saver()\n",
    "    saver.restore(sess, MODEL_FILE)\n",
    "    batcher.reset()\n",
    "    img, lbls = batcher.next_batch(batch_size)\n",
    "    img = img.reshape(-1, 784)\n",
    "    lbls = np.int32(lbls)\n",
    "    inference = sess.run(model.activation, feed_dict={model.samples: img})\n",
    "    predicted = np.argmax(inference, axis=1)\n",
    "    failed = (1 - np.equal( predicted, lbls)) * range(batch_size)"
   ]
  },
  {
   "cell_type": "code",
   "execution_count": 4,
   "metadata": {},
   "outputs": [],
   "source": [
    "failed_indices=[i for i in filter(lambda x: x>0, failed)]"
   ]
  },
  {
   "cell_type": "code",
   "execution_count": 5,
   "metadata": {},
   "outputs": [
    {
     "data": {
      "text/plain": [
       "[149, 247, 321, 381, 445, 449, 495, 582, 659, 691]"
      ]
     },
     "execution_count": 5,
     "metadata": {},
     "output_type": "execute_result"
    }
   ],
   "source": [
    "failed_indices[0:10]"
   ]
  },
  {
   "cell_type": "code",
   "execution_count": 6,
   "metadata": {},
   "outputs": [],
   "source": [
    "idx = 247\n",
    "record = {\"index\": idx, \"lbl\": lbls[idx], \"pred\": predicted[idx]} "
   ]
  },
  {
   "cell_type": "code",
   "execution_count": 7,
   "metadata": {},
   "outputs": [
    {
     "data": {
      "text/plain": [
       "200"
      ]
     },
     "execution_count": 7,
     "metadata": {},
     "output_type": "execute_result"
    }
   ],
   "source": [
    "failed_records=[{\"index\": idx, \"lbl\": lbls[idx], \"pred\": predicted[idx]} \n",
    "                for idx in filter(lambda x: x>0, failed)]\n",
    "len(failed_records)"
   ]
  },
  {
   "cell_type": "code",
   "execution_count": 8,
   "metadata": {},
   "outputs": [
    {
     "data": {
      "text/plain": [
       "{'index': 449, 'lbl': 3, 'pred': 5}"
      ]
     },
     "execution_count": 8,
     "metadata": {},
     "output_type": "execute_result"
    }
   ],
   "source": [
    "failed_records[5]"
   ]
  },
  {
   "cell_type": "code",
   "execution_count": 9,
   "metadata": {},
   "outputs": [],
   "source": [
    "dir='app/images'\n",
    "for img in os.listdir(dir):\n",
    "    path = os.path.join(dir, img)\n",
    "    try:\n",
    "        if os.path.isfile(path):\n",
    "            os.unlink(path)\n",
    "    except Exception as e:\n",
    "        print(e)"
   ]
  },
  {
   "cell_type": "code",
   "execution_count": 13,
   "metadata": {},
   "outputs": [
    {
     "name": "stdout",
     "output_type": "stream",
     "text": [
      "{'index': 1014, 'lbl': 6, 'pred': 5}\n",
      "{'index': 1112, 'lbl': 4, 'pred': 6}\n",
      "{'index': 1128, 'lbl': 3, 'pred': 7}\n",
      "{'index': 1166, 'lbl': 3, 'pred': 5}\n",
      "{'index': 1178, 'lbl': 4, 'pred': 0}\n",
      "{'index': 1192, 'lbl': 9, 'pred': 4}\n",
      "{'index': 1226, 'lbl': 7, 'pred': 2}\n",
      "{'index': 1232, 'lbl': 9, 'pred': 4}\n",
      "{'index': 1242, 'lbl': 4, 'pred': 9}\n",
      "{'index': 1247, 'lbl': 9, 'pred': 5}\n",
      "{'index': 1260, 'lbl': 7, 'pred': 1}\n",
      "{'index': 1299, 'lbl': 5, 'pred': 7}\n",
      "{'index': 1319, 'lbl': 8, 'pred': 3}\n",
      "{'index': 1393, 'lbl': 5, 'pred': 3}\n",
      "{'index': 1414, 'lbl': 9, 'pred': 7}\n",
      "{'index': 1425, 'lbl': 8, 'pred': 4}\n"
     ]
    },
    {
     "data": {
      "image/png": "[encoded data removed]",
      "text/plain": [
       "<matplotlib.figure.Figure at 0x11ed804a8>"
      ]
     },
     "metadata": {},
     "output_type": "display_data"
    }
   ],
   "source": [
    "batcher.reset()\n",
    "imgs, _ = batcher.next_batch(10000)\n",
    "f, arr = plt.subplots(2,8)\n",
    "for row in (0, 1):\n",
    "    for col in range(8):\n",
    "        i = 8 * row + col\n",
    "        record = failed_records[i+16]\n",
    "        print(record)\n",
    "        img = imgs[record[\"index\"]]        \n",
    "        arr[row, col].imshow(img)\n",
    "        "
   ]
  },
  {
   "cell_type": "code",
   "execution_count": 11,
   "metadata": {},
   "outputs": [
    {
     "name": "stdout",
     "output_type": "stream",
     "text": [
      "INFO:tensorflow:Restoring parameters from /var/ellie/models/mnist/model.ckpt\n"
     ]
    },
    {
     "data": {
      "text/plain": [
       "[{'index': 149, 'lbl': 2, 'pred': 4},\n",
       " {'index': 247, 'lbl': 4, 'pred': 2},\n",
       " {'index': 321, 'lbl': 2, 'pred': 7},\n",
       " {'index': 381, 'lbl': 3, 'pred': 7},\n",
       " {'index': 445, 'lbl': 6, 'pred': 0},\n",
       " {'index': 449, 'lbl': 3, 'pred': 5},\n",
       " {'index': 495, 'lbl': 8, 'pred': 0},\n",
       " {'index': 582, 'lbl': 8, 'pred': 2},\n",
       " {'index': 659, 'lbl': 2, 'pred': 1},\n",
       " {'index': 691, 'lbl': 8, 'pred': 4},\n",
       " {'index': 844, 'lbl': 8, 'pred': 7},\n",
       " {'index': 882, 'lbl': 9, 'pred': 7},\n",
       " {'index': 924, 'lbl': 2, 'pred': 7},\n",
       " {'index': 947, 'lbl': 8, 'pred': 9},\n",
       " {'index': 951, 'lbl': 5, 'pred': 7},\n",
       " {'index': 956, 'lbl': 1, 'pred': 2},\n",
       " {'index': 1014, 'lbl': 6, 'pred': 5},\n",
       " {'index': 1112, 'lbl': 4, 'pred': 6},\n",
       " {'index': 1128, 'lbl': 3, 'pred': 7},\n",
       " {'index': 1166, 'lbl': 3, 'pred': 5},\n",
       " {'index': 1178, 'lbl': 4, 'pred': 0},\n",
       " {'index': 1192, 'lbl': 9, 'pred': 4},\n",
       " {'index': 1226, 'lbl': 7, 'pred': 2},\n",
       " {'index': 1232, 'lbl': 9, 'pred': 4},\n",
       " {'index': 1242, 'lbl': 4, 'pred': 9},\n",
       " {'index': 1247, 'lbl': 9, 'pred': 5},\n",
       " {'index': 1260, 'lbl': 7, 'pred': 1},\n",
       " {'index': 1299, 'lbl': 5, 'pred': 7},\n",
       " {'index': 1319, 'lbl': 8, 'pred': 3},\n",
       " {'index': 1393, 'lbl': 5, 'pred': 3},\n",
       " {'index': 1414, 'lbl': 9, 'pred': 7},\n",
       " {'index': 1425, 'lbl': 8, 'pred': 4},\n",
       " {'index': 1444, 'lbl': 6, 'pred': 7},\n",
       " {'index': 1500, 'lbl': 7, 'pred': 1},\n",
       " {'index': 1522, 'lbl': 7, 'pred': 9},\n",
       " {'index': 1527, 'lbl': 1, 'pred': 5},\n",
       " {'index': 1530, 'lbl': 8, 'pred': 7},\n",
       " {'index': 1549, 'lbl': 4, 'pred': 6},\n",
       " {'index': 1609, 'lbl': 2, 'pred': 6},\n",
       " {'index': 1621, 'lbl': 0, 'pred': 6},\n",
       " {'index': 1681, 'lbl': 3, 'pred': 7},\n",
       " {'index': 1709, 'lbl': 9, 'pred': 3},\n",
       " {'index': 1717, 'lbl': 8, 'pred': 0},\n",
       " {'index': 1790, 'lbl': 2, 'pred': 7},\n",
       " {'index': 1901, 'lbl': 9, 'pred': 4},\n",
       " {'index': 1930, 'lbl': 2, 'pred': 4},\n",
       " {'index': 1940, 'lbl': 5, 'pred': 0},\n",
       " {'index': 1941, 'lbl': 7, 'pred': 2},\n",
       " {'index': 1987, 'lbl': 0, 'pred': 9},\n",
       " {'index': 2004, 'lbl': 8, 'pred': 3},\n",
       " {'index': 2018, 'lbl': 1, 'pred': 7},\n",
       " {'index': 2035, 'lbl': 5, 'pred': 3},\n",
       " {'index': 2044, 'lbl': 2, 'pred': 7},\n",
       " {'index': 2053, 'lbl': 4, 'pred': 9},\n",
       " {'index': 2098, 'lbl': 2, 'pred': 0},\n",
       " {'index': 2109, 'lbl': 3, 'pred': 7},\n",
       " {'index': 2118, 'lbl': 6, 'pred': 0},\n",
       " {'index': 2135, 'lbl': 6, 'pred': 1},\n",
       " {'index': 2182, 'lbl': 1, 'pred': 2},\n",
       " {'index': 2266, 'lbl': 1, 'pred': 6},\n",
       " {'index': 2272, 'lbl': 8, 'pred': 6},\n",
       " {'index': 2293, 'lbl': 9, 'pred': 6},\n",
       " {'index': 2299, 'lbl': 2, 'pred': 7},\n",
       " {'index': 2369, 'lbl': 5, 'pred': 7},\n",
       " {'index': 2387, 'lbl': 9, 'pred': 1},\n",
       " {'index': 2414, 'lbl': 9, 'pred': 4},\n",
       " {'index': 2422, 'lbl': 6, 'pred': 7},\n",
       " {'index': 2433, 'lbl': 2, 'pred': 1},\n",
       " {'index': 2488, 'lbl': 2, 'pred': 4},\n",
       " {'index': 2514, 'lbl': 4, 'pred': 9},\n",
       " {'index': 2597, 'lbl': 5, 'pred': 3},\n",
       " {'index': 2607, 'lbl': 7, 'pred': 2},\n",
       " {'index': 2648, 'lbl': 9, 'pred': 0},\n",
       " {'index': 2654, 'lbl': 6, 'pred': 1},\n",
       " {'index': 2720, 'lbl': 9, 'pred': 4},\n",
       " {'index': 2721, 'lbl': 6, 'pred': 5},\n",
       " {'index': 2810, 'lbl': 5, 'pred': 3},\n",
       " {'index': 2877, 'lbl': 4, 'pred': 7},\n",
       " {'index': 2921, 'lbl': 3, 'pred': 2},\n",
       " {'index': 2927, 'lbl': 3, 'pred': 2},\n",
       " {'index': 2939, 'lbl': 9, 'pred': 7},\n",
       " {'index': 2953, 'lbl': 3, 'pred': 5},\n",
       " {'index': 3030, 'lbl': 6, 'pred': 8},\n",
       " {'index': 3060, 'lbl': 9, 'pred': 7},\n",
       " {'index': 3073, 'lbl': 1, 'pred': 2},\n",
       " {'index': 3117, 'lbl': 5, 'pred': 9},\n",
       " {'index': 3251, 'lbl': 0, 'pred': 9},\n",
       " {'index': 3422, 'lbl': 6, 'pred': 0},\n",
       " {'index': 3475, 'lbl': 3, 'pred': 7},\n",
       " {'index': 3503, 'lbl': 9, 'pred': 1},\n",
       " {'index': 3520, 'lbl': 6, 'pred': 4},\n",
       " {'index': 3549, 'lbl': 3, 'pred': 2},\n",
       " {'index': 3558, 'lbl': 5, 'pred': 0},\n",
       " {'index': 3559, 'lbl': 8, 'pred': 5},\n",
       " {'index': 3567, 'lbl': 8, 'pred': 5},\n",
       " {'index': 3597, 'lbl': 9, 'pred': 3},\n",
       " {'index': 3727, 'lbl': 8, 'pred': 4},\n",
       " {'index': 3776, 'lbl': 5, 'pred': 8},\n",
       " {'index': 3780, 'lbl': 4, 'pred': 6},\n",
       " {'index': 3796, 'lbl': 2, 'pred': 8},\n",
       " {'index': 3811, 'lbl': 2, 'pred': 7},\n",
       " {'index': 3818, 'lbl': 0, 'pred': 6},\n",
       " {'index': 3853, 'lbl': 6, 'pred': 2},\n",
       " {'index': 3893, 'lbl': 5, 'pred': 6},\n",
       " {'index': 3902, 'lbl': 5, 'pred': 3},\n",
       " {'index': 3906, 'lbl': 1, 'pred': 2},\n",
       " {'index': 3941, 'lbl': 4, 'pred': 2},\n",
       " {'index': 3946, 'lbl': 2, 'pred': 3},\n",
       " {'index': 3976, 'lbl': 7, 'pred': 1},\n",
       " {'index': 3985, 'lbl': 9, 'pred': 4},\n",
       " {'index': 4065, 'lbl': 0, 'pred': 2},\n",
       " {'index': 4078, 'lbl': 9, 'pred': 3},\n",
       " {'index': 4140, 'lbl': 8, 'pred': 2},\n",
       " {'index': 4163, 'lbl': 9, 'pred': 0},\n",
       " {'index': 4176, 'lbl': 2, 'pred': 7},\n",
       " {'index': 4201, 'lbl': 1, 'pred': 7},\n",
       " {'index': 4224, 'lbl': 9, 'pred': 7},\n",
       " {'index': 4248, 'lbl': 2, 'pred': 8},\n",
       " {'index': 4289, 'lbl': 2, 'pred': 7},\n",
       " {'index': 4306, 'lbl': 3, 'pred': 7},\n",
       " {'index': 4437, 'lbl': 3, 'pred': 2},\n",
       " {'index': 4443, 'lbl': 3, 'pred': 2},\n",
       " {'index': 4477, 'lbl': 0, 'pred': 6},\n",
       " {'index': 4497, 'lbl': 8, 'pred': 7},\n",
       " {'index': 4536, 'lbl': 6, 'pred': 5},\n",
       " {'index': 4601, 'lbl': 8, 'pred': 4},\n",
       " {'index': 4639, 'lbl': 8, 'pred': 9},\n",
       " {'index': 4731, 'lbl': 8, 'pred': 7},\n",
       " {'index': 4740, 'lbl': 3, 'pred': 5},\n",
       " {'index': 4761, 'lbl': 9, 'pred': 7},\n",
       " {'index': 4807, 'lbl': 8, 'pred': 3},\n",
       " {'index': 4823, 'lbl': 9, 'pred': 4},\n",
       " {'index': 4880, 'lbl': 0, 'pred': 6},\n",
       " {'index': 4956, 'lbl': 8, 'pred': 4},\n",
       " {'index': 5046, 'lbl': 3, 'pred': 5},\n",
       " {'index': 5199, 'lbl': 6, 'pred': 4},\n",
       " {'index': 5331, 'lbl': 1, 'pred': 6},\n",
       " {'index': 5457, 'lbl': 1, 'pred': 8},\n",
       " {'index': 5495, 'lbl': 8, 'pred': 3},\n",
       " {'index': 5642, 'lbl': 1, 'pred': 5},\n",
       " {'index': 5676, 'lbl': 4, 'pred': 7},\n",
       " {'index': 5734, 'lbl': 3, 'pred': 7},\n",
       " {'index': 5749, 'lbl': 8, 'pred': 6},\n",
       " {'index': 5842, 'lbl': 4, 'pred': 7},\n",
       " {'index': 5936, 'lbl': 4, 'pred': 9},\n",
       " {'index': 5937, 'lbl': 5, 'pred': 3},\n",
       " {'index': 5955, 'lbl': 3, 'pred': 8},\n",
       " {'index': 5972, 'lbl': 5, 'pred': 3},\n",
       " {'index': 5973, 'lbl': 3, 'pred': 8},\n",
       " {'index': 6011, 'lbl': 3, 'pred': 5},\n",
       " {'index': 6035, 'lbl': 2, 'pred': 0},\n",
       " {'index': 6045, 'lbl': 3, 'pred': 9},\n",
       " {'index': 6059, 'lbl': 3, 'pred': 9},\n",
       " {'index': 6166, 'lbl': 9, 'pred': 3},\n",
       " {'index': 6505, 'lbl': 9, 'pred': 0},\n",
       " {'index': 6532, 'lbl': 0, 'pred': 5},\n",
       " {'index': 6555, 'lbl': 8, 'pred': 7},\n",
       " {'index': 6571, 'lbl': 9, 'pred': 7},\n",
       " {'index': 6597, 'lbl': 0, 'pred': 7},\n",
       " {'index': 6625, 'lbl': 8, 'pred': 7},\n",
       " {'index': 6632, 'lbl': 9, 'pred': 5},\n",
       " {'index': 6651, 'lbl': 0, 'pred': 5},\n",
       " {'index': 6755, 'lbl': 8, 'pred': 9},\n",
       " {'index': 7107, 'lbl': 9, 'pred': 7},\n",
       " {'index': 7216, 'lbl': 0, 'pred': 7},\n",
       " {'index': 7472, 'lbl': 2, 'pred': 7},\n",
       " {'index': 7492, 'lbl': 2, 'pred': 7},\n",
       " {'index': 7886, 'lbl': 2, 'pred': 4},\n",
       " {'index': 8059, 'lbl': 2, 'pred': 1},\n",
       " {'index': 8062, 'lbl': 5, 'pred': 8},\n",
       " {'index': 8094, 'lbl': 2, 'pred': 1},\n",
       " {'index': 8183, 'lbl': 8, 'pred': 5},\n",
       " {'index': 8246, 'lbl': 3, 'pred': 9},\n",
       " {'index': 8255, 'lbl': 4, 'pred': 7},\n",
       " {'index': 8277, 'lbl': 3, 'pred': 9},\n",
       " {'index': 8311, 'lbl': 6, 'pred': 4},\n",
       " {'index': 8325, 'lbl': 0, 'pred': 6},\n",
       " {'index': 8339, 'lbl': 8, 'pred': 6},\n",
       " {'index': 8408, 'lbl': 8, 'pred': 5},\n",
       " {'index': 8456, 'lbl': 8, 'pred': 0},\n",
       " {'index': 8522, 'lbl': 8, 'pred': 6},\n",
       " {'index': 8527, 'lbl': 4, 'pred': 9},\n",
       " {'index': 9009, 'lbl': 7, 'pred': 2},\n",
       " {'index': 9024, 'lbl': 7, 'pred': 2},\n",
       " {'index': 9587, 'lbl': 9, 'pred': 4},\n",
       " {'index': 9634, 'lbl': 0, 'pred': 1},\n",
       " {'index': 9642, 'lbl': 9, 'pred': 7},\n",
       " {'index': 9664, 'lbl': 2, 'pred': 7},\n",
       " {'index': 9669, 'lbl': 4, 'pred': 7},\n",
       " {'index': 9679, 'lbl': 6, 'pred': 3},\n",
       " {'index': 9692, 'lbl': 9, 'pred': 7},\n",
       " {'index': 9719, 'lbl': 5, 'pred': 0},\n",
       " {'index': 9729, 'lbl': 5, 'pred': 6},\n",
       " {'index': 9745, 'lbl': 4, 'pred': 0},\n",
       " {'index': 9768, 'lbl': 2, 'pred': 0},\n",
       " {'index': 9770, 'lbl': 5, 'pred': 0},\n",
       " {'index': 9808, 'lbl': 9, 'pred': 7},\n",
       " {'index': 9839, 'lbl': 2, 'pred': 7},\n",
       " {'index': 9858, 'lbl': 6, 'pred': 8},\n",
       " {'index': 9944, 'lbl': 3, 'pred': 8}]"
      ]
     },
     "execution_count": 11,
     "metadata": {},
     "output_type": "execute_result"
    }
   ],
   "source": [
    "from services.predictions.mnist_prediction import MnistPredictionService\n",
    "mnist_service = MnistPredictionService()\n",
    "mnist_service.list_failed(10000)"
   ]
  },
  {
   "cell_type": "code",
   "execution_count": 12,
   "metadata": {},
   "outputs": [
    {
     "name": "stdout",
     "output_type": "stream",
     "text": [
      "INFO:tensorflow:Restoring parameters from /var/ellie/models/mnist/model.ckpt\n"
     ]
    }
   ],
   "source": [
    "mnist_service.create_failed_pngs(10000)"
   ]
  },
  {
   "cell_type": "code",
   "execution_count": 3,
   "metadata": {},
   "outputs": [],
   "source": [
    "mnist_service.clean_img_dir()"
   ]
  },
  {
   "cell_type": "code",
   "execution_count": null,
   "metadata": {},
   "outputs": [],
   "source": []
  }
 ],
 "metadata": {
  "kernelspec": {
   "display_name": "Python 2",
   "language": "python",
   "name": "python2"
  },
  "language_info": {
   "codemirror_mode": {
    "name": "ipython",
    "version": 3
   },
   "file_extension": ".py",
   "mimetype": "text/x-python",
   "name": "python",
   "nbconvert_exporter": "python",
   "pygments_lexer": "ipython3",
   "version": "3.6.0"
  }
 },
 "nbformat": 4,
 "nbformat_minor": 1
}
